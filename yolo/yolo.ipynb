{
 "cells": [
  {
   "cell_type": "code",
   "execution_count": 1,
   "id": "d741ad1a",
   "metadata": {},
   "outputs": [],
   "source": [
    "from ultralytics import YOLO"
   ]
  },
  {
   "cell_type": "code",
   "execution_count": 3,
   "id": "1dc5805b",
   "metadata": {},
   "outputs": [
    {
     "name": "stdout",
     "output_type": "stream",
     "text": [
      "\n",
      "image 1/1 f:\\deep_learning\\yolo\\bag.jpg: 640x448 1 backpack, 1 suitcase, 123.7ms\n",
      "Speed: 4.9ms preprocess, 123.7ms inference, 9.7ms postprocess per image at shape (1, 3, 640, 448)\n"
     ]
    }
   ],
   "source": [
    "# Load a model\n",
    "model = YOLO('yolov8n.pt')\n",
    "\n",
    "result = model('bag.jpg')  # predict on an image"
   ]
  },
  {
   "cell_type": "code",
   "execution_count": 4,
   "id": "bfbf8ad5",
   "metadata": {},
   "outputs": [
    {
     "name": "stdout",
     "output_type": "stream",
     "text": [
      "[ultralytics.engine.results.Results object with attributes:\n",
      "\n",
      "boxes: ultralytics.engine.results.Boxes object\n",
      "keypoints: None\n",
      "masks: None\n",
      "names: {0: 'person', 1: 'bicycle', 2: 'car', 3: 'motorcycle', 4: 'airplane', 5: 'bus', 6: 'train', 7: 'truck', 8: 'boat', 9: 'traffic light', 10: 'fire hydrant', 11: 'stop sign', 12: 'parking meter', 13: 'bench', 14: 'bird', 15: 'cat', 16: 'dog', 17: 'horse', 18: 'sheep', 19: 'cow', 20: 'elephant', 21: 'bear', 22: 'zebra', 23: 'giraffe', 24: 'backpack', 25: 'umbrella', 26: 'handbag', 27: 'tie', 28: 'suitcase', 29: 'frisbee', 30: 'skis', 31: 'snowboard', 32: 'sports ball', 33: 'kite', 34: 'baseball bat', 35: 'baseball glove', 36: 'skateboard', 37: 'surfboard', 38: 'tennis racket', 39: 'bottle', 40: 'wine glass', 41: 'cup', 42: 'fork', 43: 'knife', 44: 'spoon', 45: 'bowl', 46: 'banana', 47: 'apple', 48: 'sandwich', 49: 'orange', 50: 'broccoli', 51: 'carrot', 52: 'hot dog', 53: 'pizza', 54: 'donut', 55: 'cake', 56: 'chair', 57: 'couch', 58: 'potted plant', 59: 'bed', 60: 'dining table', 61: 'toilet', 62: 'tv', 63: 'laptop', 64: 'mouse', 65: 'remote', 66: 'keyboard', 67: 'cell phone', 68: 'microwave', 69: 'oven', 70: 'toaster', 71: 'sink', 72: 'refrigerator', 73: 'book', 74: 'clock', 75: 'vase', 76: 'scissors', 77: 'teddy bear', 78: 'hair drier', 79: 'toothbrush'}\n",
      "obb: None\n",
      "orig_img: array([[[ 22,  17,  14],\n",
      "        [ 22,  17,  14],\n",
      "        [ 22,  17,  14],\n",
      "        ...,\n",
      "        [ 19,  20,  11],\n",
      "        [ 19,  20,  11],\n",
      "        [ 19,  20,  11]],\n",
      "\n",
      "       [[ 22,  17,  14],\n",
      "        [ 22,  17,  14],\n",
      "        [ 22,  17,  14],\n",
      "        ...,\n",
      "        [ 19,  20,  11],\n",
      "        [ 19,  20,  11],\n",
      "        [ 19,  20,  11]],\n",
      "\n",
      "       [[ 22,  17,  14],\n",
      "        [ 22,  17,  14],\n",
      "        [ 22,  17,  14],\n",
      "        ...,\n",
      "        [ 19,  20,  11],\n",
      "        [ 19,  20,  11],\n",
      "        [ 19,  20,  11]],\n",
      "\n",
      "       ...,\n",
      "\n",
      "       [[114, 142, 173],\n",
      "        [116, 145, 172],\n",
      "        [121, 149, 173],\n",
      "        ...,\n",
      "        [ 94, 124, 143],\n",
      "        [ 88, 116, 140],\n",
      "        [ 79, 108, 135]],\n",
      "\n",
      "       [[114, 142, 173],\n",
      "        [116, 145, 172],\n",
      "        [121, 149, 173],\n",
      "        ...,\n",
      "        [ 94, 124, 143],\n",
      "        [ 88, 116, 140],\n",
      "        [ 79, 108, 135]],\n",
      "\n",
      "       [[114, 142, 173],\n",
      "        [116, 145, 172],\n",
      "        [121, 149, 173],\n",
      "        ...,\n",
      "        [ 94, 124, 143],\n",
      "        [ 88, 116, 140],\n",
      "        [ 79, 108, 135]]], dtype=uint8)\n",
      "orig_shape: (275, 183)\n",
      "path: 'f:\\\\deep_learning\\\\yolo\\\\bag.jpg'\n",
      "probs: None\n",
      "save_dir: 'runs\\\\detect\\\\predict'\n",
      "speed: {'preprocess': 4.929500000002918, 'inference': 123.74909999999772, 'postprocess': 9.724800000000755}]\n"
     ]
    }
   ],
   "source": [
    "print(result)"
   ]
  },
  {
   "cell_type": "code",
   "execution_count": 6,
   "id": "5cf043f8",
   "metadata": {},
   "outputs": [
    {
     "name": "stdout",
     "output_type": "stream",
     "text": [
      "tensor(24.)\n",
      "tensor([ 43.4125,  80.7682, 146.5425, 199.5054])\n",
      "tensor(0.2907)\n",
      "{0: 'person', 1: 'bicycle', 2: 'car', 3: 'motorcycle', 4: 'airplane', 5: 'bus', 6: 'train', 7: 'truck', 8: 'boat', 9: 'traffic light', 10: 'fire hydrant', 11: 'stop sign', 12: 'parking meter', 13: 'bench', 14: 'bird', 15: 'cat', 16: 'dog', 17: 'horse', 18: 'sheep', 19: 'cow', 20: 'elephant', 21: 'bear', 22: 'zebra', 23: 'giraffe', 24: 'backpack', 25: 'umbrella', 26: 'handbag', 27: 'tie', 28: 'suitcase', 29: 'frisbee', 30: 'skis', 31: 'snowboard', 32: 'sports ball', 33: 'kite', 34: 'baseball bat', 35: 'baseball glove', 36: 'skateboard', 37: 'surfboard', 38: 'tennis racket', 39: 'bottle', 40: 'wine glass', 41: 'cup', 42: 'fork', 43: 'knife', 44: 'spoon', 45: 'bowl', 46: 'banana', 47: 'apple', 48: 'sandwich', 49: 'orange', 50: 'broccoli', 51: 'carrot', 52: 'hot dog', 53: 'pizza', 54: 'donut', 55: 'cake', 56: 'chair', 57: 'couch', 58: 'potted plant', 59: 'bed', 60: 'dining table', 61: 'toilet', 62: 'tv', 63: 'laptop', 64: 'mouse', 65: 'remote', 66: 'keyboard', 67: 'cell phone', 68: 'microwave', 69: 'oven', 70: 'toaster', 71: 'sink', 72: 'refrigerator', 73: 'book', 74: 'clock', 75: 'vase', 76: 'scissors', 77: 'teddy bear', 78: 'hair drier', 79: 'toothbrush'}\n",
      "(275, 183, 3)\n"
     ]
    }
   ],
   "source": [
    "print(result[0].boxes.cls[0])  # class id\n",
    "print(result[0].boxes.xyxy[0])  # bounding box coordinates\n",
    "print(result[0].boxes.conf[0])  # confidence score\n",
    "print(result[0].names)  # class names\n",
    "print(result[0].orig_img.shape)  # original image shape"
   ]
  },
  {
   "cell_type": "code",
   "execution_count": 8,
   "id": "c41a3069",
   "metadata": {},
   "outputs": [
    {
     "name": "stdout",
     "output_type": "stream",
     "text": [
      "Box 0: Class ID: 24.0, Coordinates: tensor([ 43.4125,  80.7682, 146.5425, 199.5054]), Confidence: 0.2907351553440094\n",
      "Box 1: Class ID: 28.0, Coordinates: tensor([ 30.0213, 162.5620, 117.3483, 224.6989]), Confidence: 0.2645529806613922\n"
     ]
    },
    {
     "data": {
      "text/plain": [
       "array([[[ 22,  17,  14],\n",
       "        [ 22,  17,  14],\n",
       "        [ 22,  17,  14],\n",
       "        ...,\n",
       "        [ 19,  20,  11],\n",
       "        [ 19,  20,  11],\n",
       "        [ 19,  20,  11]],\n",
       "\n",
       "       [[ 22,  17,  14],\n",
       "        [ 22,  17,  14],\n",
       "        [ 22,  17,  14],\n",
       "        ...,\n",
       "        [ 19,  20,  11],\n",
       "        [ 19,  20,  11],\n",
       "        [ 19,  20,  11]],\n",
       "\n",
       "       [[ 22,  17,  14],\n",
       "        [ 22,  17,  14],\n",
       "        [ 22,  17,  14],\n",
       "        ...,\n",
       "        [ 19,  20,  11],\n",
       "        [ 19,  20,  11],\n",
       "        [ 19,  20,  11]],\n",
       "\n",
       "       ...,\n",
       "\n",
       "       [[114, 142, 173],\n",
       "        [116, 145, 172],\n",
       "        [121, 149, 173],\n",
       "        ...,\n",
       "        [ 94, 124, 143],\n",
       "        [ 88, 116, 140],\n",
       "        [ 79, 108, 135]],\n",
       "\n",
       "       [[114, 142, 173],\n",
       "        [116, 145, 172],\n",
       "        [121, 149, 173],\n",
       "        ...,\n",
       "        [ 94, 124, 143],\n",
       "        [ 88, 116, 140],\n",
       "        [ 79, 108, 135]],\n",
       "\n",
       "       [[114, 142, 173],\n",
       "        [116, 145, 172],\n",
       "        [121, 149, 173],\n",
       "        ...,\n",
       "        [ 94, 124, 143],\n",
       "        [ 88, 116, 140],\n",
       "        [ 79, 108, 135]]], dtype=uint8)"
      ]
     },
     "execution_count": 8,
     "metadata": {},
     "output_type": "execute_result"
    }
   ],
   "source": [
    "class_names = result[0].names\n",
    "for i, box in enumerate(result[0].boxes):\n",
    "    print(f\"Box {i}: Class ID: {box.cls[0]}, Coordinates: {box.xyxy[0]}, Confidence: {box.conf[0]}\")\n",
    "# Display the result\n",
    "result[0].plot()  # this will display the image with bounding boxes in a Jupyter notebook environment\n"
   ]
  },
  {
   "cell_type": "code",
   "execution_count": null,
   "id": "4761174f",
   "metadata": {},
   "outputs": [
    {
     "data": {
      "text/plain": [
       "'backpack'"
      ]
     },
     "execution_count": 9,
     "metadata": {},
     "output_type": "execute_result"
    }
   ],
   "source": [
    "class_names[result[0].boxes.cls[0].item()]"
   ]
  },
  {
   "cell_type": "code",
   "execution_count": 10,
   "id": "6bb9037d",
   "metadata": {},
   "outputs": [
    {
     "name": "stdout",
     "output_type": "stream",
     "text": [
      "29.07351553440094 %\n"
     ]
    }
   ],
   "source": [
    "conf = result[0].boxes.conf[0].item()*100\n",
    "print(conf,'%')"
   ]
  },
  {
   "cell_type": "code",
   "execution_count": 22,
   "id": "e87fa6ba",
   "metadata": {},
   "outputs": [
    {
     "name": "stdout",
     "output_type": "stream",
     "text": [
      "\n",
      "0: 640x448 1 handbag, 1 suitcase, 167.2ms\n",
      "Speed: 6.2ms preprocess, 167.2ms inference, 0.9ms postprocess per image at shape (1, 3, 640, 448)\n"
     ]
    }
   ],
   "source": [
    "# a proggram to display the image with bounding boxes using OpenCV\n",
    "from ultralytics.utils.plotting import Annotator\n",
    "import matplotlib.pyplot as plt\n",
    "import cv2\n",
    "\n",
    "img = cv2.imread('bag.jpg')\n",
    "img = cv2.cvtColor(img,cv2.COLOR_BGR2RGB)\n",
    "results = model.predict(img, conf = 0.2, )\n",
    "annotator = Annotator(img, line_width=2, example=str(model.names))\n",
    "\n",
    "for r in results:\n",
    "    for box in r.boxes:\n",
    "        b = box.xyxy[0]\n",
    "\n",
    "        c = box.cls\n",
    "        annotator.box_label(b, f\"{r.names[int(c)]} {float(box.conf):.2}\", (255,0,0))\n",
    "\n",
    "img = cv2.cvtColor(img, cv2.COLOR_BGR2RGB)\n",
    "cv2.imshow('result', img)\n",
    "cv2.waitKey(0)\n",
    "cv2.destroyAllWindows()"
   ]
  }
 ],
 "metadata": {
  "kernelspec": {
   "display_name": "base",
   "language": "python",
   "name": "python3"
  },
  "language_info": {
   "codemirror_mode": {
    "name": "ipython",
    "version": 3
   },
   "file_extension": ".py",
   "mimetype": "text/x-python",
   "name": "python",
   "nbconvert_exporter": "python",
   "pygments_lexer": "ipython3",
   "version": "3.8.8"
  }
 },
 "nbformat": 4,
 "nbformat_minor": 5
}
