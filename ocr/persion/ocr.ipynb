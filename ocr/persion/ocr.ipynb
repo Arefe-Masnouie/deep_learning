{
 "cells": [
  {
   "cell_type": "code",
   "execution_count": 22,
   "metadata": {},
   "outputs": [],
   "source": [
    "import cv2\n",
    "import numpy as np\n",
    "import matplotlib.pyplot as plt\n",
    "import os\n",
    "import tensorflow as tf\n",
    "from keras.models import Sequential\n",
    "from keras.layers import Dense, Flatten, Conv2D, MaxPooling2D, Dropout,BatchNormalization\n",
    "from sklearn.utils import shuffle\n",
    "from sklearn.model_selection import train_test_split\n",
    "from keras.callbacks import EarlyStopping, ModelCheckpoint, ReduceLROnPlateau\n",
    "from keras.models import load_model"
   ]
  },
  {
   "cell_type": "code",
   "execution_count": null,
   "metadata": {},
   "outputs": [
    {
     "name": "stdout",
     "output_type": "stream",
     "text": [
      "Data loaded successfully\n",
      "Input shape: (80000, 28, 28, 1)\n",
      "Labels shape: (80000,)\n"
     ]
    }
   ],
   "source": [
    "x = []\n",
    "y = []\n",
    "\n",
    "target_size = (28, 28) \n",
    "\n",
    "for k in range(0, 10):\n",
    "    class_dir = os.path.join('dataset_farsi', str(k))\n",
    "    if not os.path.exists(class_dir):\n",
    "        print(f\"Directory {class_dir} not found, skipping\")\n",
    "        continue\n",
    "        \n",
    "    for file in os.listdir(class_dir):\n",
    "        img_path = os.path.join(class_dir, file)\n",
    "        \n",
    "        try:\n",
    "            img = cv2.imread(img_path, cv2.IMREAD_GRAYSCALE)\n",
    "            if img is None:\n",
    "                print(f\"Could not read {img_path}, skipping\")\n",
    "                continue\n",
    "                \n",
    "        \n",
    "            if img.shape != target_size:\n",
    "                img = cv2.resize(img, target_size)\n",
    "                \n",
    "            # Invertinh\n",
    "            img = cv2.bitwise_not(img)\n",
    "            img = img.astype(np.float32) / 255.0\n",
    "            \n",
    "            \n",
    "            if len(img.shape) == 2:\n",
    "                img = np.expand_dims(img, axis=-1)\n",
    "                \n",
    "            \n",
    "            if img.shape != (target_size[0], target_size[1], 1):\n",
    "                print(f\"Unexpected shape {img.shape} for {img_path}, skipping\")\n",
    "                continue\n",
    "                \n",
    "            x.append(img)\n",
    "            y.append(k)\n",
    "            \n",
    "        except Exception as e:\n",
    "            print(f\"Error processing {img_path}: {e}\")\n",
    "            continue\n",
    "\n",
    "\n",
    "if x:\n",
    "    first_shape = x[0].shape\n",
    "    for img in x:\n",
    "        if img.shape != first_shape:\n",
    "            print(f\"Inconsistent shape found: {img.shape} vs {first_shape}\")\n",
    "    \n",
    "    # Convert to numpy arrayss\n",
    "    x = np.array(x)\n",
    "    y = np.array(y)\n",
    "    \n",
    "    # Shuffle the data\n",
    "    x, y = shuffle(x, y, random_state=42)\n",
    "    \n",
    "    print(\"Data loaded successfully\")\n",
    "    print(\"Input shape:\", x.shape)\n",
    "    print(\"Labels shape:\", y.shape)\n",
    "else:\n",
    "    print(\"No valid images found in the dataset\")"
   ]
  },
  {
   "cell_type": "code",
   "execution_count": 4,
   "metadata": {},
   "outputs": [],
   "source": [
    "X_train, X_test, y_train, y_test = train_test_split(x, y, test_size=0.2, random_state=42)\n",
    "np.savez('persian_digits.npz', x_train=X_train, y_train=y_train, x_test=X_test, y_test=y_test)"
   ]
  },
  {
   "cell_type": "code",
   "execution_count": null,
   "metadata": {},
   "outputs": [
    {
     "name": "stdout",
     "output_type": "stream",
     "text": [
      "Loaded data shapes:\n",
      "X_train shape: (64000, 28, 28, 1)\n",
      "y_train shape: (64000,)\n",
      "X_test shape: (16000, 28, 28, 1)\n",
      "y_test shape: (16000,)\n"
     ]
    }
   ],
   "source": [
    "#load the persian digits.npz datase\n",
    "data = np.load('persian_digits.npz')\n",
    "X_train = data['x_train']\n",
    "y_train = data['y_train']\n",
    "X_test = data['x_test']\n",
    "y_test = data['y_test']\n",
    "# Check the shapes of the loaded data\n",
    "print(\"Loaded data shapes:\")\n",
    "print(\"X_train shape:\", X_train.shape)\n",
    "print(\"y_train shape:\", y_train.shape)\n",
    "print(\"X_test shape:\", X_test.shape)\n",
    "print(\"y_test shape:\", y_test.shape)\n"
   ]
  },
  {
   "cell_type": "code",
   "execution_count": 14,
   "metadata": {},
   "outputs": [
    {
     "name": "stdout",
     "output_type": "stream",
     "text": [
      "Model: \"sequential_1\"\n",
      "_________________________________________________________________\n",
      " Layer (type)                Output Shape              Param #   \n",
      "=================================================================\n",
      " conv2d_2 (Conv2D)           (None, 28, 28, 32)        320       \n",
      "                                                                 \n",
      " batch_normalization_3 (Bat  (None, 28, 28, 32)        128       \n",
      " chNormalization)                                                \n",
      "                                                                 \n",
      " max_pooling2d_2 (MaxPoolin  (None, 14, 14, 32)        0         \n",
      " g2D)                                                            \n",
      "                                                                 \n",
      " conv2d_3 (Conv2D)           (None, 14, 14, 64)        18496     \n",
      "                                                                 \n",
      " batch_normalization_4 (Bat  (None, 14, 14, 64)        256       \n",
      " chNormalization)                                                \n",
      "                                                                 \n",
      " max_pooling2d_3 (MaxPoolin  (None, 7, 7, 64)          0         \n",
      " g2D)                                                            \n",
      "                                                                 \n",
      " flatten_1 (Flatten)         (None, 3136)              0         \n",
      "                                                                 \n",
      " dense_4 (Dense)             (None, 512)               1606144   \n",
      "                                                                 \n",
      " batch_normalization_5 (Bat  (None, 512)               2048      \n",
      " chNormalization)                                                \n",
      "                                                                 \n",
      " dropout_1 (Dropout)         (None, 512)               0         \n",
      "                                                                 \n",
      " dense_5 (Dense)             (None, 256)               131328    \n",
      "                                                                 \n",
      " dense_6 (Dense)             (None, 128)               32896     \n",
      "                                                                 \n",
      " dense_7 (Dense)             (None, 10)                1290      \n",
      "                                                                 \n",
      "=================================================================\n",
      "Total params: 1792906 (6.84 MB)\n",
      "Trainable params: 1791690 (6.83 MB)\n",
      "Non-trainable params: 1216 (4.75 KB)\n",
      "_________________________________________________________________\n"
     ]
    }
   ],
   "source": [
    "# Create a simple neural network model\n",
    "num_filters = 32  # Number of filters for convolutional layers\n",
    "filter_size = (3, 3)  # Size of the filters\n",
    "pool_size = (2, 2)  # Size of the pooling window\n",
    "model = Sequential(\n",
    "    [\n",
    "    Conv2D(num_filters, filter_size, activation='relu',padding='same', input_shape=(28, 28, 1)), #input layer\n",
    "    BatchNormalization(),\n",
    "    MaxPooling2D(pool_size), #pooling layer\n",
    "    Conv2D(64, filter_size, activation='relu', padding='same'),\n",
    "    BatchNormalization(),\n",
    "    MaxPooling2D(pool_size),\n",
    "    Flatten(), #flattening layer\n",
    "    Dense(512, activation='relu'), #hidden layer\n",
    "    BatchNormalization(), \n",
    "    Dropout(0.5),\n",
    "    Dense(256, activation='relu'), #hidden layer\n",
    "    Dense(128, activation = 'relu'),\n",
    "    Dense(10, activation='softmax') #output layer (10 class for 0-9 digits)\n",
    "]\n",
    ")\n",
    "model.summary()\n"
   ]
  },
  {
   "cell_type": "code",
   "execution_count": 15,
   "metadata": {},
   "outputs": [],
   "source": [
    "# Compile the model\n",
    "model.compile(optimizer='adam', loss='sparse_categorical_crossentropy', metrics=['accuracy'])"
   ]
  },
  {
   "cell_type": "code",
   "execution_count": null,
   "metadata": {},
   "outputs": [],
   "source": [
    "#callback\n",
    "callbacks = [\n",
    "    EarlyStopping(patience=5, restore_best_weights=True),\n",
    "    ModelCheckpoint(\"best_model.h5\", save_best_only=True),\n",
    "    ReduceLROnPlateau(factor=0.1, patience=3)\n",
    "]"
   ]
  },
  {
   "cell_type": "code",
   "execution_count": 17,
   "metadata": {},
   "outputs": [
    {
     "data": {
      "text/plain": [
       "(64000, 28, 28, 1)"
      ]
     },
     "execution_count": 17,
     "metadata": {},
     "output_type": "execute_result"
    }
   ],
   "source": [
    "X_train.shape"
   ]
  },
  {
   "cell_type": "code",
   "execution_count": 19,
   "metadata": {},
   "outputs": [
    {
     "name": "stdout",
     "output_type": "stream",
     "text": [
      "Epoch 1/15\n",
      "2000/2000 [==============================] - 55s 27ms/step - loss: 0.0949 - accuracy: 0.9713 - val_loss: 0.0303 - val_accuracy: 0.9907 - lr: 0.0010\n",
      "Epoch 2/15\n",
      "   3/2000 [..............................] - ETA: 1:10 - loss: 0.0135 - accuracy: 1.0000"
     ]
    },
    {
     "name": "stderr",
     "output_type": "stream",
     "text": [
      "C:\\Users\\USer\\AppData\\Roaming\\Python\\Python38\\site-packages\\keras\\src\\engine\\training.py:3000: UserWarning: You are saving your model as an HDF5 file via `model.save()`. This file format is considered legacy. We recommend using instead the native Keras format, e.g. `model.save('my_model.keras')`.\n",
      "  saving_api.save_model(\n"
     ]
    },
    {
     "name": "stdout",
     "output_type": "stream",
     "text": [
      "2000/2000 [==============================] - 50s 25ms/step - loss: 0.0437 - accuracy: 0.9872 - val_loss: 0.0730 - val_accuracy: 0.9768 - lr: 0.0010\n",
      "Epoch 3/15\n",
      "2000/2000 [==============================] - 54s 27ms/step - loss: 0.0335 - accuracy: 0.9900 - val_loss: 0.0327 - val_accuracy: 0.9919 - lr: 0.0010\n",
      "Epoch 4/15\n",
      "2000/2000 [==============================] - 51s 26ms/step - loss: 0.0290 - accuracy: 0.9917 - val_loss: 0.0229 - val_accuracy: 0.9930 - lr: 0.0010\n",
      "Epoch 5/15\n",
      "2000/2000 [==============================] - 73s 37ms/step - loss: 0.0250 - accuracy: 0.9930 - val_loss: 0.0231 - val_accuracy: 0.9942 - lr: 0.0010\n",
      "Epoch 6/15\n",
      "2000/2000 [==============================] - 50s 25ms/step - loss: 0.0223 - accuracy: 0.9938 - val_loss: 0.0199 - val_accuracy: 0.9954 - lr: 0.0010\n",
      "Epoch 7/15\n",
      "2000/2000 [==============================] - 51s 25ms/step - loss: 0.0189 - accuracy: 0.9949 - val_loss: 0.0222 - val_accuracy: 0.9954 - lr: 0.0010\n",
      "Epoch 8/15\n",
      "2000/2000 [==============================] - 50s 25ms/step - loss: 0.0179 - accuracy: 0.9948 - val_loss: 0.0165 - val_accuracy: 0.9966 - lr: 0.0010\n",
      "Epoch 9/15\n",
      "2000/2000 [==============================] - 51s 25ms/step - loss: 0.0167 - accuracy: 0.9953 - val_loss: 0.0180 - val_accuracy: 0.9965 - lr: 0.0010\n",
      "Epoch 10/15\n",
      "2000/2000 [==============================] - 50s 25ms/step - loss: 0.0153 - accuracy: 0.9960 - val_loss: 0.0179 - val_accuracy: 0.9959 - lr: 0.0010\n",
      "Epoch 11/15\n",
      "2000/2000 [==============================] - 50s 25ms/step - loss: 0.0132 - accuracy: 0.9965 - val_loss: 0.0193 - val_accuracy: 0.9962 - lr: 0.0010\n",
      "Epoch 12/15\n",
      "2000/2000 [==============================] - 50s 25ms/step - loss: 0.0066 - accuracy: 0.9982 - val_loss: 0.0140 - val_accuracy: 0.9973 - lr: 1.0000e-04\n",
      "Epoch 13/15\n",
      "2000/2000 [==============================] - 55s 27ms/step - loss: 0.0047 - accuracy: 0.9986 - val_loss: 0.0125 - val_accuracy: 0.9976 - lr: 1.0000e-04\n",
      "Epoch 14/15\n",
      "2000/2000 [==============================] - 49s 25ms/step - loss: 0.0035 - accuracy: 0.9988 - val_loss: 0.0129 - val_accuracy: 0.9976 - lr: 1.0000e-04\n",
      "Epoch 15/15\n",
      "2000/2000 [==============================] - 49s 24ms/step - loss: 0.0039 - accuracy: 0.9988 - val_loss: 0.0138 - val_accuracy: 0.9976 - lr: 1.0000e-04\n"
     ]
    }
   ],
   "source": [
    "# Train the model\n",
    "history = model.fit(X_train, y_train,\n",
    "                     epochs=15,\n",
    "                     batch_size=32,\n",
    "                     validation_data=(X_test, y_test),\n",
    "                     validation_split=0.2,\n",
    "                     callbacks=callbacks)"
   ]
  },
  {
   "cell_type": "code",
   "execution_count": 20,
   "metadata": {},
   "outputs": [
    {
     "name": "stdout",
     "output_type": "stream",
     "text": [
      "500/500 - 4s - loss: 0.0138 - accuracy: 0.9976 - 4s/epoch - 8ms/step\n",
      "\n",
      "Test accuracy: 0.9975625276565552\n"
     ]
    },
    {
     "data": {
      "image/png": "[encoded data removed]",
      "text/plain": [
       "<Figure size 432x288 with 1 Axes>"
      ]
     },
     "metadata": {
      "needs_background": "light"
     },
     "output_type": "display_data"
    },
    {
     "data": {
      "image/png": "[encoded data removed]",
      "text/plain": [
       "<Figure size 432x288 with 1 Axes>"
      ]
     },
     "metadata": {
      "needs_background": "light"
     },
     "output_type": "display_data"
    }
   ],
   "source": [
    "#evalualting the model\n",
    "test_loss, test_acc = model.evaluate(X_test, y_test, verbose=2)\n",
    "print('\\nTest accuracy:', test_acc)\n",
    "#plotting the accuracy and loss of the model\n",
    "acc = history.history['accuracy'] \n",
    "val_acc = history.history['val_accuracy']\n",
    "loss = history.history['loss']\n",
    "val_loss = history.history['val_loss']\n",
    "epochs = range(1, len(acc) + 1)\n",
    "plt.plot(epochs, acc, 'bo', label='Training accuracy') #'bo' is the color of the line\n",
    "plt.plot(epochs, val_acc, 'b', label='Validation accuracy')\n",
    "plt.title('Training and validation accuracy')\n",
    "plt.legend()\n",
    "plt.figure()\n",
    "plt.plot(epochs, loss, 'bo', label='Training loss')\n",
    "plt.plot(epochs, val_loss, 'b', label='Validation loss')\n",
    "plt.title('Training and validation loss')\n",
    "plt.legend()\n",
    "plt.show()\n"
   ]
  },
  {
   "cell_type": "code",
   "execution_count": 21,
   "metadata": {},
   "outputs": [
    {
     "name": "stderr",
     "output_type": "stream",
     "text": [
      "C:\\Users\\USer\\AppData\\Roaming\\Python\\Python38\\site-packages\\keras\\src\\engine\\training.py:3000: UserWarning: You are saving your model as an HDF5 file via `model.save()`. This file format is considered legacy. We recommend using instead the native Keras format, e.g. `model.save('my_model.keras')`.\n",
      "  saving_api.save_model(\n"
     ]
    }
   ],
   "source": [
    "#saving the model\n",
    "model.save('model/persion_ocr.h5')"
   ]
  },
  {
   "cell_type": "code",
   "execution_count": 23,
   "metadata": {},
   "outputs": [],
   "source": [
    "#load the model\n",
    "model.load_weights('model/persion_ocr.h5')"
   ]
  },
  {
   "cell_type": "code",
   "execution_count": 24,
   "metadata": {},
   "outputs": [
    {
     "name": "stdout",
     "output_type": "stream",
     "text": [
      "500/500 [==============================] - 4s 8ms/step\n"
     ]
    }
   ],
   "source": [
    "#prediction\n",
    "prediction = model.predict(X_test)"
   ]
  },
  {
   "cell_type": "code",
   "execution_count": null,
   "metadata": {},
   "outputs": [
    {
     "name": "stdout",
     "output_type": "stream",
     "text": [
      "The predicted class is:  8\n",
      "The real answer is :  8\n"
     ]
    }
   ],
   "source": [
    "class_names = [0,1,2,3,4,5,6,7,8,9]\n",
    "num = int(input(\"Please enter the number of the image you want to test: \")) #taking input from the user\n",
    "\n",
    "\n",
    "m = -1000\n",
    "o2 = prediction[num]\n",
    "ind = -1\n",
    "\n",
    "for i in range(len(o2)):\n",
    "    if o2[i] > m:\n",
    "        m = o2[i]\n",
    "        ind = i\n",
    "print(\"The predicted class is: \", class_names[ind]) #printing the predicted class\n",
    "print(\"The real answer is : \", class_names[y_test[num]]) #printing the real answer"
   ]
  },
  {
   "cell_type": "code",
   "execution_count": null,
   "metadata": {},
   "outputs": [
    {
     "data": {
      "image/png": "[encoded data removed]",
      "text/plain": [
       "<Figure size 432x288 with 19 Axes>"
      ]
     },
     "metadata": {
      "needs_background": "light"
     },
     "output_type": "display_data"
    }
   ],
   "source": [
    "for i in range(19):\n",
    "    plt.subplot(5, 4, i + 1)\n",
    "    plt.imshow(X_test[i].reshape(28, 28), cmap='gray')\n",
    "    plt.title(f\" Predicted: {np.argmax(prediction[i])}\") #argmax is the highest predicted chance in the array \n",
    "    plt.axis('off')\n",
    "plt.show()"
   ]
  }
 ],
 "metadata": {
  "kernelspec": {
   "display_name": "base",
   "language": "python",
   "name": "python3"
  },
  "language_info": {
   "codemirror_mode": {
    "name": "ipython",
    "version": 3
   },
   "file_extension": ".py",
   "mimetype": "text/x-python",
   "name": "python",
   "nbconvert_exporter": "python",
   "pygments_lexer": "ipython3",
   "version": "3.8.8"
  }
 },
 "nbformat": 4,
 "nbformat_minor": 2
}
