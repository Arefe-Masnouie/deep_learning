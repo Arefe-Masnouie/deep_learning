{
 "cells": [
  {
   "cell_type": "code",
   "execution_count": 3,
   "metadata": {},
   "outputs": [
    {
     "name": "stdout",
     "output_type": "stream",
     "text": [
      "Data loaded successfully\n",
      "Input shape: (80000, 28, 28, 1)\n",
      "Labels shape: (80000,)\n"
     ]
    }
   ],
   "source": [
    "import os\n",
    "import cv2\n",
    "import numpy as np\n",
    "from sklearn.utils import shuffle\n",
    "\n",
    "# Initialize lists\n",
    "x = []\n",
    "y = []\n",
    "\n",
    "# Parameters\n",
    "target_size = (28, 28)  # Target size for all images\n",
    "\n",
    "for k in range(0, 10):\n",
    "    class_dir = os.path.join('dataset_farsi', str(k))\n",
    "    if not os.path.exists(class_dir):\n",
    "        print(f\"Directory {class_dir} not found, skipping\")\n",
    "        continue\n",
    "        \n",
    "    for file in os.listdir(class_dir):\n",
    "        img_path = os.path.join(class_dir, file)\n",
    "        \n",
    "        try:\n",
    "            # Read and validate image\n",
    "            img = cv2.imread(img_path, cv2.IMREAD_GRAYSCALE)\n",
    "            if img is None:\n",
    "                print(f\"Could not read {img_path}, skipping\")\n",
    "                continue\n",
    "                \n",
    "            # Ensure all images have the same shape\n",
    "            if img.shape != target_size:\n",
    "                img = cv2.resize(img, target_size)\n",
    "                \n",
    "            # Invert and normalize\n",
    "            img = cv2.bitwise_not(img)\n",
    "            img = img.astype(np.float32) / 255.0\n",
    "            \n",
    "            # Add channel dimension if missing\n",
    "            if len(img.shape) == 2:\n",
    "                img = np.expand_dims(img, axis=-1)\n",
    "                \n",
    "            # Verify final shape\n",
    "            if img.shape != (target_size[0], target_size[1], 1):\n",
    "                print(f\"Unexpected shape {img.shape} for {img_path}, skipping\")\n",
    "                continue\n",
    "                \n",
    "            x.append(img)\n",
    "            y.append(k)\n",
    "            \n",
    "        except Exception as e:\n",
    "            print(f\"Error processing {img_path}: {e}\")\n",
    "            continue\n",
    "\n",
    "# Verify all images have the same shape before converting to array\n",
    "if x:\n",
    "    first_shape = x[0].shape\n",
    "    for img in x:\n",
    "        if img.shape != first_shape:\n",
    "            print(f\"Inconsistent shape found: {img.shape} vs {first_shape}\")\n",
    "    \n",
    "    # Convert to numpy arrays\n",
    "    x = np.array(x)\n",
    "    y = np.array(y)\n",
    "    \n",
    "    # Shuffle\n",
    "    x, y = shuffle(x, y, random_state=42)\n",
    "    \n",
    "    print(\"Data loaded successfully\")\n",
    "    print(\"Input shape:\", x.shape)\n",
    "    print(\"Labels shape:\", y.shape)\n",
    "else:\n",
    "    print(\"No valid images found in the dataset\")"
   ]
  }
 ],
 "metadata": {
  "kernelspec": {
   "display_name": "base",
   "language": "python",
   "name": "python3"
  },
  "language_info": {
   "codemirror_mode": {
    "name": "ipython",
    "version": 3
   },
   "file_extension": ".py",
   "mimetype": "text/x-python",
   "name": "python",
   "nbconvert_exporter": "python",
   "pygments_lexer": "ipython3",
   "version": "3.8.8"
  }
 },
 "nbformat": 4,
 "nbformat_minor": 2
}
