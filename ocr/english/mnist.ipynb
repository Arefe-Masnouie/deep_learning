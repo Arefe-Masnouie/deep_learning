{
 "cells": [
  {
   "cell_type": "code",
   "execution_count": null,
   "metadata": {},
   "outputs": [],
   "source": [
    "\n",
    "import tensorflow as tf\n",
    "import numpy as np\n",
    "import matplotlib.pyplot as plt\n",
    "from keras.datasets import mnist\n",
    "from keras.models import Sequential\n",
    "from keras.layers import Dense, Flatten, Dropout, Conv2D, MaxPooling2D\n",
    "from scikeras.wrappers import KerasClassifier# this is the scikeras wrapper for Keras models to use with scikit-learn\n"
   ]
  },
  {
   "cell_type": "code",
   "execution_count": 2,
   "metadata": {},
   "outputs": [],
   "source": [
    "## Load the MNIST dataset\n",
    "(train_images, train_Labels), (test_images, test_Labels) = mnist.load_data()"
   ]
  },
  {
   "cell_type": "code",
   "execution_count": 3,
   "metadata": {},
   "outputs": [
    {
     "data": {
      "text/plain": [
       "(60000, 28, 28)"
      ]
     },
     "execution_count": 3,
     "metadata": {},
     "output_type": "execute_result"
    }
   ],
   "source": [
    "train_images.shape"
   ]
  },
  {
   "cell_type": "code",
   "execution_count": 4,
   "metadata": {},
   "outputs": [],
   "source": [
    "#normalizing the data\n",
    "train_images = train_images / 255\n",
    "test_images = test_images / 255\n",
    "\n"
   ]
  },
  {
   "cell_type": "code",
   "execution_count": 5,
   "metadata": {},
   "outputs": [],
   "source": [
    "class_names = ['0', '1', '2', '3', '4', '5', '6', '7', '8', '9']"
   ]
  },
  {
   "cell_type": "code",
   "execution_count": 10,
   "metadata": {},
   "outputs": [
    {
     "data": {
      "image/png": "[encoded data removed]",
      "text/plain": [
       "<Figure size 720x720 with 9 Axes>"
      ]
     },
     "metadata": {},
     "output_type": "display_data"
    }
   ],
   "source": [
    "#visualizing the data\n",
    "plt.figure(figsize=(10, 10))\n",
    "for i in range(9):\n",
    "    plt.subplot(3, 3, i + 1)\n",
    "    plt.xticks([])\n",
    "    plt.yticks([])\n",
    "    plt.grid(False)\n",
    "    plt.imshow(train_images[i], cmap=plt.cm.binary)\n",
    "    plt.xlabel(class_names[train_Labels[i]])"
   ]
  },
  {
   "cell_type": "code",
   "execution_count": 6,
   "metadata": {},
   "outputs": [
    {
     "name": "stdout",
     "output_type": "stream",
     "text": [
      "Model: \"sequential\"\n",
      "_________________________________________________________________\n",
      " Layer (type)                Output Shape              Param #   \n",
      "=================================================================\n",
      " conv2d (Conv2D)             (None, 26, 26, 8)         80        \n",
      "                                                                 \n",
      " max_pooling2d (MaxPooling2  (None, 13, 13, 8)         0         \n",
      " D)                                                              \n",
      "                                                                 \n",
      " flatten (Flatten)           (None, 1352)              0         \n",
      "                                                                 \n",
      " dense (Dense)               (None, 128)               173184    \n",
      "                                                                 \n",
      " dropout (Dropout)           (None, 128)               0         \n",
      "                                                                 \n",
      " dense_1 (Dense)             (None, 10)                1290      \n",
      "                                                                 \n",
      "=================================================================\n",
      "Total params: 174554 (681.85 KB)\n",
      "Trainable params: 174554 (681.85 KB)\n",
      "Non-trainable params: 0 (0.00 Byte)\n",
      "_________________________________________________________________\n"
     ]
    }
   ],
   "source": [
    "#making the model \n",
    "num_filters = 8\n",
    "filter_size = 3\n",
    "pool_size = 2\n",
    "model = Sequential([\n",
    "    Conv2D(num_filters, filter_size, activation='relu', input_shape=(28, 28, 1)), #input layer\n",
    "    MaxPooling2D(pool_size), #pooling layer\n",
    "    Flatten(), #flattening layer\n",
    "    Dense(128, activation='relu'), #hidden layer\n",
    "    Dropout(0.2), #dropout layer\n",
    "    Dense(10, activation='softmax') #output layer\n",
    "])\n",
    "\n",
    "\n",
    "model.summary()\n",
    "\n"
   ]
  },
  {
   "cell_type": "code",
   "execution_count": 7,
   "metadata": {},
   "outputs": [],
   "source": [
    "#compiling the model\n",
    "model.compile(optimizer='adam',\n",
    "              loss='sparse_categorical_crossentropy',\n",
    "              metrics=['accuracy'])"
   ]
  },
  {
   "cell_type": "code",
   "execution_count": null,
   "metadata": {},
   "outputs": [
    {
     "name": "stdout",
     "output_type": "stream",
     "text": [
      "Epoch 1/10\n",
      "1875/1875 [==============================] - 8s 4ms/step - loss: 0.0143 - accuracy: 0.9951 - val_loss: 0.0418 - val_accuracy: 0.9886\n",
      "Epoch 2/10\n",
      "1875/1875 [==============================] - 8s 4ms/step - loss: 0.0137 - accuracy: 0.9955 - val_loss: 0.0543 - val_accuracy: 0.9856\n",
      "Epoch 3/10\n",
      "1875/1875 [==============================] - 24s 13ms/step - loss: 0.0112 - accuracy: 0.9959 - val_loss: 0.0414 - val_accuracy: 0.9898\n",
      "Epoch 4/10\n",
      "1875/1875 [==============================] - 30s 16ms/step - loss: 0.0111 - accuracy: 0.9962 - val_loss: 0.0501 - val_accuracy: 0.9882\n",
      "Epoch 5/10\n",
      "1875/1875 [==============================] - 8s 4ms/step - loss: 0.0105 - accuracy: 0.9964 - val_loss: 0.0505 - val_accuracy: 0.9876\n",
      "Epoch 6/10\n",
      "1875/1875 [==============================] - 8s 4ms/step - loss: 0.0098 - accuracy: 0.9966 - val_loss: 0.0454 - val_accuracy: 0.9882\n",
      "Epoch 7/10\n",
      "1875/1875 [==============================] - 28s 15ms/step - loss: 0.0091 - accuracy: 0.9969 - val_loss: 0.0502 - val_accuracy: 0.9882\n",
      "Epoch 8/10\n",
      "1875/1875 [==============================] - 14s 7ms/step - loss: 0.0079 - accuracy: 0.9973 - val_loss: 0.0556 - val_accuracy: 0.9873\n",
      "Epoch 9/10\n",
      "1875/1875 [==============================] - 8s 4ms/step - loss: 0.0082 - accuracy: 0.9969 - val_loss: 0.0522 - val_accuracy: 0.9883\n",
      "Epoch 10/10\n",
      "1875/1875 [==============================] - 8s 4ms/step - loss: 0.0062 - accuracy: 0.9976 - val_loss: 0.0516 - val_accuracy: 0.9878\n"
     ]
    }
   ],
   "source": [
    "#history = model.fit(train_images,train_Labels, epochs=10, validation_data=(test_images, test_Labels))"
   ]
  },
  {
   "cell_type": "code",
   "execution_count": 9,
   "metadata": {},
   "outputs": [
    {
     "name": "stdout",
     "output_type": "stream",
     "text": [
      "Epoch 1/10\n",
      "2143/2143 [==============================] - 9s 4ms/step - loss: 0.2162 - accuracy: 0.9360\n",
      "Epoch 2/10\n",
      "2143/2143 [==============================] - 8s 4ms/step - loss: 0.0806 - accuracy: 0.9753\n",
      "Epoch 3/10\n",
      "2143/2143 [==============================] - 7s 3ms/step - loss: 0.0561 - accuracy: 0.9830\n",
      "Epoch 4/10\n",
      "2143/2143 [==============================] - 8s 4ms/step - loss: 0.0444 - accuracy: 0.9860\n",
      "Epoch 5/10\n",
      "2143/2143 [==============================] - 8s 4ms/step - loss: 0.0364 - accuracy: 0.9882\n",
      "Epoch 6/10\n",
      "2143/2143 [==============================] - 8s 4ms/step - loss: 0.0289 - accuracy: 0.9904\n",
      "Epoch 7/10\n",
      "2143/2143 [==============================] - 8s 4ms/step - loss: 0.0242 - accuracy: 0.9922\n",
      "Epoch 8/10\n",
      "2143/2143 [==============================] - 8s 4ms/step - loss: 0.0197 - accuracy: 0.9932\n",
      "Epoch 9/10\n",
      "2143/2143 [==============================] - 8s 4ms/step - loss: 0.0178 - accuracy: 0.9939\n",
      "Epoch 10/10\n",
      "2143/2143 [==============================] - 8s 4ms/step - loss: 0.0160 - accuracy: 0.9944\n"
     ]
    }
   ],
   "source": [
    "history = KerasClassifier(model, epochs=10,batch_size=28 , verbose=1)\n",
    "#batchsize is the number of samples per gradient update, 28 is the number of samples in each batch\n",
    "#verbos =1 means that the model will print the progress of the training\n",
    "history = history.fit(train_images, train_Labels)\n"
   ]
  },
  {
   "cell_type": "code",
   "execution_count": 19,
   "metadata": {},
   "outputs": [
    {
     "name": "stdout",
     "output_type": "stream",
     "text": [
      "313/313 - 1s - loss: 0.0516 - accuracy: 0.9878 - 548ms/epoch - 2ms/step\n",
      "\n",
      "Test accuracy: 0.9878000020980835\n"
     ]
    },
    {
     "data": {
      "image/png": "[encoded data removed]",
      "text/plain": [
       "<Figure size 432x288 with 1 Axes>"
      ]
     },
     "metadata": {
      "needs_background": "light"
     },
     "output_type": "display_data"
    },
    {
     "data": {
      "image/png": "[encoded data removed]",
      "text/plain": [
       "<Figure size 432x288 with 1 Axes>"
      ]
     },
     "metadata": {
      "needs_background": "light"
     },
     "output_type": "display_data"
    }
   ],
   "source": [
    "#evaluating the model\n",
    "test_loss, test_acc = model.evaluate(test_images, test_Labels, verbose=2)\n",
    "print('\\nTest accuracy:', test_acc)\n",
    "#plotting the accuracy and loss of the model\n",
    "acc = history.history['accuracy'] \n",
    "val_acc = history.history['val_accuracy']\n",
    "loss = history.history['loss']\n",
    "val_loss = history.history['val_loss']\n",
    "epochs = range(1, len(acc) + 1)\n",
    "plt.plot(epochs, acc, 'bo', label='Training accuracy') #'bo' is the color of the line\n",
    "plt.plot(epochs, val_acc, 'b', label='Validation accuracy')\n",
    "plt.title('Training and validation accuracy')\n",
    "plt.legend()\n",
    "plt.figure()\n",
    "plt.plot(epochs, loss, 'bo', label='Training loss')\n",
    "plt.plot(epochs, val_loss, 'b', label='Validation loss')\n",
    "plt.title('Training and validation loss')\n",
    "plt.legend()\n",
    "plt.show()\n"
   ]
  },
  {
   "cell_type": "code",
   "execution_count": 20,
   "metadata": {},
   "outputs": [
    {
     "name": "stderr",
     "output_type": "stream",
     "text": [
      "C:\\Users\\USer\\AppData\\Roaming\\Python\\Python38\\site-packages\\keras\\src\\engine\\training.py:3000: UserWarning: You are saving your model as an HDF5 file via `model.save()`. This file format is considered legacy. We recommend using instead the native Keras format, e.g. `model.save('my_model.keras')`.\n",
      "  saving_api.save_model(\n"
     ]
    }
   ],
   "source": [
    "model.save('ocr.h5')"
   ]
  },
  {
   "cell_type": "code",
   "execution_count": 2,
   "metadata": {},
   "outputs": [],
   "source": [
    "#load the model\n",
    "model = tf.keras.models.load_model('ocr.h5')"
   ]
  },
  {
   "cell_type": "code",
   "execution_count": 12,
   "metadata": {},
   "outputs": [
    {
     "name": "stdout",
     "output_type": "stream",
     "text": [
      "INFO:tensorflow:Assets written to: C:\\Users\\USer\\AppData\\Local\\Temp\\tmp80_uwcn3\\assets\n"
     ]
    },
    {
     "name": "stderr",
     "output_type": "stream",
     "text": [
      "INFO:tensorflow:Assets written to: C:\\Users\\USer\\AppData\\Local\\Temp\\tmp80_uwcn3\\assets\n"
     ]
    },
    {
     "name": "stdout",
     "output_type": "stream",
     "text": [
      "Epoch 1/10\n",
      "1715/1715 [==============================] - 6s 4ms/step - loss: 0.0131 - accuracy: 0.9958\n",
      "Epoch 2/10\n",
      "1715/1715 [==============================] - 6s 4ms/step - loss: 0.0132 - accuracy: 0.9953\n",
      "Epoch 3/10\n",
      "1715/1715 [==============================] - 6s 4ms/step - loss: 0.0094 - accuracy: 0.9967\n",
      "Epoch 4/10\n",
      "1715/1715 [==============================] - 7s 4ms/step - loss: 0.0099 - accuracy: 0.9967\n",
      "Epoch 5/10\n",
      "1715/1715 [==============================] - 7s 4ms/step - loss: 0.0093 - accuracy: 0.9966\n",
      "Epoch 6/10\n",
      "1715/1715 [==============================] - 7s 4ms/step - loss: 0.0078 - accuracy: 0.9972\n",
      "Epoch 7/10\n",
      "1715/1715 [==============================] - 6s 4ms/step - loss: 0.0082 - accuracy: 0.9973\n",
      "Epoch 8/10\n",
      "1715/1715 [==============================] - 6s 4ms/step - loss: 0.0065 - accuracy: 0.9978\n",
      "Epoch 9/10\n",
      "1715/1715 [==============================] - 6s 4ms/step - loss: 0.0061 - accuracy: 0.9978\n",
      "Epoch 10/10\n",
      "1715/1715 [==============================] - 6s 4ms/step - loss: 0.0070 - accuracy: 0.9974\n",
      "429/429 [==============================] - 1s 2ms/step\n",
      "INFO:tensorflow:Assets written to: C:\\Users\\USer\\AppData\\Local\\Temp\\tmpjpvekyrj\\assets\n"
     ]
    },
    {
     "name": "stderr",
     "output_type": "stream",
     "text": [
      "INFO:tensorflow:Assets written to: C:\\Users\\USer\\AppData\\Local\\Temp\\tmpjpvekyrj\\assets\n"
     ]
    },
    {
     "name": "stdout",
     "output_type": "stream",
     "text": [
      "Epoch 1/10\n",
      "1715/1715 [==============================] - 7s 4ms/step - loss: 0.0139 - accuracy: 0.9952\n",
      "Epoch 2/10\n",
      "1715/1715 [==============================] - 6s 4ms/step - loss: 0.0118 - accuracy: 0.9960\n",
      "Epoch 3/10\n",
      "1715/1715 [==============================] - 6s 4ms/step - loss: 0.0101 - accuracy: 0.9966\n",
      "Epoch 4/10\n",
      "1715/1715 [==============================] - 6s 4ms/step - loss: 0.0102 - accuracy: 0.9964\n",
      "Epoch 5/10\n",
      "1715/1715 [==============================] - 6s 4ms/step - loss: 0.0092 - accuracy: 0.9968\n",
      "Epoch 6/10\n",
      "1715/1715 [==============================] - 6s 4ms/step - loss: 0.0092 - accuracy: 0.9968\n",
      "Epoch 7/10\n",
      "1715/1715 [==============================] - 6s 4ms/step - loss: 0.0084 - accuracy: 0.9970\n",
      "Epoch 8/10\n",
      "1715/1715 [==============================] - 6s 4ms/step - loss: 0.0057 - accuracy: 0.9979\n",
      "Epoch 9/10\n",
      "1715/1715 [==============================] - 14s 8ms/step - loss: 0.0080 - accuracy: 0.9972\n",
      "Epoch 10/10\n",
      "1715/1715 [==============================] - 26s 15ms/step - loss: 0.0072 - accuracy: 0.9976\n",
      "429/429 [==============================] - 1s 2ms/step\n",
      "INFO:tensorflow:Assets written to: C:\\Users\\USer\\AppData\\Local\\Temp\\tmps74njy6q\\assets\n"
     ]
    },
    {
     "name": "stderr",
     "output_type": "stream",
     "text": [
      "INFO:tensorflow:Assets written to: C:\\Users\\USer\\AppData\\Local\\Temp\\tmps74njy6q\\assets\n"
     ]
    },
    {
     "name": "stdout",
     "output_type": "stream",
     "text": [
      "Epoch 1/10\n",
      "1715/1715 [==============================] - 7s 4ms/step - loss: 0.0138 - accuracy: 0.9956\n",
      "Epoch 2/10\n",
      "1715/1715 [==============================] - 10s 6ms/step - loss: 0.0122 - accuracy: 0.9956\n",
      "Epoch 3/10\n",
      "1715/1715 [==============================] - 18s 10ms/step - loss: 0.0106 - accuracy: 0.9967\n",
      "Epoch 4/10\n",
      "1715/1715 [==============================] - 18s 11ms/step - loss: 0.0105 - accuracy: 0.9961\n",
      "Epoch 5/10\n",
      "1715/1715 [==============================] - 19s 11ms/step - loss: 0.0083 - accuracy: 0.9972\n",
      "Epoch 6/10\n",
      "1715/1715 [==============================] - 19s 11ms/step - loss: 0.0091 - accuracy: 0.9969\n",
      "Epoch 7/10\n",
      "1715/1715 [==============================] - 19s 11ms/step - loss: 0.0079 - accuracy: 0.9973\n",
      "Epoch 8/10\n",
      "1715/1715 [==============================] - 20s 12ms/step - loss: 0.0075 - accuracy: 0.9974\n",
      "Epoch 9/10\n",
      "1715/1715 [==============================] - 20s 11ms/step - loss: 0.0069 - accuracy: 0.9976\n",
      "Epoch 10/10\n",
      "1715/1715 [==============================] - 13s 8ms/step - loss: 0.0062 - accuracy: 0.9979\n",
      "429/429 [==============================] - 1s 2ms/step\n",
      "INFO:tensorflow:Assets written to: C:\\Users\\USer\\AppData\\Local\\Temp\\tmp9u9j1e1j\\assets\n"
     ]
    },
    {
     "name": "stderr",
     "output_type": "stream",
     "text": [
      "INFO:tensorflow:Assets written to: C:\\Users\\USer\\AppData\\Local\\Temp\\tmp9u9j1e1j\\assets\n"
     ]
    },
    {
     "name": "stdout",
     "output_type": "stream",
     "text": [
      "WARNING:tensorflow:Detecting that an object or model or tf.train.Checkpoint is being deleted with unrestored values. See the following logs for the specific values in question. To silence these warnings, use `status.expect_partial()`. See https://www.tensorflow.org/api_docs/python/tf/train/Checkpoint#restorefor details about the status object returned by the restore function.\n"
     ]
    },
    {
     "name": "stderr",
     "output_type": "stream",
     "text": [
      "WARNING:tensorflow:Detecting that an object or model or tf.train.Checkpoint is being deleted with unrestored values. See the following logs for the specific values in question. To silence these warnings, use `status.expect_partial()`. See https://www.tensorflow.org/api_docs/python/tf/train/Checkpoint#restorefor details about the status object returned by the restore function.\n"
     ]
    },
    {
     "name": "stdout",
     "output_type": "stream",
     "text": [
      "WARNING:tensorflow:Value in checkpoint could not be found in the restored object: (root).keras_api.metrics.0.total\n"
     ]
    },
    {
     "name": "stderr",
     "output_type": "stream",
     "text": [
      "WARNING:tensorflow:Value in checkpoint could not be found in the restored object: (root).keras_api.metrics.0.total\n"
     ]
    },
    {
     "name": "stdout",
     "output_type": "stream",
     "text": [
      "WARNING:tensorflow:Value in checkpoint could not be found in the restored object: (root).keras_api.metrics.0.count\n"
     ]
    },
    {
     "name": "stderr",
     "output_type": "stream",
     "text": [
      "WARNING:tensorflow:Value in checkpoint could not be found in the restored object: (root).keras_api.metrics.0.count\n"
     ]
    },
    {
     "name": "stdout",
     "output_type": "stream",
     "text": [
      "WARNING:tensorflow:Value in checkpoint could not be found in the restored object: (root).keras_api.metrics.1.total\n"
     ]
    },
    {
     "name": "stderr",
     "output_type": "stream",
     "text": [
      "WARNING:tensorflow:Value in checkpoint could not be found in the restored object: (root).keras_api.metrics.1.total\n"
     ]
    },
    {
     "name": "stdout",
     "output_type": "stream",
     "text": [
      "WARNING:tensorflow:Value in checkpoint could not be found in the restored object: (root).keras_api.metrics.1.count\n"
     ]
    },
    {
     "name": "stderr",
     "output_type": "stream",
     "text": [
      "WARNING:tensorflow:Value in checkpoint could not be found in the restored object: (root).keras_api.metrics.1.count\n"
     ]
    },
    {
     "name": "stdout",
     "output_type": "stream",
     "text": [
      "WARNING:tensorflow:Detecting that an object or model or tf.train.Checkpoint is being deleted with unrestored values. See the following logs for the specific values in question. To silence these warnings, use `status.expect_partial()`. See https://www.tensorflow.org/api_docs/python/tf/train/Checkpoint#restorefor details about the status object returned by the restore function.\n"
     ]
    },
    {
     "name": "stderr",
     "output_type": "stream",
     "text": [
      "WARNING:tensorflow:Detecting that an object or model or tf.train.Checkpoint is being deleted with unrestored values. See the following logs for the specific values in question. To silence these warnings, use `status.expect_partial()`. See https://www.tensorflow.org/api_docs/python/tf/train/Checkpoint#restorefor details about the status object returned by the restore function.\n"
     ]
    },
    {
     "name": "stdout",
     "output_type": "stream",
     "text": [
      "WARNING:tensorflow:Value in checkpoint could not be found in the restored object: (root).keras_api.metrics.0.total\n"
     ]
    },
    {
     "name": "stderr",
     "output_type": "stream",
     "text": [
      "WARNING:tensorflow:Value in checkpoint could not be found in the restored object: (root).keras_api.metrics.0.total\n"
     ]
    },
    {
     "name": "stdout",
     "output_type": "stream",
     "text": [
      "WARNING:tensorflow:Value in checkpoint could not be found in the restored object: (root).keras_api.metrics.0.count\n"
     ]
    },
    {
     "name": "stderr",
     "output_type": "stream",
     "text": [
      "WARNING:tensorflow:Value in checkpoint could not be found in the restored object: (root).keras_api.metrics.0.count\n"
     ]
    },
    {
     "name": "stdout",
     "output_type": "stream",
     "text": [
      "WARNING:tensorflow:Value in checkpoint could not be found in the restored object: (root).keras_api.metrics.1.total\n"
     ]
    },
    {
     "name": "stderr",
     "output_type": "stream",
     "text": [
      "WARNING:tensorflow:Value in checkpoint could not be found in the restored object: (root).keras_api.metrics.1.total\n"
     ]
    },
    {
     "name": "stdout",
     "output_type": "stream",
     "text": [
      "WARNING:tensorflow:Value in checkpoint could not be found in the restored object: (root).keras_api.metrics.1.count\n"
     ]
    },
    {
     "name": "stderr",
     "output_type": "stream",
     "text": [
      "WARNING:tensorflow:Value in checkpoint could not be found in the restored object: (root).keras_api.metrics.1.count\n"
     ]
    },
    {
     "name": "stdout",
     "output_type": "stream",
     "text": [
      "Epoch 1/10\n",
      "1715/1715 [==============================] - 7s 4ms/step - loss: 0.0132 - accuracy: 0.9956\n",
      "Epoch 2/10\n",
      "1715/1715 [==============================] - 7s 4ms/step - loss: 0.0114 - accuracy: 0.9962\n",
      "Epoch 3/10\n",
      "1715/1715 [==============================] - 7s 4ms/step - loss: 0.0101 - accuracy: 0.9966\n",
      "Epoch 4/10\n",
      "1715/1715 [==============================] - 7s 4ms/step - loss: 0.0098 - accuracy: 0.9968\n",
      "Epoch 5/10\n",
      "1715/1715 [==============================] - 7s 4ms/step - loss: 0.0082 - accuracy: 0.9973\n",
      "Epoch 6/10\n",
      "1715/1715 [==============================] - 7s 4ms/step - loss: 0.0069 - accuracy: 0.9978\n",
      "Epoch 7/10\n",
      "1715/1715 [==============================] - 7s 4ms/step - loss: 0.0096 - accuracy: 0.9966\n",
      "Epoch 8/10\n",
      "1715/1715 [==============================] - 7s 4ms/step - loss: 0.0075 - accuracy: 0.9970\n",
      "Epoch 9/10\n",
      "1715/1715 [==============================] - 7s 4ms/step - loss: 0.0072 - accuracy: 0.9975\n",
      "Epoch 10/10\n",
      "1715/1715 [==============================] - 7s 4ms/step - loss: 0.0062 - accuracy: 0.9979\n",
      "429/429 [==============================] - 1s 2ms/step\n",
      "INFO:tensorflow:Assets written to: C:\\Users\\USer\\AppData\\Local\\Temp\\tmp_khl6quf\\assets\n"
     ]
    },
    {
     "name": "stderr",
     "output_type": "stream",
     "text": [
      "INFO:tensorflow:Assets written to: C:\\Users\\USer\\AppData\\Local\\Temp\\tmp_khl6quf\\assets\n"
     ]
    },
    {
     "name": "stdout",
     "output_type": "stream",
     "text": [
      "Epoch 1/10\n",
      "1715/1715 [==============================] - 7s 4ms/step - loss: 0.0134 - accuracy: 0.9953\n",
      "Epoch 2/10\n",
      "1715/1715 [==============================] - 7s 4ms/step - loss: 0.0103 - accuracy: 0.9963\n",
      "Epoch 3/10\n",
      "1715/1715 [==============================] - 22s 13ms/step - loss: 0.0118 - accuracy: 0.9956\n",
      "Epoch 4/10\n",
      "1715/1715 [==============================] - 23s 13ms/step - loss: 0.0101 - accuracy: 0.9966\n",
      "Epoch 5/10\n",
      "1715/1715 [==============================] - 21s 12ms/step - loss: 0.0085 - accuracy: 0.9969\n",
      "Epoch 6/10\n",
      "1715/1715 [==============================] - 24s 14ms/step - loss: 0.0094 - accuracy: 0.9969\n",
      "Epoch 7/10\n",
      "1715/1715 [==============================] - 26s 15ms/step - loss: 0.0076 - accuracy: 0.9974\n",
      "Epoch 8/10\n",
      "1715/1715 [==============================] - 28s 16ms/step - loss: 0.0075 - accuracy: 0.9973\n",
      "Epoch 9/10\n",
      "1715/1715 [==============================] - 20s 11ms/step - loss: 0.0063 - accuracy: 0.9979\n",
      "Epoch 10/10\n",
      "1715/1715 [==============================] - 6s 4ms/step - loss: 0.0055 - accuracy: 0.9982\n",
      "429/429 [==============================] - 1s 2ms/step\n",
      "Cross-validation scores: [0.99458333 0.99625    0.99308333 0.99241667 0.99383333]\n"
     ]
    }
   ],
   "source": [
    "from sklearn.model_selection import cross_val_predict, cross_val_score\n",
    "#cross validation\n",
    "scores = cross_val_score(history, train_images, train_Labels, cv=5, scoring='accuracy')\n",
    "print(\"Cross-validation scores:\", scores)"
   ]
  },
  {
   "cell_type": "code",
   "execution_count": 16,
   "metadata": {},
   "outputs": [
    {
     "name": "stdout",
     "output_type": "stream",
     "text": [
      "True\n",
      "cross val score for dummy classifier:  0.11236666666666666\n"
     ]
    }
   ],
   "source": [
    "from sklearn.dummy import DummyClassifier\n",
    "dummy_clf = DummyClassifier(strategy=\"most_frequent\")\n",
    "dummy_clf.fit(train_images, train_Labels)\n",
    "print(any(dummy_clf.predict(test_images) == test_Labels)) #any means if any of the predictions are correct\n",
    "\n",
    "crossvaldummy = cross_val_score(dummy_clf, train_images, train_Labels, cv=5, scoring='accuracy')\n",
    "print(\"cross val score for dummy classifier: \",crossvaldummy.mean())"
   ]
  },
  {
   "cell_type": "code",
   "execution_count": 18,
   "metadata": {},
   "outputs": [
    {
     "name": "stdout",
     "output_type": "stream",
     "text": [
      "INFO:tensorflow:Assets written to: C:\\Users\\USer\\AppData\\Local\\Temp\\tmp2zsgtwlt\\assets\n"
     ]
    },
    {
     "name": "stderr",
     "output_type": "stream",
     "text": [
      "INFO:tensorflow:Assets written to: C:\\Users\\USer\\AppData\\Local\\Temp\\tmp2zsgtwlt\\assets\n"
     ]
    },
    {
     "name": "stdout",
     "output_type": "stream",
     "text": [
      "Epoch 1/10\n",
      "1715/1715 [==============================] - 7s 4ms/step - loss: 0.0137 - accuracy: 0.9948\n",
      "Epoch 2/10\n",
      "1715/1715 [==============================] - 6s 4ms/step - loss: 0.0108 - accuracy: 0.9965\n",
      "Epoch 3/10\n",
      "1715/1715 [==============================] - 6s 4ms/step - loss: 0.0110 - accuracy: 0.9961\n",
      "Epoch 4/10\n",
      "1715/1715 [==============================] - 6s 4ms/step - loss: 0.0102 - accuracy: 0.9961\n",
      "Epoch 5/10\n",
      "1715/1715 [==============================] - 6s 4ms/step - loss: 0.0083 - accuracy: 0.9973\n",
      "Epoch 6/10\n",
      "1715/1715 [==============================] - 6s 4ms/step - loss: 0.0092 - accuracy: 0.9969\n",
      "Epoch 7/10\n",
      "1715/1715 [==============================] - 7s 4ms/step - loss: 0.0072 - accuracy: 0.9975\n",
      "Epoch 8/10\n",
      "1715/1715 [==============================] - 7s 4ms/step - loss: 0.0071 - accuracy: 0.9973\n",
      "Epoch 9/10\n",
      "1715/1715 [==============================] - 12s 7ms/step - loss: 0.0071 - accuracy: 0.9977\n",
      "Epoch 10/10\n",
      "1715/1715 [==============================] - 26s 15ms/step - loss: 0.0067 - accuracy: 0.9977\n",
      "429/429 [==============================] - 3s 8ms/step\n",
      "WARNING:tensorflow:Detecting that an object or model or tf.train.Checkpoint is being deleted with unrestored values. See the following logs for the specific values in question. To silence these warnings, use `status.expect_partial()`. See https://www.tensorflow.org/api_docs/python/tf/train/Checkpoint#restorefor details about the status object returned by the restore function.\n"
     ]
    },
    {
     "name": "stderr",
     "output_type": "stream",
     "text": [
      "WARNING:tensorflow:Detecting that an object or model or tf.train.Checkpoint is being deleted with unrestored values. See the following logs for the specific values in question. To silence these warnings, use `status.expect_partial()`. See https://www.tensorflow.org/api_docs/python/tf/train/Checkpoint#restorefor details about the status object returned by the restore function.\n"
     ]
    },
    {
     "name": "stdout",
     "output_type": "stream",
     "text": [
      "WARNING:tensorflow:Value in checkpoint could not be found in the restored object: (root).keras_api.metrics.0.total\n"
     ]
    },
    {
     "name": "stderr",
     "output_type": "stream",
     "text": [
      "WARNING:tensorflow:Value in checkpoint could not be found in the restored object: (root).keras_api.metrics.0.total\n"
     ]
    },
    {
     "name": "stdout",
     "output_type": "stream",
     "text": [
      "WARNING:tensorflow:Value in checkpoint could not be found in the restored object: (root).keras_api.metrics.0.count\n"
     ]
    },
    {
     "name": "stderr",
     "output_type": "stream",
     "text": [
      "WARNING:tensorflow:Value in checkpoint could not be found in the restored object: (root).keras_api.metrics.0.count\n"
     ]
    },
    {
     "name": "stdout",
     "output_type": "stream",
     "text": [
      "WARNING:tensorflow:Value in checkpoint could not be found in the restored object: (root).keras_api.metrics.1.total\n"
     ]
    },
    {
     "name": "stderr",
     "output_type": "stream",
     "text": [
      "WARNING:tensorflow:Value in checkpoint could not be found in the restored object: (root).keras_api.metrics.1.total\n"
     ]
    },
    {
     "name": "stdout",
     "output_type": "stream",
     "text": [
      "WARNING:tensorflow:Value in checkpoint could not be found in the restored object: (root).keras_api.metrics.1.count\n"
     ]
    },
    {
     "name": "stderr",
     "output_type": "stream",
     "text": [
      "WARNING:tensorflow:Value in checkpoint could not be found in the restored object: (root).keras_api.metrics.1.count\n"
     ]
    },
    {
     "name": "stdout",
     "output_type": "stream",
     "text": [
      "WARNING:tensorflow:Detecting that an object or model or tf.train.Checkpoint is being deleted with unrestored values. See the following logs for the specific values in question. To silence these warnings, use `status.expect_partial()`. See https://www.tensorflow.org/api_docs/python/tf/train/Checkpoint#restorefor details about the status object returned by the restore function.\n"
     ]
    },
    {
     "name": "stderr",
     "output_type": "stream",
     "text": [
      "WARNING:tensorflow:Detecting that an object or model or tf.train.Checkpoint is being deleted with unrestored values. See the following logs for the specific values in question. To silence these warnings, use `status.expect_partial()`. See https://www.tensorflow.org/api_docs/python/tf/train/Checkpoint#restorefor details about the status object returned by the restore function.\n"
     ]
    },
    {
     "name": "stdout",
     "output_type": "stream",
     "text": [
      "WARNING:tensorflow:Value in checkpoint could not be found in the restored object: (root).keras_api.metrics.0.total\n"
     ]
    },
    {
     "name": "stderr",
     "output_type": "stream",
     "text": [
      "WARNING:tensorflow:Value in checkpoint could not be found in the restored object: (root).keras_api.metrics.0.total\n"
     ]
    },
    {
     "name": "stdout",
     "output_type": "stream",
     "text": [
      "WARNING:tensorflow:Value in checkpoint could not be found in the restored object: (root).keras_api.metrics.0.count\n"
     ]
    },
    {
     "name": "stderr",
     "output_type": "stream",
     "text": [
      "WARNING:tensorflow:Value in checkpoint could not be found in the restored object: (root).keras_api.metrics.0.count\n"
     ]
    },
    {
     "name": "stdout",
     "output_type": "stream",
     "text": [
      "WARNING:tensorflow:Value in checkpoint could not be found in the restored object: (root).keras_api.metrics.1.total\n"
     ]
    },
    {
     "name": "stderr",
     "output_type": "stream",
     "text": [
      "WARNING:tensorflow:Value in checkpoint could not be found in the restored object: (root).keras_api.metrics.1.total\n"
     ]
    },
    {
     "name": "stdout",
     "output_type": "stream",
     "text": [
      "WARNING:tensorflow:Value in checkpoint could not be found in the restored object: (root).keras_api.metrics.1.count\n"
     ]
    },
    {
     "name": "stderr",
     "output_type": "stream",
     "text": [
      "WARNING:tensorflow:Value in checkpoint could not be found in the restored object: (root).keras_api.metrics.1.count\n"
     ]
    },
    {
     "name": "stdout",
     "output_type": "stream",
     "text": [
      "WARNING:tensorflow:Detecting that an object or model or tf.train.Checkpoint is being deleted with unrestored values. See the following logs for the specific values in question. To silence these warnings, use `status.expect_partial()`. See https://www.tensorflow.org/api_docs/python/tf/train/Checkpoint#restorefor details about the status object returned by the restore function.\n"
     ]
    },
    {
     "name": "stderr",
     "output_type": "stream",
     "text": [
      "WARNING:tensorflow:Detecting that an object or model or tf.train.Checkpoint is being deleted with unrestored values. See the following logs for the specific values in question. To silence these warnings, use `status.expect_partial()`. See https://www.tensorflow.org/api_docs/python/tf/train/Checkpoint#restorefor details about the status object returned by the restore function.\n"
     ]
    },
    {
     "name": "stdout",
     "output_type": "stream",
     "text": [
      "WARNING:tensorflow:Value in checkpoint could not be found in the restored object: (root).keras_api.metrics.0.total\n"
     ]
    },
    {
     "name": "stderr",
     "output_type": "stream",
     "text": [
      "WARNING:tensorflow:Value in checkpoint could not be found in the restored object: (root).keras_api.metrics.0.total\n"
     ]
    },
    {
     "name": "stdout",
     "output_type": "stream",
     "text": [
      "WARNING:tensorflow:Value in checkpoint could not be found in the restored object: (root).keras_api.metrics.0.count\n"
     ]
    },
    {
     "name": "stderr",
     "output_type": "stream",
     "text": [
      "WARNING:tensorflow:Value in checkpoint could not be found in the restored object: (root).keras_api.metrics.0.count\n"
     ]
    },
    {
     "name": "stdout",
     "output_type": "stream",
     "text": [
      "WARNING:tensorflow:Value in checkpoint could not be found in the restored object: (root).keras_api.metrics.1.total\n"
     ]
    },
    {
     "name": "stderr",
     "output_type": "stream",
     "text": [
      "WARNING:tensorflow:Value in checkpoint could not be found in the restored object: (root).keras_api.metrics.1.total\n"
     ]
    },
    {
     "name": "stdout",
     "output_type": "stream",
     "text": [
      "WARNING:tensorflow:Value in checkpoint could not be found in the restored object: (root).keras_api.metrics.1.count\n"
     ]
    },
    {
     "name": "stderr",
     "output_type": "stream",
     "text": [
      "WARNING:tensorflow:Value in checkpoint could not be found in the restored object: (root).keras_api.metrics.1.count\n"
     ]
    },
    {
     "name": "stdout",
     "output_type": "stream",
     "text": [
      "WARNING:tensorflow:Detecting that an object or model or tf.train.Checkpoint is being deleted with unrestored values. See the following logs for the specific values in question. To silence these warnings, use `status.expect_partial()`. See https://www.tensorflow.org/api_docs/python/tf/train/Checkpoint#restorefor details about the status object returned by the restore function.\n"
     ]
    },
    {
     "name": "stderr",
     "output_type": "stream",
     "text": [
      "WARNING:tensorflow:Detecting that an object or model or tf.train.Checkpoint is being deleted with unrestored values. See the following logs for the specific values in question. To silence these warnings, use `status.expect_partial()`. See https://www.tensorflow.org/api_docs/python/tf/train/Checkpoint#restorefor details about the status object returned by the restore function.\n"
     ]
    },
    {
     "name": "stdout",
     "output_type": "stream",
     "text": [
      "WARNING:tensorflow:Value in checkpoint could not be found in the restored object: (root).keras_api.metrics.0.total\n"
     ]
    },
    {
     "name": "stderr",
     "output_type": "stream",
     "text": [
      "WARNING:tensorflow:Value in checkpoint could not be found in the restored object: (root).keras_api.metrics.0.total\n"
     ]
    },
    {
     "name": "stdout",
     "output_type": "stream",
     "text": [
      "WARNING:tensorflow:Value in checkpoint could not be found in the restored object: (root).keras_api.metrics.0.count\n"
     ]
    },
    {
     "name": "stderr",
     "output_type": "stream",
     "text": [
      "WARNING:tensorflow:Value in checkpoint could not be found in the restored object: (root).keras_api.metrics.0.count\n"
     ]
    },
    {
     "name": "stdout",
     "output_type": "stream",
     "text": [
      "WARNING:tensorflow:Value in checkpoint could not be found in the restored object: (root).keras_api.metrics.1.total\n"
     ]
    },
    {
     "name": "stderr",
     "output_type": "stream",
     "text": [
      "WARNING:tensorflow:Value in checkpoint could not be found in the restored object: (root).keras_api.metrics.1.total\n"
     ]
    },
    {
     "name": "stdout",
     "output_type": "stream",
     "text": [
      "WARNING:tensorflow:Value in checkpoint could not be found in the restored object: (root).keras_api.metrics.1.count\n"
     ]
    },
    {
     "name": "stderr",
     "output_type": "stream",
     "text": [
      "WARNING:tensorflow:Value in checkpoint could not be found in the restored object: (root).keras_api.metrics.1.count\n"
     ]
    },
    {
     "name": "stdout",
     "output_type": "stream",
     "text": [
      "INFO:tensorflow:Assets written to: C:\\Users\\USer\\AppData\\Local\\Temp\\tmpf_zkeg7i\\assets\n"
     ]
    },
    {
     "name": "stderr",
     "output_type": "stream",
     "text": [
      "INFO:tensorflow:Assets written to: C:\\Users\\USer\\AppData\\Local\\Temp\\tmpf_zkeg7i\\assets\n"
     ]
    },
    {
     "name": "stdout",
     "output_type": "stream",
     "text": [
      "Epoch 1/10\n",
      "1715/1715 [==============================] - 30s 17ms/step - loss: 0.0132 - accuracy: 0.9959\n",
      "Epoch 2/10\n",
      "1715/1715 [==============================] - 20s 12ms/step - loss: 0.0122 - accuracy: 0.9959\n",
      "Epoch 3/10\n",
      "1715/1715 [==============================] - 7s 4ms/step - loss: 0.0113 - accuracy: 0.9959\n",
      "Epoch 4/10\n",
      "1715/1715 [==============================] - 7s 4ms/step - loss: 0.0102 - accuracy: 0.9965\n",
      "Epoch 5/10\n",
      "1715/1715 [==============================] - 7s 4ms/step - loss: 0.0098 - accuracy: 0.9967\n",
      "Epoch 6/10\n",
      "1715/1715 [==============================] - 7s 4ms/step - loss: 0.0089 - accuracy: 0.9971\n",
      "Epoch 7/10\n",
      "1715/1715 [==============================] - 7s 4ms/step - loss: 0.0076 - accuracy: 0.9973\n",
      "Epoch 8/10\n",
      "1715/1715 [==============================] - 7s 4ms/step - loss: 0.0082 - accuracy: 0.9970\n",
      "Epoch 9/10\n",
      "1715/1715 [==============================] - 7s 4ms/step - loss: 0.0058 - accuracy: 0.9980\n",
      "Epoch 10/10\n",
      "1715/1715 [==============================] - 7s 4ms/step - loss: 0.0074 - accuracy: 0.9973\n",
      "429/429 [==============================] - 1s 2ms/step\n",
      "INFO:tensorflow:Assets written to: C:\\Users\\USer\\AppData\\Local\\Temp\\tmpqpv85mh9\\assets\n"
     ]
    },
    {
     "name": "stderr",
     "output_type": "stream",
     "text": [
      "INFO:tensorflow:Assets written to: C:\\Users\\USer\\AppData\\Local\\Temp\\tmpqpv85mh9\\assets\n"
     ]
    },
    {
     "name": "stdout",
     "output_type": "stream",
     "text": [
      "Epoch 1/10\n",
      "1715/1715 [==============================] - 7s 4ms/step - loss: 0.0142 - accuracy: 0.9952\n",
      "Epoch 2/10\n",
      "1715/1715 [==============================] - 6s 4ms/step - loss: 0.0123 - accuracy: 0.9957\n",
      "Epoch 3/10\n",
      "1715/1715 [==============================] - 6s 4ms/step - loss: 0.0103 - accuracy: 0.9964\n",
      "Epoch 4/10\n",
      "1715/1715 [==============================] - 6s 4ms/step - loss: 0.0103 - accuracy: 0.9963\n",
      "Epoch 5/10\n",
      "1715/1715 [==============================] - 7s 4ms/step - loss: 0.0088 - accuracy: 0.9972\n",
      "Epoch 6/10\n",
      "1715/1715 [==============================] - 6s 4ms/step - loss: 0.0094 - accuracy: 0.9966\n",
      "Epoch 7/10\n",
      "1715/1715 [==============================] - 6s 4ms/step - loss: 0.0071 - accuracy: 0.9972\n",
      "Epoch 8/10\n",
      "1715/1715 [==============================] - 6s 4ms/step - loss: 0.0088 - accuracy: 0.9969\n",
      "Epoch 9/10\n",
      "1715/1715 [==============================] - 6s 4ms/step - loss: 0.0060 - accuracy: 0.9978\n",
      "Epoch 10/10\n",
      "1715/1715 [==============================] - 13s 8ms/step - loss: 0.0065 - accuracy: 0.9975\n",
      "429/429 [==============================] - 2s 5ms/step\n",
      "INFO:tensorflow:Assets written to: C:\\Users\\USer\\AppData\\Local\\Temp\\tmp98jvpkw4\\assets\n"
     ]
    },
    {
     "name": "stderr",
     "output_type": "stream",
     "text": [
      "INFO:tensorflow:Assets written to: C:\\Users\\USer\\AppData\\Local\\Temp\\tmp98jvpkw4\\assets\n"
     ]
    },
    {
     "name": "stdout",
     "output_type": "stream",
     "text": [
      "Epoch 1/10\n",
      "1715/1715 [==============================] - 20s 12ms/step - loss: 0.0127 - accuracy: 0.9956\n",
      "Epoch 2/10\n",
      "1715/1715 [==============================] - 20s 11ms/step - loss: 0.0106 - accuracy: 0.9963\n",
      "Epoch 3/10\n",
      "1715/1715 [==============================] - 19s 11ms/step - loss: 0.0104 - accuracy: 0.9964\n",
      "Epoch 4/10\n",
      "1715/1715 [==============================] - 9s 6ms/step - loss: 0.0090 - accuracy: 0.9969\n",
      "Epoch 5/10\n",
      "1715/1715 [==============================] - 7s 4ms/step - loss: 0.0083 - accuracy: 0.9972\n",
      "Epoch 6/10\n",
      "1715/1715 [==============================] - 7s 4ms/step - loss: 0.0071 - accuracy: 0.9975\n",
      "Epoch 7/10\n",
      "1715/1715 [==============================] - 7s 4ms/step - loss: 0.0074 - accuracy: 0.9975\n",
      "Epoch 8/10\n",
      "1715/1715 [==============================] - 7s 4ms/step - loss: 0.0057 - accuracy: 0.9979\n",
      "Epoch 9/10\n",
      "1715/1715 [==============================] - 11s 6ms/step - loss: 0.0082 - accuracy: 0.9973\n",
      "Epoch 10/10\n",
      "1715/1715 [==============================] - 16s 9ms/step - loss: 0.0075 - accuracy: 0.9975\n",
      "429/429 [==============================] - 1s 2ms/step\n",
      "INFO:tensorflow:Assets written to: C:\\Users\\USer\\AppData\\Local\\Temp\\tmpw_jucnpa\\assets\n"
     ]
    },
    {
     "name": "stderr",
     "output_type": "stream",
     "text": [
      "INFO:tensorflow:Assets written to: C:\\Users\\USer\\AppData\\Local\\Temp\\tmpw_jucnpa\\assets\n"
     ]
    },
    {
     "name": "stdout",
     "output_type": "stream",
     "text": [
      "WARNING:tensorflow:Detecting that an object or model or tf.train.Checkpoint is being deleted with unrestored values. See the following logs for the specific values in question. To silence these warnings, use `status.expect_partial()`. See https://www.tensorflow.org/api_docs/python/tf/train/Checkpoint#restorefor details about the status object returned by the restore function.\n"
     ]
    },
    {
     "name": "stderr",
     "output_type": "stream",
     "text": [
      "WARNING:tensorflow:Detecting that an object or model or tf.train.Checkpoint is being deleted with unrestored values. See the following logs for the specific values in question. To silence these warnings, use `status.expect_partial()`. See https://www.tensorflow.org/api_docs/python/tf/train/Checkpoint#restorefor details about the status object returned by the restore function.\n"
     ]
    },
    {
     "name": "stdout",
     "output_type": "stream",
     "text": [
      "WARNING:tensorflow:Value in checkpoint could not be found in the restored object: (root).keras_api.metrics.0.total\n"
     ]
    },
    {
     "name": "stderr",
     "output_type": "stream",
     "text": [
      "WARNING:tensorflow:Value in checkpoint could not be found in the restored object: (root).keras_api.metrics.0.total\n"
     ]
    },
    {
     "name": "stdout",
     "output_type": "stream",
     "text": [
      "WARNING:tensorflow:Value in checkpoint could not be found in the restored object: (root).keras_api.metrics.0.count\n"
     ]
    },
    {
     "name": "stderr",
     "output_type": "stream",
     "text": [
      "WARNING:tensorflow:Value in checkpoint could not be found in the restored object: (root).keras_api.metrics.0.count\n"
     ]
    },
    {
     "name": "stdout",
     "output_type": "stream",
     "text": [
      "WARNING:tensorflow:Value in checkpoint could not be found in the restored object: (root).keras_api.metrics.1.total\n"
     ]
    },
    {
     "name": "stderr",
     "output_type": "stream",
     "text": [
      "WARNING:tensorflow:Value in checkpoint could not be found in the restored object: (root).keras_api.metrics.1.total\n"
     ]
    },
    {
     "name": "stdout",
     "output_type": "stream",
     "text": [
      "WARNING:tensorflow:Value in checkpoint could not be found in the restored object: (root).keras_api.metrics.1.count\n"
     ]
    },
    {
     "name": "stderr",
     "output_type": "stream",
     "text": [
      "WARNING:tensorflow:Value in checkpoint could not be found in the restored object: (root).keras_api.metrics.1.count\n"
     ]
    },
    {
     "name": "stdout",
     "output_type": "stream",
     "text": [
      "WARNING:tensorflow:Detecting that an object or model or tf.train.Checkpoint is being deleted with unrestored values. See the following logs for the specific values in question. To silence these warnings, use `status.expect_partial()`. See https://www.tensorflow.org/api_docs/python/tf/train/Checkpoint#restorefor details about the status object returned by the restore function.\n"
     ]
    },
    {
     "name": "stderr",
     "output_type": "stream",
     "text": [
      "WARNING:tensorflow:Detecting that an object or model or tf.train.Checkpoint is being deleted with unrestored values. See the following logs for the specific values in question. To silence these warnings, use `status.expect_partial()`. See https://www.tensorflow.org/api_docs/python/tf/train/Checkpoint#restorefor details about the status object returned by the restore function.\n"
     ]
    },
    {
     "name": "stdout",
     "output_type": "stream",
     "text": [
      "WARNING:tensorflow:Value in checkpoint could not be found in the restored object: (root).keras_api.metrics.0.total\n"
     ]
    },
    {
     "name": "stderr",
     "output_type": "stream",
     "text": [
      "WARNING:tensorflow:Value in checkpoint could not be found in the restored object: (root).keras_api.metrics.0.total\n"
     ]
    },
    {
     "name": "stdout",
     "output_type": "stream",
     "text": [
      "WARNING:tensorflow:Value in checkpoint could not be found in the restored object: (root).keras_api.metrics.0.count\n"
     ]
    },
    {
     "name": "stderr",
     "output_type": "stream",
     "text": [
      "WARNING:tensorflow:Value in checkpoint could not be found in the restored object: (root).keras_api.metrics.0.count\n"
     ]
    },
    {
     "name": "stdout",
     "output_type": "stream",
     "text": [
      "WARNING:tensorflow:Value in checkpoint could not be found in the restored object: (root).keras_api.metrics.1.total\n"
     ]
    },
    {
     "name": "stderr",
     "output_type": "stream",
     "text": [
      "WARNING:tensorflow:Value in checkpoint could not be found in the restored object: (root).keras_api.metrics.1.total\n"
     ]
    },
    {
     "name": "stdout",
     "output_type": "stream",
     "text": [
      "WARNING:tensorflow:Value in checkpoint could not be found in the restored object: (root).keras_api.metrics.1.count\n"
     ]
    },
    {
     "name": "stderr",
     "output_type": "stream",
     "text": [
      "WARNING:tensorflow:Value in checkpoint could not be found in the restored object: (root).keras_api.metrics.1.count\n"
     ]
    },
    {
     "name": "stdout",
     "output_type": "stream",
     "text": [
      "WARNING:tensorflow:Detecting that an object or model or tf.train.Checkpoint is being deleted with unrestored values. See the following logs for the specific values in question. To silence these warnings, use `status.expect_partial()`. See https://www.tensorflow.org/api_docs/python/tf/train/Checkpoint#restorefor details about the status object returned by the restore function.\n"
     ]
    },
    {
     "name": "stderr",
     "output_type": "stream",
     "text": [
      "WARNING:tensorflow:Detecting that an object or model or tf.train.Checkpoint is being deleted with unrestored values. See the following logs for the specific values in question. To silence these warnings, use `status.expect_partial()`. See https://www.tensorflow.org/api_docs/python/tf/train/Checkpoint#restorefor details about the status object returned by the restore function.\n"
     ]
    },
    {
     "name": "stdout",
     "output_type": "stream",
     "text": [
      "WARNING:tensorflow:Value in checkpoint could not be found in the restored object: (root).keras_api.metrics.0.total\n"
     ]
    },
    {
     "name": "stderr",
     "output_type": "stream",
     "text": [
      "WARNING:tensorflow:Value in checkpoint could not be found in the restored object: (root).keras_api.metrics.0.total\n"
     ]
    },
    {
     "name": "stdout",
     "output_type": "stream",
     "text": [
      "WARNING:tensorflow:Value in checkpoint could not be found in the restored object: (root).keras_api.metrics.0.count\n"
     ]
    },
    {
     "name": "stderr",
     "output_type": "stream",
     "text": [
      "WARNING:tensorflow:Value in checkpoint could not be found in the restored object: (root).keras_api.metrics.0.count\n"
     ]
    },
    {
     "name": "stdout",
     "output_type": "stream",
     "text": [
      "WARNING:tensorflow:Value in checkpoint could not be found in the restored object: (root).keras_api.metrics.1.total\n"
     ]
    },
    {
     "name": "stderr",
     "output_type": "stream",
     "text": [
      "WARNING:tensorflow:Value in checkpoint could not be found in the restored object: (root).keras_api.metrics.1.total\n"
     ]
    },
    {
     "name": "stdout",
     "output_type": "stream",
     "text": [
      "WARNING:tensorflow:Value in checkpoint could not be found in the restored object: (root).keras_api.metrics.1.count\n"
     ]
    },
    {
     "name": "stderr",
     "output_type": "stream",
     "text": [
      "WARNING:tensorflow:Value in checkpoint could not be found in the restored object: (root).keras_api.metrics.1.count\n"
     ]
    },
    {
     "name": "stdout",
     "output_type": "stream",
     "text": [
      "WARNING:tensorflow:Detecting that an object or model or tf.train.Checkpoint is being deleted with unrestored values. See the following logs for the specific values in question. To silence these warnings, use `status.expect_partial()`. See https://www.tensorflow.org/api_docs/python/tf/train/Checkpoint#restorefor details about the status object returned by the restore function.\n"
     ]
    },
    {
     "name": "stderr",
     "output_type": "stream",
     "text": [
      "WARNING:tensorflow:Detecting that an object or model or tf.train.Checkpoint is being deleted with unrestored values. See the following logs for the specific values in question. To silence these warnings, use `status.expect_partial()`. See https://www.tensorflow.org/api_docs/python/tf/train/Checkpoint#restorefor details about the status object returned by the restore function.\n"
     ]
    },
    {
     "name": "stdout",
     "output_type": "stream",
     "text": [
      "WARNING:tensorflow:Value in checkpoint could not be found in the restored object: (root).keras_api.metrics.0.total\n"
     ]
    },
    {
     "name": "stderr",
     "output_type": "stream",
     "text": [
      "WARNING:tensorflow:Value in checkpoint could not be found in the restored object: (root).keras_api.metrics.0.total\n"
     ]
    },
    {
     "name": "stdout",
     "output_type": "stream",
     "text": [
      "WARNING:tensorflow:Value in checkpoint could not be found in the restored object: (root).keras_api.metrics.0.count\n"
     ]
    },
    {
     "name": "stderr",
     "output_type": "stream",
     "text": [
      "WARNING:tensorflow:Value in checkpoint could not be found in the restored object: (root).keras_api.metrics.0.count\n"
     ]
    },
    {
     "name": "stdout",
     "output_type": "stream",
     "text": [
      "WARNING:tensorflow:Value in checkpoint could not be found in the restored object: (root).keras_api.metrics.1.total\n"
     ]
    },
    {
     "name": "stderr",
     "output_type": "stream",
     "text": [
      "WARNING:tensorflow:Value in checkpoint could not be found in the restored object: (root).keras_api.metrics.1.total\n"
     ]
    },
    {
     "name": "stdout",
     "output_type": "stream",
     "text": [
      "WARNING:tensorflow:Value in checkpoint could not be found in the restored object: (root).keras_api.metrics.1.count\n"
     ]
    },
    {
     "name": "stderr",
     "output_type": "stream",
     "text": [
      "WARNING:tensorflow:Value in checkpoint could not be found in the restored object: (root).keras_api.metrics.1.count\n"
     ]
    },
    {
     "name": "stdout",
     "output_type": "stream",
     "text": [
      "Epoch 1/10\n",
      "1715/1715 [==============================] - 8s 4ms/step - loss: 0.0138 - accuracy: 0.9955\n",
      "Epoch 2/10\n",
      "1715/1715 [==============================] - 7s 4ms/step - loss: 0.0104 - accuracy: 0.9965\n",
      "Epoch 3/10\n",
      "1715/1715 [==============================] - 7s 4ms/step - loss: 0.0114 - accuracy: 0.9962\n",
      "Epoch 4/10\n",
      "1715/1715 [==============================] - 7s 4ms/step - loss: 0.0092 - accuracy: 0.9969\n",
      "Epoch 5/10\n",
      "1715/1715 [==============================] - 7s 4ms/step - loss: 0.0085 - accuracy: 0.9972\n",
      "Epoch 6/10\n",
      "1715/1715 [==============================] - 7s 4ms/step - loss: 0.0098 - accuracy: 0.9966\n",
      "Epoch 7/10\n",
      "1715/1715 [==============================] - 7s 4ms/step - loss: 0.0078 - accuracy: 0.9971\n",
      "Epoch 8/10\n",
      "1715/1715 [==============================] - 7s 4ms/step - loss: 0.0070 - accuracy: 0.9975\n",
      "Epoch 9/10\n",
      "1715/1715 [==============================] - 7s 4ms/step - loss: 0.0071 - accuracy: 0.9975\n",
      "Epoch 10/10\n",
      "1715/1715 [==============================] - 7s 4ms/step - loss: 0.0067 - accuracy: 0.9975\n",
      "429/429 [==============================] - 1s 2ms/step\n",
      "[[5911    3    2    0    0    0    3    0    2    2]\n",
      " [   0 6720    6    2    1    1    1    7    4    0]\n",
      " [   3    3 5930    5    1    0    2    8    3    3]\n",
      " [   1    2   10 6079    0   18    0    5    8    8]\n",
      " [   3    4    0    0 5807    0    5    3    4   16]\n",
      " [   3    1    0    8    0 5385   10    0    8    6]\n",
      " [   6    5    1    1    4    3 5893    0    5    0]\n",
      " [   1    7    9    3    1    0    0 6236    2    6]\n",
      " [   3    8    2    2    3   12    6    0 5804   11]\n",
      " [   5    4    0    0   12    3    0   14    2 5909]]\n"
     ]
    },
    {
     "data": {
      "image/png": "[encoded data removed]",
      "text/plain": [
       "<Figure size 720x720 with 2 Axes>"
      ]
     },
     "metadata": {
      "needs_background": "light"
     },
     "output_type": "display_data"
    }
   ],
   "source": [
    "y_train_pred = cross_val_predict(history, train_images, train_Labels, cv=5)\n",
    "\n",
    "from sklearn.metrics import confusion_matrix\n",
    "import seaborn as sns\n",
    "\n",
    "cf = confusion_matrix(train_Labels, y_train_pred)\n",
    "print(cf)\n",
    "plt.figure(figsize=(10, 10))\n",
    "sns.heatmap(cf, annot=True, fmt='d', cmap='Blues', xticklabels=class_names, yticklabels=class_names)\n",
    "plt.xlabel('Predicted')\n",
    "plt.ylabel('True')\n",
    "plt.title('Confusion Matrix')\n",
    "plt.show()"
   ]
  },
  {
   "cell_type": "code",
   "execution_count": 19,
   "metadata": {},
   "outputs": [
    {
     "name": "stdout",
     "output_type": "stream",
     "text": [
      "Precision: 0.9945683406558868, Recall: 0.9945666666666667, F1 Score: 0.9945662686857413\n"
     ]
    }
   ],
   "source": [
    "from sklearn.metrics import precision_score, recall_score, f1_score\n",
    "precision = precision_score(train_Labels, y_train_pred, average='weighted')\n",
    "recall = recall_score(train_Labels, y_train_pred, average='weighted')\n",
    "f1 = f1_score(train_Labels, y_train_pred, average='weighted')\n",
    "print(f'Precision: {precision}, Recall: {recall}, F1 Score: {f1}')"
   ]
  },
  {
   "cell_type": "code",
   "execution_count": 10,
   "metadata": {},
   "outputs": [
    {
     "name": "stdout",
     "output_type": "stream",
     "text": [
      "313/313 [==============================] - 1s 2ms/step\n",
      "Accuracy: 98.69%\n",
      "Confusion Matrix:\n",
      "[[ 975    1    1    1    0    1    1    0    0    0]\n",
      " [   0 1130    1    1    0    0    2    1    0    0]\n",
      " [   3    4 1015    0    1    0    1    6    2    0]\n",
      " [   0    0    2  999    0    4    0    4    1    0]\n",
      " [   1    0    0    0  977    0    0    0    0    4]\n",
      " [   1    0    0    3    0  885    1    0    2    0]\n",
      " [   6    2    1    0    4    1  942    0    2    0]\n",
      " [   0    0    5    1    0    0    0 1020    1    1]\n",
      " [   9    0    5    3    1    3    1    1  948    3]\n",
      " [   1    4    1    1   12    3    0    8    1  978]]\n",
      "Classification Report:\n",
      "              precision    recall  f1-score   support\n",
      "\n",
      "           0       0.98      0.99      0.99       980\n",
      "           1       0.99      1.00      0.99      1135\n",
      "           2       0.98      0.98      0.98      1032\n",
      "           3       0.99      0.99      0.99      1010\n",
      "           4       0.98      0.99      0.99       982\n",
      "           5       0.99      0.99      0.99       892\n",
      "           6       0.99      0.98      0.99       958\n",
      "           7       0.98      0.99      0.99      1028\n",
      "           8       0.99      0.97      0.98       974\n",
      "           9       0.99      0.97      0.98      1009\n",
      "\n",
      "    accuracy                           0.99     10000\n",
      "   macro avg       0.99      0.99      0.99     10000\n",
      "weighted avg       0.99      0.99      0.99     10000\n",
      "\n"
     ]
    },
    {
     "data": {
      "image/png": "[encoded data removed]",
      "text/plain": [
       "<Figure size 720x720 with 9 Axes>"
      ]
     },
     "metadata": {},
     "output_type": "display_data"
    }
   ],
   "source": [
    "from sklearn.model_selection import cross_val_predict, cross_val_score\n",
    "\n",
    "from sklearn.metrics import accuracy_score, confusion_matrix, classification_report\n",
    "# Predicting the labels for the test set\n",
    "predictions = model.predict(test_images)\n",
    "predicted_labels = np.argmax(predictions, axis=1)\n",
    "# Calculating the accuracy\n",
    "accuracy = accuracy_score(test_Labels, predicted_labels)\n",
    "print(f'Accuracy: {accuracy * 100:.2f}%')\n",
    "# Generating the confusion matrix\n",
    "conf_matrix = confusion_matrix(test_Labels, predicted_labels)\n",
    "print('Confusion Matrix:')\n",
    "print(conf_matrix)\n",
    "# Generating the classification report\n",
    "class_report = classification_report(test_Labels, predicted_labels, target_names=class_names)\n",
    "print('Classification Report:')\n",
    "print(class_report)\n",
    "# Visualizing some predictions\n",
    "plt.figure(figsize=(10, 10))\n",
    "for i in range(9):\n",
    "    plt.subplot(3, 3, i + 1)\n",
    "    plt.xticks([])\n",
    "    plt.yticks([])\n",
    "    plt.grid(False)\n",
    "    plt.imshow(test_images[i], cmap=plt.cm.binary)\n",
    "    plt.xlabel(f'True: {class_names[test_Labels[i]]}\\nPredicted: {class_names[predicted_labels[i]]}')\n",
    "plt.show()\n"
   ]
  },
  {
   "cell_type": "code",
   "execution_count": 21,
   "metadata": {},
   "outputs": [
    {
     "name": "stdout",
     "output_type": "stream",
     "text": [
      "313/313 [==============================] - 1s 2ms/step\n"
     ]
    }
   ],
   "source": [
    "out = model.predict(test_images)"
   ]
  },
  {
   "cell_type": "code",
   "execution_count": 24,
   "metadata": {},
   "outputs": [
    {
     "name": "stdout",
     "output_type": "stream",
     "text": [
      "The predicted class is:  1\n",
      "The real answer is :  1\n"
     ]
    }
   ],
   "source": [
    "num = int(input(\"Please enter the number of the image you want to test: \")) #taking input from the user\n",
    "\n",
    "\n",
    "m = -1000\n",
    "o2 = out[num]\n",
    "ind = -1\n",
    "\n",
    "for i in range(len(o2)):\n",
    "    if o2[i] > m:\n",
    "        m = o2[i]\n",
    "        ind = i\n",
    "print(\"The predicted class is: \", class_names[ind]) #printing the predicted class\n",
    "print(\"The real answer is : \", class_names[test_Labels[num]]) #printing the real answer"
   ]
  }
 ],
 "metadata": {
  "kernelspec": {
   "display_name": "base",
   "language": "python",
   "name": "python3"
  },
  "language_info": {
   "codemirror_mode": {
    "name": "ipython",
    "version": 3
   },
   "file_extension": ".py",
   "mimetype": "text/x-python",
   "name": "python",
   "nbconvert_exporter": "python",
   "pygments_lexer": "ipython3",
   "version": "3.8.8"
  }
 },
 "nbformat": 4,
 "nbformat_minor": 2
}
