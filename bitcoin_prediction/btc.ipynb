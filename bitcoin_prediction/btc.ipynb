{
 "cells": [
  {
   "cell_type": "code",
   "execution_count": null,
   "id": "0144427c",
   "metadata": {},
   "outputs": [],
   "source": [
    "import numpy as np\n",
    "import seaborn as sns\n",
    "import pandas as pd\n",
    "import matplotlib.pyplot as plt\n",
    "\n",
    "from sklearn.preprocessing import MinMaxScaler\n",
    "\n",
    "from keras.models import Sequential\n",
    "from keras.layers import LSTM, Dense"
   ]
  },
  {
   "cell_type": "code",
   "execution_count": 36,
   "id": "7a5aa74d",
   "metadata": {},
   "outputs": [],
   "source": [
    "df = pd.read_csv(\"dataset/bitcoin.csv\")"
   ]
  },
  {
   "cell_type": "code",
   "execution_count": 37,
   "id": "4bd62aae",
   "metadata": {},
   "outputs": [
    {
     "data": {
      "application/vnd.microsoft.datawrangler.viewer.v0+json": {
       "columns": [
        {
         "name": "index",
         "rawType": "int64",
         "type": "integer"
        },
        {
         "name": "Date",
         "rawType": "object",
         "type": "string"
        },
        {
         "name": "Open",
         "rawType": "float64",
         "type": "float"
        },
        {
         "name": "High",
         "rawType": "float64",
         "type": "float"
        },
        {
         "name": "Low",
         "rawType": "float64",
         "type": "float"
        },
        {
         "name": "Close",
         "rawType": "float64",
         "type": "float"
        },
        {
         "name": "Vol.",
         "rawType": "object",
         "type": "string"
        }
       ],
       "conversionMethod": "pd.DataFrame",
       "ref": "d19895d1-198b-4ee4-95f6-6a1fb57eef1b",
       "rows": [
        [
         "0",
         "2013-01-01",
         "13.5",
         "13.6",
         "13.2",
         "13.3",
         "28.41K"
        ],
        [
         "1",
         "2013-01-02",
         "13.3",
         "13.4",
         "13.2",
         "13.3",
         "17.97K"
        ],
        [
         "2",
         "2013-01-03",
         "13.3",
         "13.5",
         "13.3",
         "13.4",
         "18.03K"
        ],
        [
         "3",
         "2013-01-04",
         "13.4",
         "13.5",
         "13.3",
         "13.5",
         "29.64K"
        ],
        [
         "4",
         "2013-01-05",
         "13.5",
         "13.6",
         "13.3",
         "13.4",
         "21.33K"
        ]
       ],
       "shape": {
        "columns": 6,
        "rows": 5
       }
      },
      "text/html": [
       "<div>\n",
       "<style scoped>\n",
       "    .dataframe tbody tr th:only-of-type {\n",
       "        vertical-align: middle;\n",
       "    }\n",
       "\n",
       "    .dataframe tbody tr th {\n",
       "        vertical-align: top;\n",
       "    }\n",
       "\n",
       "    .dataframe thead th {\n",
       "        text-align: right;\n",
       "    }\n",
       "</style>\n",
       "<table border=\"1\" class=\"dataframe\">\n",
       "  <thead>\n",
       "    <tr style=\"text-align: right;\">\n",
       "      <th></th>\n",
       "      <th>Date</th>\n",
       "      <th>Open</th>\n",
       "      <th>High</th>\n",
       "      <th>Low</th>\n",
       "      <th>Close</th>\n",
       "      <th>Vol.</th>\n",
       "    </tr>\n",
       "  </thead>\n",
       "  <tbody>\n",
       "    <tr>\n",
       "      <th>0</th>\n",
       "      <td>2013-01-01</td>\n",
       "      <td>13.5</td>\n",
       "      <td>13.6</td>\n",
       "      <td>13.2</td>\n",
       "      <td>13.3</td>\n",
       "      <td>28.41K</td>\n",
       "    </tr>\n",
       "    <tr>\n",
       "      <th>1</th>\n",
       "      <td>2013-01-02</td>\n",
       "      <td>13.3</td>\n",
       "      <td>13.4</td>\n",
       "      <td>13.2</td>\n",
       "      <td>13.3</td>\n",
       "      <td>17.97K</td>\n",
       "    </tr>\n",
       "    <tr>\n",
       "      <th>2</th>\n",
       "      <td>2013-01-03</td>\n",
       "      <td>13.3</td>\n",
       "      <td>13.5</td>\n",
       "      <td>13.3</td>\n",
       "      <td>13.4</td>\n",
       "      <td>18.03K</td>\n",
       "    </tr>\n",
       "    <tr>\n",
       "      <th>3</th>\n",
       "      <td>2013-01-04</td>\n",
       "      <td>13.4</td>\n",
       "      <td>13.5</td>\n",
       "      <td>13.3</td>\n",
       "      <td>13.5</td>\n",
       "      <td>29.64K</td>\n",
       "    </tr>\n",
       "    <tr>\n",
       "      <th>4</th>\n",
       "      <td>2013-01-05</td>\n",
       "      <td>13.5</td>\n",
       "      <td>13.6</td>\n",
       "      <td>13.3</td>\n",
       "      <td>13.4</td>\n",
       "      <td>21.33K</td>\n",
       "    </tr>\n",
       "  </tbody>\n",
       "</table>\n",
       "</div>"
      ],
      "text/plain": [
       "         Date  Open  High   Low  Close    Vol.\n",
       "0  2013-01-01  13.5  13.6  13.2   13.3  28.41K\n",
       "1  2013-01-02  13.3  13.4  13.2   13.3  17.97K\n",
       "2  2013-01-03  13.3  13.5  13.3   13.4  18.03K\n",
       "3  2013-01-04  13.4  13.5  13.3   13.5  29.64K\n",
       "4  2013-01-05  13.5  13.6  13.3   13.4  21.33K"
      ]
     },
     "execution_count": 37,
     "metadata": {},
     "output_type": "execute_result"
    }
   ],
   "source": [
    "df.head()"
   ]
  },
  {
   "cell_type": "code",
   "execution_count": 4,
   "id": "66f20153",
   "metadata": {},
   "outputs": [
    {
     "data": {
      "application/vnd.microsoft.datawrangler.viewer.v0+json": {
       "columns": [
        {
         "name": "index",
         "rawType": "object",
         "type": "string"
        },
        {
         "name": "Open",
         "rawType": "float64",
         "type": "float"
        },
        {
         "name": "High",
         "rawType": "float64",
         "type": "float"
        },
        {
         "name": "Low",
         "rawType": "float64",
         "type": "float"
        },
        {
         "name": "Close",
         "rawType": "float64",
         "type": "float"
        }
       ],
       "conversionMethod": "pd.DataFrame",
       "ref": "ef2bad95-1635-4ea9-b971-e72fe860804d",
       "rows": [
        [
         "count",
         "3793.0",
         "3793.0",
         "3793.0",
         "3793.0"
        ],
        [
         "mean",
         "11233.252306881097",
         "11529.29799630899",
         "10904.581544951227",
         "11240.315765884523"
        ],
        [
         "std",
         "15421.5687216527",
         "15827.119004432077",
         "14960.319731634536",
         "15422.533996220505"
        ],
        [
         "min",
         "13.3",
         "13.4",
         "13.2",
         "13.3"
        ],
        [
         "25%",
         "450.3",
         "459.6",
         "441.9",
         "451.4"
        ],
        [
         "50%",
         "5208.3",
         "5322.9",
         "5033.7",
         "5209.1"
        ],
        [
         "75%",
         "14976.2",
         "15648.3",
         "13902.3",
         "15043.0"
        ],
        [
         "max",
         "67528.7",
         "68990.6",
         "66334.9",
         "67527.9"
        ]
       ],
       "shape": {
        "columns": 4,
        "rows": 8
       }
      },
      "text/html": [
       "<div>\n",
       "<style scoped>\n",
       "    .dataframe tbody tr th:only-of-type {\n",
       "        vertical-align: middle;\n",
       "    }\n",
       "\n",
       "    .dataframe tbody tr th {\n",
       "        vertical-align: top;\n",
       "    }\n",
       "\n",
       "    .dataframe thead th {\n",
       "        text-align: right;\n",
       "    }\n",
       "</style>\n",
       "<table border=\"1\" class=\"dataframe\">\n",
       "  <thead>\n",
       "    <tr style=\"text-align: right;\">\n",
       "      <th></th>\n",
       "      <th>Open</th>\n",
       "      <th>High</th>\n",
       "      <th>Low</th>\n",
       "      <th>Close</th>\n",
       "    </tr>\n",
       "  </thead>\n",
       "  <tbody>\n",
       "    <tr>\n",
       "      <th>count</th>\n",
       "      <td>3793.000000</td>\n",
       "      <td>3793.000000</td>\n",
       "      <td>3793.000000</td>\n",
       "      <td>3793.000000</td>\n",
       "    </tr>\n",
       "    <tr>\n",
       "      <th>mean</th>\n",
       "      <td>11233.252307</td>\n",
       "      <td>11529.297996</td>\n",
       "      <td>10904.581545</td>\n",
       "      <td>11240.315766</td>\n",
       "    </tr>\n",
       "    <tr>\n",
       "      <th>std</th>\n",
       "      <td>15421.568722</td>\n",
       "      <td>15827.119004</td>\n",
       "      <td>14960.319732</td>\n",
       "      <td>15422.533996</td>\n",
       "    </tr>\n",
       "    <tr>\n",
       "      <th>min</th>\n",
       "      <td>13.300000</td>\n",
       "      <td>13.400000</td>\n",
       "      <td>13.200000</td>\n",
       "      <td>13.300000</td>\n",
       "    </tr>\n",
       "    <tr>\n",
       "      <th>25%</th>\n",
       "      <td>450.300000</td>\n",
       "      <td>459.600000</td>\n",
       "      <td>441.900000</td>\n",
       "      <td>451.400000</td>\n",
       "    </tr>\n",
       "    <tr>\n",
       "      <th>50%</th>\n",
       "      <td>5208.300000</td>\n",
       "      <td>5322.900000</td>\n",
       "      <td>5033.700000</td>\n",
       "      <td>5209.100000</td>\n",
       "    </tr>\n",
       "    <tr>\n",
       "      <th>75%</th>\n",
       "      <td>14976.200000</td>\n",
       "      <td>15648.300000</td>\n",
       "      <td>13902.300000</td>\n",
       "      <td>15043.000000</td>\n",
       "    </tr>\n",
       "    <tr>\n",
       "      <th>max</th>\n",
       "      <td>67528.700000</td>\n",
       "      <td>68990.600000</td>\n",
       "      <td>66334.900000</td>\n",
       "      <td>67527.900000</td>\n",
       "    </tr>\n",
       "  </tbody>\n",
       "</table>\n",
       "</div>"
      ],
      "text/plain": [
       "               Open          High           Low         Close\n",
       "count   3793.000000   3793.000000   3793.000000   3793.000000\n",
       "mean   11233.252307  11529.297996  10904.581545  11240.315766\n",
       "std    15421.568722  15827.119004  14960.319732  15422.533996\n",
       "min       13.300000     13.400000     13.200000     13.300000\n",
       "25%      450.300000    459.600000    441.900000    451.400000\n",
       "50%     5208.300000   5322.900000   5033.700000   5209.100000\n",
       "75%    14976.200000  15648.300000  13902.300000  15043.000000\n",
       "max    67528.700000  68990.600000  66334.900000  67527.900000"
      ]
     },
     "execution_count": 4,
     "metadata": {},
     "output_type": "execute_result"
    }
   ],
   "source": [
    "df.describe()"
   ]
  },
  {
   "cell_type": "code",
   "execution_count": 5,
   "id": "1d79cca4",
   "metadata": {},
   "outputs": [
    {
     "name": "stdout",
     "output_type": "stream",
     "text": [
      "<class 'pandas.core.frame.DataFrame'>\n",
      "RangeIndex: 3793 entries, 0 to 3792\n",
      "Data columns (total 6 columns):\n",
      " #   Column  Non-Null Count  Dtype  \n",
      "---  ------  --------------  -----  \n",
      " 0   Date    3793 non-null   object \n",
      " 1   Open    3793 non-null   float64\n",
      " 2   High    3793 non-null   float64\n",
      " 3   Low     3793 non-null   float64\n",
      " 4   Close   3793 non-null   float64\n",
      " 5   Vol.    3793 non-null   object \n",
      "dtypes: float64(4), object(2)\n",
      "memory usage: 177.9+ KB\n"
     ]
    }
   ],
   "source": [
    "df.info()"
   ]
  },
  {
   "cell_type": "code",
   "execution_count": 38,
   "id": "262bbace",
   "metadata": {},
   "outputs": [
    {
     "data": {
      "text/plain": [
       "(3793, 6)"
      ]
     },
     "execution_count": 38,
     "metadata": {},
     "output_type": "execute_result"
    }
   ],
   "source": [
    "df.shape"
   ]
  },
  {
   "cell_type": "code",
   "execution_count": 39,
   "id": "436acd72",
   "metadata": {},
   "outputs": [
    {
     "data": {
      "text/plain": [
       "(3793, 2)"
      ]
     },
     "execution_count": 39,
     "metadata": {},
     "output_type": "execute_result"
    }
   ],
   "source": [
    "#creating a new feature \n",
    "closed = df[['Date','Close']]\n",
    "closed.shape"
   ]
  },
  {
   "cell_type": "code",
   "execution_count": 6,
   "id": "99d31b36",
   "metadata": {},
   "outputs": [
    {
     "data": {
      "image/png": "[encoded data removed]",
      "text/plain": [
       "<Figure size 864x432 with 1 Axes>"
      ]
     },
     "metadata": {
      "needs_background": "light"
     },
     "output_type": "display_data"
    }
   ],
   "source": [
    "plt.figure(1,figsize=(12,6))\n",
    "plt.plot(closed['Date'], closed['Close'], color='blue', label='Close Price')\n",
    "plt.show()"
   ]
  },
  {
   "cell_type": "code",
   "execution_count": 40,
   "id": "5c39087c",
   "metadata": {},
   "outputs": [
    {
     "data": {
      "application/vnd.microsoft.datawrangler.viewer.v0+json": {
       "columns": [
        {
         "name": "index",
         "rawType": "int64",
         "type": "integer"
        },
        {
         "name": "Date",
         "rawType": "object",
         "type": "string"
        },
        {
         "name": "Close",
         "rawType": "float64",
         "type": "float"
        }
       ],
       "conversionMethod": "pd.DataFrame",
       "ref": "214efb4a-2954-4bc8-b98a-c833154f45eb",
       "rows": [
        [
         "2922",
         "2021-01-01",
         "29359.9"
        ],
        [
         "2923",
         "2021-01-02",
         "32193.3"
        ],
        [
         "2924",
         "2021-01-03",
         "32958.9"
        ],
        [
         "2925",
         "2021-01-04",
         "32022.6"
        ],
        [
         "2926",
         "2021-01-05",
         "33991.5"
        ],
        [
         "2927",
         "2021-01-06",
         "36793.2"
        ],
        [
         "2928",
         "2021-01-07",
         "39460.2"
        ],
        [
         "2929",
         "2021-01-08",
         "40599.3"
        ],
        [
         "2930",
         "2021-01-09",
         "40151.9"
        ],
        [
         "2931",
         "2021-01-10",
         "38192.2"
        ],
        [
         "2932",
         "2021-01-11",
         "35544.3"
        ],
        [
         "2933",
         "2021-01-12",
         "34076.1"
        ],
        [
         "2934",
         "2021-01-13",
         "37382.2"
        ],
        [
         "2935",
         "2021-01-14",
         "39175.7"
        ],
        [
         "2936",
         "2021-01-15",
         "36845.8"
        ],
        [
         "2937",
         "2021-01-16",
         "36019.5"
        ],
        [
         "2938",
         "2021-01-17",
         "35839.6"
        ],
        [
         "2939",
         "2021-01-18",
         "36613.2"
        ],
        [
         "2940",
         "2021-01-19",
         "36002.9"
        ],
        [
         "2941",
         "2021-01-20",
         "35476.3"
        ],
        [
         "2942",
         "2021-01-21",
         "30842.1"
        ],
        [
         "2943",
         "2021-01-22",
         "33000.5"
        ],
        [
         "2944",
         "2021-01-23",
         "32088.9"
        ],
        [
         "2945",
         "2021-01-24",
         "32241.3"
        ],
        [
         "2946",
         "2021-01-25",
         "32252.3"
        ],
        [
         "2947",
         "2021-01-26",
         "32502.1"
        ],
        [
         "2948",
         "2021-01-27",
         "30404.0"
        ],
        [
         "2949",
         "2021-01-28",
         "33374.8"
        ],
        [
         "2950",
         "2021-01-29",
         "34301.8"
        ],
        [
         "2951",
         "2021-01-30",
         "34283.1"
        ],
        [
         "2952",
         "2021-01-31",
         "33108.1"
        ],
        [
         "2953",
         "2021-02-01",
         "33515.7"
        ],
        [
         "2954",
         "2021-02-02",
         "35485.2"
        ],
        [
         "2955",
         "2021-02-03",
         "37646.8"
        ],
        [
         "2956",
         "2021-02-04",
         "36982.1"
        ],
        [
         "2957",
         "2021-02-05",
         "38297.6"
        ],
        [
         "2958",
         "2021-02-06",
         "39256.6"
        ],
        [
         "2959",
         "2021-02-07",
         "38852.9"
        ],
        [
         "2960",
         "2021-02-08",
         "46395.7"
        ],
        [
         "2961",
         "2021-02-09",
         "46508.6"
        ],
        [
         "2962",
         "2021-02-10",
         "44836.0"
        ],
        [
         "2963",
         "2021-02-11",
         "47990.7"
        ],
        [
         "2964",
         "2021-02-12",
         "47371.7"
        ],
        [
         "2965",
         "2021-02-13",
         "47168.7"
        ],
        [
         "2966",
         "2021-02-14",
         "48643.4"
        ],
        [
         "2967",
         "2021-02-15",
         "47936.3"
        ],
        [
         "2968",
         "2021-02-16",
         "49169.7"
        ],
        [
         "2969",
         "2021-02-17",
         "52079.2"
        ],
        [
         "2970",
         "2021-02-18",
         "51582.2"
        ],
        [
         "2971",
         "2021-02-19",
         "55906.6"
        ]
       ],
       "shape": {
        "columns": 2,
        "rows": 871
       }
      },
      "text/html": [
       "<div>\n",
       "<style scoped>\n",
       "    .dataframe tbody tr th:only-of-type {\n",
       "        vertical-align: middle;\n",
       "    }\n",
       "\n",
       "    .dataframe tbody tr th {\n",
       "        vertical-align: top;\n",
       "    }\n",
       "\n",
       "    .dataframe thead th {\n",
       "        text-align: right;\n",
       "    }\n",
       "</style>\n",
       "<table border=\"1\" class=\"dataframe\">\n",
       "  <thead>\n",
       "    <tr style=\"text-align: right;\">\n",
       "      <th></th>\n",
       "      <th>Date</th>\n",
       "      <th>Close</th>\n",
       "    </tr>\n",
       "  </thead>\n",
       "  <tbody>\n",
       "    <tr>\n",
       "      <th>2922</th>\n",
       "      <td>2021-01-01</td>\n",
       "      <td>29359.9</td>\n",
       "    </tr>\n",
       "    <tr>\n",
       "      <th>2923</th>\n",
       "      <td>2021-01-02</td>\n",
       "      <td>32193.3</td>\n",
       "    </tr>\n",
       "    <tr>\n",
       "      <th>2924</th>\n",
       "      <td>2021-01-03</td>\n",
       "      <td>32958.9</td>\n",
       "    </tr>\n",
       "    <tr>\n",
       "      <th>2925</th>\n",
       "      <td>2021-01-04</td>\n",
       "      <td>32022.6</td>\n",
       "    </tr>\n",
       "    <tr>\n",
       "      <th>2926</th>\n",
       "      <td>2021-01-05</td>\n",
       "      <td>33991.5</td>\n",
       "    </tr>\n",
       "    <tr>\n",
       "      <th>...</th>\n",
       "      <td>...</td>\n",
       "      <td>...</td>\n",
       "    </tr>\n",
       "    <tr>\n",
       "      <th>3788</th>\n",
       "      <td>2023-05-17</td>\n",
       "      <td>27403.1</td>\n",
       "    </tr>\n",
       "    <tr>\n",
       "      <th>3789</th>\n",
       "      <td>2023-05-18</td>\n",
       "      <td>26828.0</td>\n",
       "    </tr>\n",
       "    <tr>\n",
       "      <th>3790</th>\n",
       "      <td>2023-05-19</td>\n",
       "      <td>26882.9</td>\n",
       "    </tr>\n",
       "    <tr>\n",
       "      <th>3791</th>\n",
       "      <td>2023-05-20</td>\n",
       "      <td>27116.2</td>\n",
       "    </tr>\n",
       "    <tr>\n",
       "      <th>3792</th>\n",
       "      <td>2023-05-21</td>\n",
       "      <td>27181.2</td>\n",
       "    </tr>\n",
       "  </tbody>\n",
       "</table>\n",
       "<p>871 rows × 2 columns</p>\n",
       "</div>"
      ],
      "text/plain": [
       "            Date    Close\n",
       "2922  2021-01-01  29359.9\n",
       "2923  2021-01-02  32193.3\n",
       "2924  2021-01-03  32958.9\n",
       "2925  2021-01-04  32022.6\n",
       "2926  2021-01-05  33991.5\n",
       "...          ...      ...\n",
       "3788  2023-05-17  27403.1\n",
       "3789  2023-05-18  26828.0\n",
       "3790  2023-05-19  26882.9\n",
       "3791  2023-05-20  27116.2\n",
       "3792  2023-05-21  27181.2\n",
       "\n",
       "[871 rows x 2 columns]"
      ]
     },
     "execution_count": 40,
     "metadata": {},
     "output_type": "execute_result"
    }
   ],
   "source": [
    "price1 = closed[closed['Date'] >= '2021-01-01'] #in bracket there is a condition \n",
    "#that says just put the data from 2021-01-01 to the end of the data set\n",
    "price1"
   ]
  },
  {
   "cell_type": "code",
   "execution_count": 41,
   "id": "b953d3e9",
   "metadata": {},
   "outputs": [
    {
     "data": {
      "image/png": "[encoded data removed]",
      "text/plain": [
       "<Figure size 864x432 with 1 Axes>"
      ]
     },
     "metadata": {
      "needs_background": "light"
     },
     "output_type": "display_data"
    }
   ],
   "source": [
    "plt.figure(1,figsize=(12,6))\n",
    "plt.plot(price1['Date'], price1['Close'], color='blue', label='Close Price')\n",
    "plt.show()"
   ]
  },
  {
   "cell_type": "code",
   "execution_count": null,
   "id": "eb5bfce4",
   "metadata": {},
   "outputs": [
    {
     "name": "stdout",
     "output_type": "stream",
     "text": [
      "2922    29359.9\n",
      "2923    32193.3\n",
      "2924    32958.9\n",
      "Name: Close, dtype: float64\n"
     ]
    }
   ],
   "source": [
    "x =price1['Close'][0:3]\n",
    "print(x)"
   ]
  },
  {
   "cell_type": "code",
   "execution_count": 42,
   "id": "1e584662",
   "metadata": {},
   "outputs": [
    {
     "data": {
      "text/plain": [
       "(3793,)"
      ]
     },
     "execution_count": 42,
     "metadata": {},
     "output_type": "execute_result"
    }
   ],
   "source": [
    "x = closed['Close']\n",
    "x.shape"
   ]
  },
  {
   "cell_type": "code",
   "execution_count": 43,
   "id": "be8f7107",
   "metadata": {},
   "outputs": [],
   "source": [
    "# Normalizing the data\n",
    "scaler = MinMaxScaler(feature_range=(0,1)) #minmax scaler is used to scale the data between 0 and 1\n",
    "x  = scaler.fit_transform(np.array(x).reshape(-1,1)) #this is used to fit the data and transform it into a numpy array"
   ]
  },
  {
   "cell_type": "code",
   "execution_count": 44,
   "id": "e48e8ef0",
   "metadata": {},
   "outputs": [],
   "source": [
    "x_train = x[0:3000]\n",
    "x_test = x[3000:3400] #this is used to split the data into training and testing data\n",
    "x_val = x[3400:] "
   ]
  },
  {
   "cell_type": "code",
   "execution_count": 45,
   "id": "93eb658f",
   "metadata": {},
   "outputs": [
    {
     "name": "stdout",
     "output_type": "stream",
     "text": [
      "(2989, 10)\n",
      "(389, 10)\n",
      "(382, 10)\n"
     ]
    }
   ],
   "source": [
    "#train dataset\n",
    "x1=[]\n",
    "y1=[]\n",
    "a=[]\n",
    "b=[]\n",
    "for i in range(len(x_train)-10-1):\n",
    "    a = x_train[i:i+10,0] #this is used to create a list of 5 elements from the training data\n",
    "    b = x_train[i+10] #this is used to create a list of 1 element from the training data\n",
    "    x1.append(a)\n",
    "    y1.append(b)\n",
    "\n",
    "x_train1 = np.array(x1)\n",
    "y_train1 = np.array(y1)\n",
    "    \n",
    "print(x_train1.shape)\n",
    "x_train1.shape, y_train1.shape\n",
    "\n",
    " #dataset for test\n",
    "x2=[]\n",
    "y2=[]\n",
    "c=[]\n",
    "d=[]\n",
    "for i in range(len(x_test)-10-1):\n",
    "    c = x_test[i:i+10,0] #this is used to create a list of 5 elements from the training data\n",
    "    d = x_test[i+10] #this is used to create a list of 1 element from the training data\n",
    "    x2.append(c)\n",
    "    y2.append(d)\n",
    "\n",
    "x_test1 = np.array(x2)\n",
    "y_test1 = np.array(y2)\n",
    "    \n",
    "print(x_test1.shape)\n",
    "\n",
    "#val datasset\n",
    "x3=[]\n",
    "y3=[]\n",
    "e=[]\n",
    "f=[]\n",
    "for i in range(len(x_val)-10-1):\n",
    "    e = x_val[i:i+10,0] #this is used to create a list of 5 elements from the training data\n",
    "    f = x_val[i+10] #this is used to create a list of 1 element from the training data\n",
    "    x3.append(e)\n",
    "    y3.append(f)\n",
    "\n",
    "x_val1 = np.array(x3)\n",
    "y_val1 = np.array(y3)\n",
    "\n",
    "print(x_val1.shape)\n",
    "\n"
   ]
  },
  {
   "cell_type": "code",
   "execution_count": 46,
   "id": "97c6f67b",
   "metadata": {},
   "outputs": [
    {
     "name": "stdout",
     "output_type": "stream",
     "text": [
      "(2989, 10, 1)\n",
      "(389, 10, 1)\n",
      "(382, 10, 1)\n"
     ]
    }
   ],
   "source": [
    "#lstm format [tedad, length, features]\n",
    "#so we need reshaping becayse we need 3 dimension\n",
    "x_train1 = x_train1.reshape(2989,10,1)\n",
    "x_test1 = x_test1.reshape(389,10,1)\n",
    "x_val1 = x_val1.reshape(382,10,1)\n",
    "\n",
    "\n",
    "print(x_train1.shape)\n",
    "print(x_test1.shape)\n",
    "print(x_val1.shape)"
   ]
  },
  {
   "cell_type": "code",
   "execution_count": 47,
   "id": "bb29c00a",
   "metadata": {},
   "outputs": [
    {
     "name": "stdout",
     "output_type": "stream",
     "text": [
      "Model: \"sequential_2\"\n",
      "_________________________________________________________________\n",
      " Layer (type)                Output Shape              Param #   \n",
      "=================================================================\n",
      " lstm_2 (LSTM)               (None, 10)                480       \n",
      "                                                                 \n",
      " dense_2 (Dense)             (None, 1)                 11        \n",
      "                                                                 \n",
      "=================================================================\n",
      "Total params: 491 (1.92 KB)\n",
      "Trainable params: 491 (1.92 KB)\n",
      "Non-trainable params: 0 (0.00 Byte)\n",
      "_________________________________________________________________\n"
     ]
    }
   ],
   "source": [
    "#making the model\n",
    "model = Sequential()\n",
    "\n",
    "model.add(LSTM(units=10, activation='relu', input_shape = (None,1)))\n",
    "model.add(Dense(1))\n",
    "\n",
    "#compiling the model\n",
    "model.compile(loss=\"mean_squared_error\", optimizer='adam')\n",
    "\n",
    "model.summary()"
   ]
  },
  {
   "cell_type": "code",
   "execution_count": 48,
   "id": "d6d211af",
   "metadata": {},
   "outputs": [
    {
     "name": "stdout",
     "output_type": "stream",
     "text": [
      "Epoch 1/100\n",
      "94/94 [==============================] - 1s 4ms/step - loss: 0.0048 - val_loss: 0.0017\n",
      "Epoch 2/100\n",
      "94/94 [==============================] - 0s 3ms/step - loss: 1.6581e-04 - val_loss: 0.0012\n",
      "Epoch 3/100\n",
      "94/94 [==============================] - 0s 2ms/step - loss: 1.5286e-04 - val_loss: 9.8374e-04\n",
      "Epoch 4/100\n",
      "94/94 [==============================] - 0s 2ms/step - loss: 1.5297e-04 - val_loss: 8.9146e-04\n",
      "Epoch 5/100\n",
      "94/94 [==============================] - 0s 2ms/step - loss: 1.4170e-04 - val_loss: 0.0017\n",
      "Epoch 6/100\n",
      "94/94 [==============================] - 0s 3ms/step - loss: 1.5449e-04 - val_loss: 9.2542e-04\n",
      "Epoch 7/100\n",
      "94/94 [==============================] - 0s 2ms/step - loss: 1.4891e-04 - val_loss: 0.0010\n",
      "Epoch 8/100\n",
      "94/94 [==============================] - 0s 3ms/step - loss: 1.4180e-04 - val_loss: 0.0014\n",
      "Epoch 9/100\n",
      "94/94 [==============================] - 0s 3ms/step - loss: 1.4725e-04 - val_loss: 0.0012\n",
      "Epoch 10/100\n",
      "94/94 [==============================] - 0s 2ms/step - loss: 1.3932e-04 - val_loss: 7.9442e-04\n",
      "Epoch 11/100\n",
      "94/94 [==============================] - 0s 3ms/step - loss: 1.4595e-04 - val_loss: 0.0012\n",
      "Epoch 12/100\n",
      "94/94 [==============================] - 0s 3ms/step - loss: 1.3331e-04 - val_loss: 6.9184e-04\n",
      "Epoch 13/100\n",
      "94/94 [==============================] - 0s 3ms/step - loss: 1.3700e-04 - val_loss: 6.5017e-04\n",
      "Epoch 14/100\n",
      "94/94 [==============================] - 0s 3ms/step - loss: 1.3252e-04 - val_loss: 6.3219e-04\n",
      "Epoch 15/100\n",
      "94/94 [==============================] - 0s 3ms/step - loss: 1.3570e-04 - val_loss: 5.8572e-04\n",
      "Epoch 16/100\n",
      "94/94 [==============================] - 0s 3ms/step - loss: 1.1982e-04 - val_loss: 9.2500e-04\n",
      "Epoch 17/100\n",
      "94/94 [==============================] - 0s 2ms/step - loss: 1.2212e-04 - val_loss: 8.0152e-04\n",
      "Epoch 18/100\n",
      "94/94 [==============================] - 0s 2ms/step - loss: 1.1853e-04 - val_loss: 0.0011\n",
      "Epoch 19/100\n",
      "94/94 [==============================] - 0s 2ms/step - loss: 1.2569e-04 - val_loss: 5.1119e-04\n",
      "Epoch 20/100\n",
      "94/94 [==============================] - 0s 2ms/step - loss: 1.2141e-04 - val_loss: 0.0011\n",
      "Epoch 21/100\n",
      "94/94 [==============================] - 0s 3ms/step - loss: 1.1089e-04 - val_loss: 6.2186e-04\n",
      "Epoch 22/100\n",
      "94/94 [==============================] - 0s 2ms/step - loss: 1.1647e-04 - val_loss: 4.9832e-04\n",
      "Epoch 23/100\n",
      "94/94 [==============================] - 0s 2ms/step - loss: 1.1258e-04 - val_loss: 4.1210e-04\n",
      "Epoch 24/100\n",
      "94/94 [==============================] - 0s 3ms/step - loss: 1.1692e-04 - val_loss: 6.8788e-04\n",
      "Epoch 25/100\n",
      "94/94 [==============================] - 0s 3ms/step - loss: 1.0514e-04 - val_loss: 4.3788e-04\n",
      "Epoch 26/100\n",
      "94/94 [==============================] - 0s 2ms/step - loss: 9.9216e-05 - val_loss: 4.6574e-04\n",
      "Epoch 27/100\n",
      "94/94 [==============================] - 0s 2ms/step - loss: 1.0292e-04 - val_loss: 5.0451e-04\n",
      "Epoch 28/100\n",
      "94/94 [==============================] - 0s 2ms/step - loss: 9.5310e-05 - val_loss: 7.8752e-04\n",
      "Epoch 29/100\n",
      "94/94 [==============================] - 0s 2ms/step - loss: 1.0225e-04 - val_loss: 6.2980e-04\n",
      "Epoch 30/100\n",
      "94/94 [==============================] - 0s 2ms/step - loss: 9.9066e-05 - val_loss: 3.4745e-04\n",
      "Epoch 31/100\n",
      "94/94 [==============================] - 0s 2ms/step - loss: 9.1262e-05 - val_loss: 6.9508e-04\n",
      "Epoch 32/100\n",
      "94/94 [==============================] - 0s 2ms/step - loss: 9.1366e-05 - val_loss: 3.3817e-04\n",
      "Epoch 33/100\n",
      "94/94 [==============================] - 0s 2ms/step - loss: 9.5998e-05 - val_loss: 4.7450e-04\n",
      "Epoch 34/100\n",
      "94/94 [==============================] - 0s 3ms/step - loss: 9.2836e-05 - val_loss: 4.6446e-04\n",
      "Epoch 35/100\n",
      "94/94 [==============================] - 0s 2ms/step - loss: 8.6602e-05 - val_loss: 4.0826e-04\n",
      "Epoch 36/100\n",
      "94/94 [==============================] - 0s 3ms/step - loss: 8.6654e-05 - val_loss: 3.4398e-04\n",
      "Epoch 37/100\n",
      "94/94 [==============================] - 0s 2ms/step - loss: 8.4436e-05 - val_loss: 4.5210e-04\n",
      "Epoch 38/100\n",
      "94/94 [==============================] - 0s 2ms/step - loss: 8.3106e-05 - val_loss: 4.1508e-04\n",
      "Epoch 39/100\n",
      "94/94 [==============================] - 0s 2ms/step - loss: 8.6326e-05 - val_loss: 3.8660e-04\n",
      "Epoch 40/100\n",
      "94/94 [==============================] - 0s 3ms/step - loss: 8.6498e-05 - val_loss: 3.8473e-04\n",
      "Epoch 41/100\n",
      "94/94 [==============================] - 0s 2ms/step - loss: 8.0430e-05 - val_loss: 4.7988e-04\n",
      "Epoch 42/100\n",
      "94/94 [==============================] - 0s 2ms/step - loss: 7.9204e-05 - val_loss: 4.3114e-04\n",
      "Epoch 43/100\n",
      "94/94 [==============================] - 0s 2ms/step - loss: 8.0095e-05 - val_loss: 4.8985e-04\n",
      "Epoch 44/100\n",
      "94/94 [==============================] - 0s 2ms/step - loss: 7.9796e-05 - val_loss: 3.7989e-04\n",
      "Epoch 45/100\n",
      "94/94 [==============================] - 0s 2ms/step - loss: 7.7317e-05 - val_loss: 2.7357e-04\n",
      "Epoch 46/100\n",
      "94/94 [==============================] - 0s 2ms/step - loss: 7.4993e-05 - val_loss: 2.5825e-04\n",
      "Epoch 47/100\n",
      "94/94 [==============================] - 0s 3ms/step - loss: 7.6247e-05 - val_loss: 4.2008e-04\n",
      "Epoch 48/100\n",
      "94/94 [==============================] - 0s 2ms/step - loss: 7.3326e-05 - val_loss: 2.7822e-04\n",
      "Epoch 49/100\n",
      "94/94 [==============================] - 0s 2ms/step - loss: 7.2969e-05 - val_loss: 3.1032e-04\n",
      "Epoch 50/100\n",
      "94/94 [==============================] - 0s 2ms/step - loss: 7.1225e-05 - val_loss: 3.1910e-04\n",
      "Epoch 51/100\n",
      "94/94 [==============================] - 0s 3ms/step - loss: 7.8183e-05 - val_loss: 3.3598e-04\n",
      "Epoch 52/100\n",
      "94/94 [==============================] - 0s 2ms/step - loss: 7.0664e-05 - val_loss: 2.6759e-04\n",
      "Epoch 53/100\n",
      "94/94 [==============================] - 0s 2ms/step - loss: 6.9486e-05 - val_loss: 2.8806e-04\n",
      "Epoch 54/100\n",
      "94/94 [==============================] - 0s 2ms/step - loss: 7.1272e-05 - val_loss: 2.4010e-04\n",
      "Epoch 55/100\n",
      "94/94 [==============================] - 0s 3ms/step - loss: 7.0869e-05 - val_loss: 3.6551e-04\n",
      "Epoch 56/100\n",
      "94/94 [==============================] - 0s 3ms/step - loss: 7.0837e-05 - val_loss: 2.5994e-04\n",
      "Epoch 57/100\n",
      "94/94 [==============================] - 0s 2ms/step - loss: 7.1128e-05 - val_loss: 3.2321e-04\n",
      "Epoch 58/100\n",
      "94/94 [==============================] - 0s 2ms/step - loss: 7.7378e-05 - val_loss: 3.4031e-04\n",
      "Epoch 59/100\n",
      "94/94 [==============================] - 0s 3ms/step - loss: 6.5188e-05 - val_loss: 2.8126e-04\n",
      "Epoch 60/100\n",
      "94/94 [==============================] - 0s 3ms/step - loss: 6.9455e-05 - val_loss: 5.2190e-04\n",
      "Epoch 61/100\n",
      "94/94 [==============================] - 0s 2ms/step - loss: 6.7167e-05 - val_loss: 2.1893e-04\n",
      "Epoch 62/100\n",
      "94/94 [==============================] - 0s 2ms/step - loss: 7.5685e-05 - val_loss: 3.4728e-04\n",
      "Epoch 63/100\n",
      "94/94 [==============================] - 0s 2ms/step - loss: 6.5357e-05 - val_loss: 2.8205e-04\n",
      "Epoch 64/100\n",
      "94/94 [==============================] - 0s 2ms/step - loss: 6.8194e-05 - val_loss: 2.2655e-04\n",
      "Epoch 65/100\n",
      "94/94 [==============================] - 0s 3ms/step - loss: 6.3298e-05 - val_loss: 2.2713e-04\n",
      "Epoch 66/100\n",
      "94/94 [==============================] - 0s 2ms/step - loss: 6.4094e-05 - val_loss: 2.1909e-04\n",
      "Epoch 67/100\n",
      "94/94 [==============================] - 0s 2ms/step - loss: 6.3714e-05 - val_loss: 2.9908e-04\n",
      "Epoch 68/100\n",
      "94/94 [==============================] - 0s 2ms/step - loss: 6.5112e-05 - val_loss: 2.2010e-04\n",
      "Epoch 69/100\n",
      "94/94 [==============================] - 0s 3ms/step - loss: 6.8095e-05 - val_loss: 4.7685e-04\n",
      "Epoch 70/100\n",
      "94/94 [==============================] - 0s 2ms/step - loss: 6.5453e-05 - val_loss: 2.5258e-04\n",
      "Epoch 71/100\n",
      "94/94 [==============================] - 0s 2ms/step - loss: 5.9491e-05 - val_loss: 2.2508e-04\n",
      "Epoch 72/100\n",
      "94/94 [==============================] - 0s 2ms/step - loss: 6.1829e-05 - val_loss: 2.2163e-04\n",
      "Epoch 73/100\n",
      "94/94 [==============================] - 0s 2ms/step - loss: 5.7882e-05 - val_loss: 2.1111e-04\n",
      "Epoch 74/100\n",
      "94/94 [==============================] - 0s 2ms/step - loss: 6.0797e-05 - val_loss: 2.8756e-04\n",
      "Epoch 75/100\n",
      "94/94 [==============================] - 0s 2ms/step - loss: 6.4493e-05 - val_loss: 2.4931e-04\n",
      "Epoch 76/100\n",
      "94/94 [==============================] - 0s 3ms/step - loss: 6.0192e-05 - val_loss: 2.7632e-04\n",
      "Epoch 77/100\n",
      "94/94 [==============================] - 0s 3ms/step - loss: 6.4182e-05 - val_loss: 2.1866e-04\n",
      "Epoch 78/100\n",
      "94/94 [==============================] - 0s 3ms/step - loss: 6.1963e-05 - val_loss: 2.0072e-04\n",
      "Epoch 79/100\n",
      "94/94 [==============================] - 0s 3ms/step - loss: 6.0082e-05 - val_loss: 2.0321e-04\n",
      "Epoch 80/100\n",
      "94/94 [==============================] - 0s 3ms/step - loss: 6.0559e-05 - val_loss: 1.9773e-04\n",
      "Epoch 81/100\n",
      "94/94 [==============================] - 0s 2ms/step - loss: 5.9223e-05 - val_loss: 2.6495e-04\n",
      "Epoch 82/100\n",
      "94/94 [==============================] - 0s 2ms/step - loss: 6.1899e-05 - val_loss: 2.3501e-04\n",
      "Epoch 83/100\n",
      "94/94 [==============================] - 0s 2ms/step - loss: 6.3286e-05 - val_loss: 2.5193e-04\n",
      "Epoch 84/100\n",
      "94/94 [==============================] - 0s 3ms/step - loss: 5.8024e-05 - val_loss: 2.1485e-04\n",
      "Epoch 85/100\n",
      "94/94 [==============================] - 0s 3ms/step - loss: 5.9445e-05 - val_loss: 1.9599e-04\n",
      "Epoch 86/100\n",
      "94/94 [==============================] - 0s 2ms/step - loss: 5.8963e-05 - val_loss: 2.1350e-04\n",
      "Epoch 87/100\n",
      "94/94 [==============================] - 0s 2ms/step - loss: 5.8751e-05 - val_loss: 2.2614e-04\n",
      "Epoch 88/100\n",
      "94/94 [==============================] - 0s 2ms/step - loss: 5.5180e-05 - val_loss: 1.8907e-04\n",
      "Epoch 89/100\n",
      "94/94 [==============================] - 0s 3ms/step - loss: 6.3885e-05 - val_loss: 2.1888e-04\n",
      "Epoch 90/100\n",
      "94/94 [==============================] - 0s 2ms/step - loss: 5.9038e-05 - val_loss: 2.2888e-04\n",
      "Epoch 91/100\n",
      "94/94 [==============================] - 0s 2ms/step - loss: 5.9839e-05 - val_loss: 2.5932e-04\n",
      "Epoch 92/100\n",
      "94/94 [==============================] - 0s 2ms/step - loss: 6.0849e-05 - val_loss: 1.9121e-04\n",
      "Epoch 93/100\n",
      "94/94 [==============================] - 0s 3ms/step - loss: 5.7918e-05 - val_loss: 1.9054e-04\n",
      "Epoch 94/100\n",
      "94/94 [==============================] - 0s 3ms/step - loss: 5.7643e-05 - val_loss: 1.8787e-04\n",
      "Epoch 95/100\n",
      "94/94 [==============================] - 0s 2ms/step - loss: 5.6410e-05 - val_loss: 3.0742e-04\n",
      "Epoch 96/100\n",
      "94/94 [==============================] - 0s 2ms/step - loss: 5.8789e-05 - val_loss: 2.3288e-04\n",
      "Epoch 97/100\n",
      "94/94 [==============================] - 0s 2ms/step - loss: 5.4994e-05 - val_loss: 1.9170e-04\n",
      "Epoch 98/100\n",
      "94/94 [==============================] - 0s 2ms/step - loss: 5.6920e-05 - val_loss: 2.6752e-04\n",
      "Epoch 99/100\n",
      "94/94 [==============================] - 0s 3ms/step - loss: 6.8540e-05 - val_loss: 1.8669e-04\n",
      "Epoch 100/100\n",
      "94/94 [==============================] - 0s 3ms/step - loss: 5.8361e-05 - val_loss: 1.8464e-04\n"
     ]
    }
   ],
   "source": [
    "#teaching model\n",
    "history = model.fit(x_train1, y_train1,\n",
    "                    validation_data=(x_val1, y_val1),\n",
    "                    epochs=100,\n",
    "                    validation_split=0.2)"
   ]
  },
  {
   "cell_type": "code",
   "execution_count": 49,
   "id": "ddfc153e",
   "metadata": {},
   "outputs": [
    {
     "name": "stdout",
     "output_type": "stream",
     "text": [
      "94/94 [==============================] - 0s 1ms/step\n",
      "13/13 [==============================] - 0s 1ms/step\n",
      "12/12 [==============================] - 0s 2ms/step\n"
     ]
    }
   ],
   "source": [
    "train_predict = model.predict(x_train1)\n",
    "test_predict = model.predict(x_test1)\n",
    "val_predict = model.predict(x_val1)"
   ]
  },
  {
   "cell_type": "code",
   "execution_count": null,
   "id": "435fefb8",
   "metadata": {},
   "outputs": [],
   "source": [
    "train_predict = scaler.inverse_transform(train_predict)\n",
    "test_predict = scaler.inverse_transform(test_predict)\n",
    "val_predict = scaler.inverse_transform(val_predict)\n",
    "\n",
    "#getting the original data\n",
    "original_ytrain = scaler.inverse_transform(y_train1.reshape(-1,1))\n",
    "original_ytest = scaler.inverse_transform(y_test1.reshape(-1,1))\n",
    "original_yval = scaler.inverse_transform(y_val1.reshape(-1,1))"
   ]
  },
  {
   "cell_type": "code",
   "execution_count": 51,
   "id": "43491973",
   "metadata": {},
   "outputs": [
    {
     "data": {
      "image/png": "[encoded data removed]",
      "text/plain": [
       "<Figure size 864x432 with 1 Axes>"
      ]
     },
     "metadata": {
      "needs_background": "light"
     },
     "output_type": "display_data"
    }
   ],
   "source": [
    "#training set evaluation\n",
    "plt.figure(1,figsize=(12,6))\n",
    "\n",
    "plt.title('Train data vs predicted train data')\n",
    "plt.plot(original_ytrain)\n",
    "plt.plot(train_predict)\n",
    "plt.show()"
   ]
  },
  {
   "cell_type": "code",
   "execution_count": 52,
   "id": "8dc3ebe3",
   "metadata": {},
   "outputs": [
    {
     "data": {
      "image/png": "[encoded data removed]",
      "text/plain": [
       "<Figure size 864x432 with 1 Axes>"
      ]
     },
     "metadata": {
      "needs_background": "light"
     },
     "output_type": "display_data"
    }
   ],
   "source": [
    "plt.figure(1,figsize=(12,6))\n",
    "\n",
    "plt.title('Test data vs predicted test data')\n",
    "plt.plot(original_ytest , 'b')\n",
    "plt.plot(test_predict, 'g')\n",
    "plt.show()"
   ]
  },
  {
   "cell_type": "code",
   "execution_count": 53,
   "id": "4c730d79",
   "metadata": {},
   "outputs": [
    {
     "data": {
      "image/png": "[encoded data removed]",
      "text/plain": [
       "<Figure size 864x432 with 1 Axes>"
      ]
     },
     "metadata": {
      "needs_background": "light"
     },
     "output_type": "display_data"
    }
   ],
   "source": [
    "plt.figure(1,figsize=(12,6))\n",
    "\n",
    "plt.title('validation data vs predicted validation data')\n",
    "plt.plot(original_yval, 'g')\n",
    "plt.plot(val_predict , 'b')\n",
    "plt.show()"
   ]
  }
 ],
 "metadata": {
  "kernelspec": {
   "display_name": "base",
   "language": "python",
   "name": "python3"
  },
  "language_info": {
   "codemirror_mode": {
    "name": "ipython",
    "version": 3
   },
   "file_extension": ".py",
   "mimetype": "text/x-python",
   "name": "python",
   "nbconvert_exporter": "python",
   "pygments_lexer": "ipython3",
   "version": "3.8.8"
  }
 },
 "nbformat": 4,
 "nbformat_minor": 5
}
