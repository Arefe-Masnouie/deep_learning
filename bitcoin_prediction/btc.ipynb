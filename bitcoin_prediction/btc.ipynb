{
 "cells": [
  {
   "cell_type": "code",
   "execution_count": 2,
   "id": "0144427c",
   "metadata": {},
   "outputs": [],
   "source": [
    "import numpy as np\n",
    "import seaborn as sns\n",
    "import pandas as pd"
   ]
  },
  {
   "cell_type": "code",
   "execution_count": 3,
   "id": "7a5aa74d",
   "metadata": {},
   "outputs": [],
   "source": [
    "df = pd.read_csv(\"dataset/bitcoin.csv\")"
   ]
  },
  {
   "cell_type": "code",
   "execution_count": 4,
   "id": "4bd62aae",
   "metadata": {},
   "outputs": [
    {
     "data": {
      "application/vnd.microsoft.datawrangler.viewer.v0+json": {
       "columns": [
        {
         "name": "index",
         "rawType": "int64",
         "type": "integer"
        },
        {
         "name": "Date",
         "rawType": "object",
         "type": "string"
        },
        {
         "name": "Open",
         "rawType": "float64",
         "type": "float"
        },
        {
         "name": "High",
         "rawType": "float64",
         "type": "float"
        },
        {
         "name": "Low",
         "rawType": "float64",
         "type": "float"
        },
        {
         "name": "Close",
         "rawType": "float64",
         "type": "float"
        },
        {
         "name": "Vol.",
         "rawType": "object",
         "type": "string"
        }
       ],
       "conversionMethod": "pd.DataFrame",
       "ref": "80edb9d8-8f86-4c99-83cb-cf6d5eeacbd5",
       "rows": [
        [
         "0",
         "2013-01-01",
         "13.5",
         "13.6",
         "13.2",
         "13.3",
         "28.41K"
        ],
        [
         "1",
         "2013-01-02",
         "13.3",
         "13.4",
         "13.2",
         "13.3",
         "17.97K"
        ],
        [
         "2",
         "2013-01-03",
         "13.3",
         "13.5",
         "13.3",
         "13.4",
         "18.03K"
        ],
        [
         "3",
         "2013-01-04",
         "13.4",
         "13.5",
         "13.3",
         "13.5",
         "29.64K"
        ],
        [
         "4",
         "2013-01-05",
         "13.5",
         "13.6",
         "13.3",
         "13.4",
         "21.33K"
        ]
       ],
       "shape": {
        "columns": 6,
        "rows": 5
       }
      },
      "text/html": [
       "<div>\n",
       "<style scoped>\n",
       "    .dataframe tbody tr th:only-of-type {\n",
       "        vertical-align: middle;\n",
       "    }\n",
       "\n",
       "    .dataframe tbody tr th {\n",
       "        vertical-align: top;\n",
       "    }\n",
       "\n",
       "    .dataframe thead th {\n",
       "        text-align: right;\n",
       "    }\n",
       "</style>\n",
       "<table border=\"1\" class=\"dataframe\">\n",
       "  <thead>\n",
       "    <tr style=\"text-align: right;\">\n",
       "      <th></th>\n",
       "      <th>Date</th>\n",
       "      <th>Open</th>\n",
       "      <th>High</th>\n",
       "      <th>Low</th>\n",
       "      <th>Close</th>\n",
       "      <th>Vol.</th>\n",
       "    </tr>\n",
       "  </thead>\n",
       "  <tbody>\n",
       "    <tr>\n",
       "      <th>0</th>\n",
       "      <td>2013-01-01</td>\n",
       "      <td>13.5</td>\n",
       "      <td>13.6</td>\n",
       "      <td>13.2</td>\n",
       "      <td>13.3</td>\n",
       "      <td>28.41K</td>\n",
       "    </tr>\n",
       "    <tr>\n",
       "      <th>1</th>\n",
       "      <td>2013-01-02</td>\n",
       "      <td>13.3</td>\n",
       "      <td>13.4</td>\n",
       "      <td>13.2</td>\n",
       "      <td>13.3</td>\n",
       "      <td>17.97K</td>\n",
       "    </tr>\n",
       "    <tr>\n",
       "      <th>2</th>\n",
       "      <td>2013-01-03</td>\n",
       "      <td>13.3</td>\n",
       "      <td>13.5</td>\n",
       "      <td>13.3</td>\n",
       "      <td>13.4</td>\n",
       "      <td>18.03K</td>\n",
       "    </tr>\n",
       "    <tr>\n",
       "      <th>3</th>\n",
       "      <td>2013-01-04</td>\n",
       "      <td>13.4</td>\n",
       "      <td>13.5</td>\n",
       "      <td>13.3</td>\n",
       "      <td>13.5</td>\n",
       "      <td>29.64K</td>\n",
       "    </tr>\n",
       "    <tr>\n",
       "      <th>4</th>\n",
       "      <td>2013-01-05</td>\n",
       "      <td>13.5</td>\n",
       "      <td>13.6</td>\n",
       "      <td>13.3</td>\n",
       "      <td>13.4</td>\n",
       "      <td>21.33K</td>\n",
       "    </tr>\n",
       "  </tbody>\n",
       "</table>\n",
       "</div>"
      ],
      "text/plain": [
       "         Date  Open  High   Low  Close    Vol.\n",
       "0  2013-01-01  13.5  13.6  13.2   13.3  28.41K\n",
       "1  2013-01-02  13.3  13.4  13.2   13.3  17.97K\n",
       "2  2013-01-03  13.3  13.5  13.3   13.4  18.03K\n",
       "3  2013-01-04  13.4  13.5  13.3   13.5  29.64K\n",
       "4  2013-01-05  13.5  13.6  13.3   13.4  21.33K"
      ]
     },
     "execution_count": 4,
     "metadata": {},
     "output_type": "execute_result"
    }
   ],
   "source": [
    "df.head()"
   ]
  },
  {
   "cell_type": "code",
   "execution_count": 5,
   "id": "66f20153",
   "metadata": {},
   "outputs": [
    {
     "data": {
      "application/vnd.microsoft.datawrangler.viewer.v0+json": {
       "columns": [
        {
         "name": "index",
         "rawType": "object",
         "type": "string"
        },
        {
         "name": "Open",
         "rawType": "float64",
         "type": "float"
        },
        {
         "name": "High",
         "rawType": "float64",
         "type": "float"
        },
        {
         "name": "Low",
         "rawType": "float64",
         "type": "float"
        },
        {
         "name": "Close",
         "rawType": "float64",
         "type": "float"
        }
       ],
       "conversionMethod": "pd.DataFrame",
       "ref": "ebe05733-de17-4a3a-84dc-630dd8539a4b",
       "rows": [
        [
         "count",
         "3793.0",
         "3793.0",
         "3793.0",
         "3793.0"
        ],
        [
         "mean",
         "11233.252306881097",
         "11529.29799630899",
         "10904.581544951227",
         "11240.315765884523"
        ],
        [
         "std",
         "15421.5687216527",
         "15827.119004432077",
         "14960.319731634536",
         "15422.533996220505"
        ],
        [
         "min",
         "13.3",
         "13.4",
         "13.2",
         "13.3"
        ],
        [
         "25%",
         "450.3",
         "459.6",
         "441.9",
         "451.4"
        ],
        [
         "50%",
         "5208.3",
         "5322.9",
         "5033.7",
         "5209.1"
        ],
        [
         "75%",
         "14976.2",
         "15648.3",
         "13902.3",
         "15043.0"
        ],
        [
         "max",
         "67528.7",
         "68990.6",
         "66334.9",
         "67527.9"
        ]
       ],
       "shape": {
        "columns": 4,
        "rows": 8
       }
      },
      "text/html": [
       "<div>\n",
       "<style scoped>\n",
       "    .dataframe tbody tr th:only-of-type {\n",
       "        vertical-align: middle;\n",
       "    }\n",
       "\n",
       "    .dataframe tbody tr th {\n",
       "        vertical-align: top;\n",
       "    }\n",
       "\n",
       "    .dataframe thead th {\n",
       "        text-align: right;\n",
       "    }\n",
       "</style>\n",
       "<table border=\"1\" class=\"dataframe\">\n",
       "  <thead>\n",
       "    <tr style=\"text-align: right;\">\n",
       "      <th></th>\n",
       "      <th>Open</th>\n",
       "      <th>High</th>\n",
       "      <th>Low</th>\n",
       "      <th>Close</th>\n",
       "    </tr>\n",
       "  </thead>\n",
       "  <tbody>\n",
       "    <tr>\n",
       "      <th>count</th>\n",
       "      <td>3793.000000</td>\n",
       "      <td>3793.000000</td>\n",
       "      <td>3793.000000</td>\n",
       "      <td>3793.000000</td>\n",
       "    </tr>\n",
       "    <tr>\n",
       "      <th>mean</th>\n",
       "      <td>11233.252307</td>\n",
       "      <td>11529.297996</td>\n",
       "      <td>10904.581545</td>\n",
       "      <td>11240.315766</td>\n",
       "    </tr>\n",
       "    <tr>\n",
       "      <th>std</th>\n",
       "      <td>15421.568722</td>\n",
       "      <td>15827.119004</td>\n",
       "      <td>14960.319732</td>\n",
       "      <td>15422.533996</td>\n",
       "    </tr>\n",
       "    <tr>\n",
       "      <th>min</th>\n",
       "      <td>13.300000</td>\n",
       "      <td>13.400000</td>\n",
       "      <td>13.200000</td>\n",
       "      <td>13.300000</td>\n",
       "    </tr>\n",
       "    <tr>\n",
       "      <th>25%</th>\n",
       "      <td>450.300000</td>\n",
       "      <td>459.600000</td>\n",
       "      <td>441.900000</td>\n",
       "      <td>451.400000</td>\n",
       "    </tr>\n",
       "    <tr>\n",
       "      <th>50%</th>\n",
       "      <td>5208.300000</td>\n",
       "      <td>5322.900000</td>\n",
       "      <td>5033.700000</td>\n",
       "      <td>5209.100000</td>\n",
       "    </tr>\n",
       "    <tr>\n",
       "      <th>75%</th>\n",
       "      <td>14976.200000</td>\n",
       "      <td>15648.300000</td>\n",
       "      <td>13902.300000</td>\n",
       "      <td>15043.000000</td>\n",
       "    </tr>\n",
       "    <tr>\n",
       "      <th>max</th>\n",
       "      <td>67528.700000</td>\n",
       "      <td>68990.600000</td>\n",
       "      <td>66334.900000</td>\n",
       "      <td>67527.900000</td>\n",
       "    </tr>\n",
       "  </tbody>\n",
       "</table>\n",
       "</div>"
      ],
      "text/plain": [
       "               Open          High           Low         Close\n",
       "count   3793.000000   3793.000000   3793.000000   3793.000000\n",
       "mean   11233.252307  11529.297996  10904.581545  11240.315766\n",
       "std    15421.568722  15827.119004  14960.319732  15422.533996\n",
       "min       13.300000     13.400000     13.200000     13.300000\n",
       "25%      450.300000    459.600000    441.900000    451.400000\n",
       "50%     5208.300000   5322.900000   5033.700000   5209.100000\n",
       "75%    14976.200000  15648.300000  13902.300000  15043.000000\n",
       "max    67528.700000  68990.600000  66334.900000  67527.900000"
      ]
     },
     "execution_count": 5,
     "metadata": {},
     "output_type": "execute_result"
    }
   ],
   "source": [
    "df.describe()"
   ]
  },
  {
   "cell_type": "code",
   "execution_count": 6,
   "id": "1d79cca4",
   "metadata": {},
   "outputs": [
    {
     "name": "stdout",
     "output_type": "stream",
     "text": [
      "<class 'pandas.core.frame.DataFrame'>\n",
      "RangeIndex: 3793 entries, 0 to 3792\n",
      "Data columns (total 6 columns):\n",
      " #   Column  Non-Null Count  Dtype  \n",
      "---  ------  --------------  -----  \n",
      " 0   Date    3793 non-null   object \n",
      " 1   Open    3793 non-null   float64\n",
      " 2   High    3793 non-null   float64\n",
      " 3   Low     3793 non-null   float64\n",
      " 4   Close   3793 non-null   float64\n",
      " 5   Vol.    3793 non-null   object \n",
      "dtypes: float64(4), object(2)\n",
      "memory usage: 177.9+ KB\n"
     ]
    }
   ],
   "source": [
    "df.info()"
   ]
  },
  {
   "cell_type": "code",
   "execution_count": 7,
   "id": "262bbace",
   "metadata": {},
   "outputs": [
    {
     "data": {
      "text/plain": [
       "(3793, 6)"
      ]
     },
     "execution_count": 7,
     "metadata": {},
     "output_type": "execute_result"
    }
   ],
   "source": [
    "df.shape"
   ]
  },
  {
   "cell_type": "code",
   "execution_count": 9,
   "id": "436acd72",
   "metadata": {},
   "outputs": [
    {
     "data": {
      "text/plain": [
       "(3793, 2)"
      ]
     },
     "execution_count": 9,
     "metadata": {},
     "output_type": "execute_result"
    }
   ],
   "source": [
    "#creating a new feature \n",
    "closed = df[['Date','Close']]\n",
    "closed.shape"
   ]
  },
  {
   "cell_type": "code",
   "execution_count": null,
   "id": "99d31b36",
   "metadata": {},
   "outputs": [],
   "source": []
  }
 ],
 "metadata": {
  "kernelspec": {
   "display_name": "base",
   "language": "python",
   "name": "python3"
  },
  "language_info": {
   "codemirror_mode": {
    "name": "ipython",
    "version": 3
   },
   "file_extension": ".py",
   "mimetype": "text/x-python",
   "name": "python",
   "nbconvert_exporter": "python",
   "pygments_lexer": "ipython3",
   "version": "3.8.8"
  }
 },
 "nbformat": 4,
 "nbformat_minor": 5
}
