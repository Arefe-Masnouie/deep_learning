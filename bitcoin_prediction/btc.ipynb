{
 "cells": [
  {
   "cell_type": "code",
   "execution_count": 31,
   "id": "0144427c",
   "metadata": {},
   "outputs": [],
   "source": [
    "import numpy as np\n",
    "import seaborn as sns\n",
    "import pandas as pd\n",
    "import matplotlib.pyplot as plt\n",
    "\n",
    "from sklearn.preprocessing import MinMaxScaler\n",
    "\n",
    "from keras.models import Sequential\n",
    "from keras.layers import LSTM, Dense"
   ]
  },
  {
   "cell_type": "code",
   "execution_count": 2,
   "id": "7a5aa74d",
   "metadata": {},
   "outputs": [],
   "source": [
    "df = pd.read_csv(\"dataset/bitcoin.csv\")"
   ]
  },
  {
   "cell_type": "code",
   "execution_count": 3,
   "id": "4bd62aae",
   "metadata": {},
   "outputs": [
    {
     "data": {
      "application/vnd.microsoft.datawrangler.viewer.v0+json": {
       "columns": [
        {
         "name": "index",
         "rawType": "int64",
         "type": "integer"
        },
        {
         "name": "Date",
         "rawType": "object",
         "type": "string"
        },
        {
         "name": "Open",
         "rawType": "float64",
         "type": "float"
        },
        {
         "name": "High",
         "rawType": "float64",
         "type": "float"
        },
        {
         "name": "Low",
         "rawType": "float64",
         "type": "float"
        },
        {
         "name": "Close",
         "rawType": "float64",
         "type": "float"
        },
        {
         "name": "Vol.",
         "rawType": "object",
         "type": "string"
        }
       ],
       "conversionMethod": "pd.DataFrame",
       "ref": "db33c7b2-4618-4e7b-acb3-389308261ea4",
       "rows": [
        [
         "0",
         "2013-01-01",
         "13.5",
         "13.6",
         "13.2",
         "13.3",
         "28.41K"
        ],
        [
         "1",
         "2013-01-02",
         "13.3",
         "13.4",
         "13.2",
         "13.3",
         "17.97K"
        ],
        [
         "2",
         "2013-01-03",
         "13.3",
         "13.5",
         "13.3",
         "13.4",
         "18.03K"
        ],
        [
         "3",
         "2013-01-04",
         "13.4",
         "13.5",
         "13.3",
         "13.5",
         "29.64K"
        ],
        [
         "4",
         "2013-01-05",
         "13.5",
         "13.6",
         "13.3",
         "13.4",
         "21.33K"
        ]
       ],
       "shape": {
        "columns": 6,
        "rows": 5
       }
      },
      "text/html": [
       "<div>\n",
       "<style scoped>\n",
       "    .dataframe tbody tr th:only-of-type {\n",
       "        vertical-align: middle;\n",
       "    }\n",
       "\n",
       "    .dataframe tbody tr th {\n",
       "        vertical-align: top;\n",
       "    }\n",
       "\n",
       "    .dataframe thead th {\n",
       "        text-align: right;\n",
       "    }\n",
       "</style>\n",
       "<table border=\"1\" class=\"dataframe\">\n",
       "  <thead>\n",
       "    <tr style=\"text-align: right;\">\n",
       "      <th></th>\n",
       "      <th>Date</th>\n",
       "      <th>Open</th>\n",
       "      <th>High</th>\n",
       "      <th>Low</th>\n",
       "      <th>Close</th>\n",
       "      <th>Vol.</th>\n",
       "    </tr>\n",
       "  </thead>\n",
       "  <tbody>\n",
       "    <tr>\n",
       "      <th>0</th>\n",
       "      <td>2013-01-01</td>\n",
       "      <td>13.5</td>\n",
       "      <td>13.6</td>\n",
       "      <td>13.2</td>\n",
       "      <td>13.3</td>\n",
       "      <td>28.41K</td>\n",
       "    </tr>\n",
       "    <tr>\n",
       "      <th>1</th>\n",
       "      <td>2013-01-02</td>\n",
       "      <td>13.3</td>\n",
       "      <td>13.4</td>\n",
       "      <td>13.2</td>\n",
       "      <td>13.3</td>\n",
       "      <td>17.97K</td>\n",
       "    </tr>\n",
       "    <tr>\n",
       "      <th>2</th>\n",
       "      <td>2013-01-03</td>\n",
       "      <td>13.3</td>\n",
       "      <td>13.5</td>\n",
       "      <td>13.3</td>\n",
       "      <td>13.4</td>\n",
       "      <td>18.03K</td>\n",
       "    </tr>\n",
       "    <tr>\n",
       "      <th>3</th>\n",
       "      <td>2013-01-04</td>\n",
       "      <td>13.4</td>\n",
       "      <td>13.5</td>\n",
       "      <td>13.3</td>\n",
       "      <td>13.5</td>\n",
       "      <td>29.64K</td>\n",
       "    </tr>\n",
       "    <tr>\n",
       "      <th>4</th>\n",
       "      <td>2013-01-05</td>\n",
       "      <td>13.5</td>\n",
       "      <td>13.6</td>\n",
       "      <td>13.3</td>\n",
       "      <td>13.4</td>\n",
       "      <td>21.33K</td>\n",
       "    </tr>\n",
       "  </tbody>\n",
       "</table>\n",
       "</div>"
      ],
      "text/plain": [
       "         Date  Open  High   Low  Close    Vol.\n",
       "0  2013-01-01  13.5  13.6  13.2   13.3  28.41K\n",
       "1  2013-01-02  13.3  13.4  13.2   13.3  17.97K\n",
       "2  2013-01-03  13.3  13.5  13.3   13.4  18.03K\n",
       "3  2013-01-04  13.4  13.5  13.3   13.5  29.64K\n",
       "4  2013-01-05  13.5  13.6  13.3   13.4  21.33K"
      ]
     },
     "execution_count": 3,
     "metadata": {},
     "output_type": "execute_result"
    }
   ],
   "source": [
    "df.head()"
   ]
  },
  {
   "cell_type": "code",
   "execution_count": 4,
   "id": "66f20153",
   "metadata": {},
   "outputs": [
    {
     "data": {
      "application/vnd.microsoft.datawrangler.viewer.v0+json": {
       "columns": [
        {
         "name": "index",
         "rawType": "object",
         "type": "string"
        },
        {
         "name": "Open",
         "rawType": "float64",
         "type": "float"
        },
        {
         "name": "High",
         "rawType": "float64",
         "type": "float"
        },
        {
         "name": "Low",
         "rawType": "float64",
         "type": "float"
        },
        {
         "name": "Close",
         "rawType": "float64",
         "type": "float"
        }
       ],
       "conversionMethod": "pd.DataFrame",
       "ref": "ef2bad95-1635-4ea9-b971-e72fe860804d",
       "rows": [
        [
         "count",
         "3793.0",
         "3793.0",
         "3793.0",
         "3793.0"
        ],
        [
         "mean",
         "11233.252306881097",
         "11529.29799630899",
         "10904.581544951227",
         "11240.315765884523"
        ],
        [
         "std",
         "15421.5687216527",
         "15827.119004432077",
         "14960.319731634536",
         "15422.533996220505"
        ],
        [
         "min",
         "13.3",
         "13.4",
         "13.2",
         "13.3"
        ],
        [
         "25%",
         "450.3",
         "459.6",
         "441.9",
         "451.4"
        ],
        [
         "50%",
         "5208.3",
         "5322.9",
         "5033.7",
         "5209.1"
        ],
        [
         "75%",
         "14976.2",
         "15648.3",
         "13902.3",
         "15043.0"
        ],
        [
         "max",
         "67528.7",
         "68990.6",
         "66334.9",
         "67527.9"
        ]
       ],
       "shape": {
        "columns": 4,
        "rows": 8
       }
      },
      "text/html": [
       "<div>\n",
       "<style scoped>\n",
       "    .dataframe tbody tr th:only-of-type {\n",
       "        vertical-align: middle;\n",
       "    }\n",
       "\n",
       "    .dataframe tbody tr th {\n",
       "        vertical-align: top;\n",
       "    }\n",
       "\n",
       "    .dataframe thead th {\n",
       "        text-align: right;\n",
       "    }\n",
       "</style>\n",
       "<table border=\"1\" class=\"dataframe\">\n",
       "  <thead>\n",
       "    <tr style=\"text-align: right;\">\n",
       "      <th></th>\n",
       "      <th>Open</th>\n",
       "      <th>High</th>\n",
       "      <th>Low</th>\n",
       "      <th>Close</th>\n",
       "    </tr>\n",
       "  </thead>\n",
       "  <tbody>\n",
       "    <tr>\n",
       "      <th>count</th>\n",
       "      <td>3793.000000</td>\n",
       "      <td>3793.000000</td>\n",
       "      <td>3793.000000</td>\n",
       "      <td>3793.000000</td>\n",
       "    </tr>\n",
       "    <tr>\n",
       "      <th>mean</th>\n",
       "      <td>11233.252307</td>\n",
       "      <td>11529.297996</td>\n",
       "      <td>10904.581545</td>\n",
       "      <td>11240.315766</td>\n",
       "    </tr>\n",
       "    <tr>\n",
       "      <th>std</th>\n",
       "      <td>15421.568722</td>\n",
       "      <td>15827.119004</td>\n",
       "      <td>14960.319732</td>\n",
       "      <td>15422.533996</td>\n",
       "    </tr>\n",
       "    <tr>\n",
       "      <th>min</th>\n",
       "      <td>13.300000</td>\n",
       "      <td>13.400000</td>\n",
       "      <td>13.200000</td>\n",
       "      <td>13.300000</td>\n",
       "    </tr>\n",
       "    <tr>\n",
       "      <th>25%</th>\n",
       "      <td>450.300000</td>\n",
       "      <td>459.600000</td>\n",
       "      <td>441.900000</td>\n",
       "      <td>451.400000</td>\n",
       "    </tr>\n",
       "    <tr>\n",
       "      <th>50%</th>\n",
       "      <td>5208.300000</td>\n",
       "      <td>5322.900000</td>\n",
       "      <td>5033.700000</td>\n",
       "      <td>5209.100000</td>\n",
       "    </tr>\n",
       "    <tr>\n",
       "      <th>75%</th>\n",
       "      <td>14976.200000</td>\n",
       "      <td>15648.300000</td>\n",
       "      <td>13902.300000</td>\n",
       "      <td>15043.000000</td>\n",
       "    </tr>\n",
       "    <tr>\n",
       "      <th>max</th>\n",
       "      <td>67528.700000</td>\n",
       "      <td>68990.600000</td>\n",
       "      <td>66334.900000</td>\n",
       "      <td>67527.900000</td>\n",
       "    </tr>\n",
       "  </tbody>\n",
       "</table>\n",
       "</div>"
      ],
      "text/plain": [
       "               Open          High           Low         Close\n",
       "count   3793.000000   3793.000000   3793.000000   3793.000000\n",
       "mean   11233.252307  11529.297996  10904.581545  11240.315766\n",
       "std    15421.568722  15827.119004  14960.319732  15422.533996\n",
       "min       13.300000     13.400000     13.200000     13.300000\n",
       "25%      450.300000    459.600000    441.900000    451.400000\n",
       "50%     5208.300000   5322.900000   5033.700000   5209.100000\n",
       "75%    14976.200000  15648.300000  13902.300000  15043.000000\n",
       "max    67528.700000  68990.600000  66334.900000  67527.900000"
      ]
     },
     "execution_count": 4,
     "metadata": {},
     "output_type": "execute_result"
    }
   ],
   "source": [
    "df.describe()"
   ]
  },
  {
   "cell_type": "code",
   "execution_count": 5,
   "id": "1d79cca4",
   "metadata": {},
   "outputs": [
    {
     "name": "stdout",
     "output_type": "stream",
     "text": [
      "<class 'pandas.core.frame.DataFrame'>\n",
      "RangeIndex: 3793 entries, 0 to 3792\n",
      "Data columns (total 6 columns):\n",
      " #   Column  Non-Null Count  Dtype  \n",
      "---  ------  --------------  -----  \n",
      " 0   Date    3793 non-null   object \n",
      " 1   Open    3793 non-null   float64\n",
      " 2   High    3793 non-null   float64\n",
      " 3   Low     3793 non-null   float64\n",
      " 4   Close   3793 non-null   float64\n",
      " 5   Vol.    3793 non-null   object \n",
      "dtypes: float64(4), object(2)\n",
      "memory usage: 177.9+ KB\n"
     ]
    }
   ],
   "source": [
    "df.info()"
   ]
  },
  {
   "cell_type": "code",
   "execution_count": 6,
   "id": "262bbace",
   "metadata": {},
   "outputs": [
    {
     "data": {
      "text/plain": [
       "(3793, 6)"
      ]
     },
     "execution_count": 6,
     "metadata": {},
     "output_type": "execute_result"
    }
   ],
   "source": [
    "df.shape"
   ]
  },
  {
   "cell_type": "code",
   "execution_count": 7,
   "id": "436acd72",
   "metadata": {},
   "outputs": [
    {
     "data": {
      "text/plain": [
       "(3793, 2)"
      ]
     },
     "execution_count": 7,
     "metadata": {},
     "output_type": "execute_result"
    }
   ],
   "source": [
    "#creating a new feature \n",
    "closed = df[['Date','Close']]\n",
    "closed.shape"
   ]
  },
  {
   "cell_type": "code",
   "execution_count": 9,
   "id": "99d31b36",
   "metadata": {},
   "outputs": [
    {
     "data": {
      "image/png": "[encoded data removed]",
      "text/plain": [
       "<Figure size 864x432 with 1 Axes>"
      ]
     },
     "metadata": {
      "needs_background": "light"
     },
     "output_type": "display_data"
    }
   ],
   "source": [
    "plt.figure(1,figsize=(12,6))\n",
    "plt.plot(closed['Date'], closed['Close'], color='blue', label='Close Price')\n",
    "plt.show()"
   ]
  },
  {
   "cell_type": "code",
   "execution_count": 10,
   "id": "5c39087c",
   "metadata": {},
   "outputs": [
    {
     "data": {
      "application/vnd.microsoft.datawrangler.viewer.v0+json": {
       "columns": [
        {
         "name": "index",
         "rawType": "int64",
         "type": "integer"
        },
        {
         "name": "Date",
         "rawType": "object",
         "type": "string"
        },
        {
         "name": "Close",
         "rawType": "float64",
         "type": "float"
        }
       ],
       "conversionMethod": "pd.DataFrame",
       "ref": "9b5452b6-59a5-424c-ba80-3b1ff946f73f",
       "rows": [
        [
         "2922",
         "2021-01-01",
         "29359.9"
        ],
        [
         "2923",
         "2021-01-02",
         "32193.3"
        ],
        [
         "2924",
         "2021-01-03",
         "32958.9"
        ],
        [
         "2925",
         "2021-01-04",
         "32022.6"
        ],
        [
         "2926",
         "2021-01-05",
         "33991.5"
        ],
        [
         "2927",
         "2021-01-06",
         "36793.2"
        ],
        [
         "2928",
         "2021-01-07",
         "39460.2"
        ],
        [
         "2929",
         "2021-01-08",
         "40599.3"
        ],
        [
         "2930",
         "2021-01-09",
         "40151.9"
        ],
        [
         "2931",
         "2021-01-10",
         "38192.2"
        ],
        [
         "2932",
         "2021-01-11",
         "35544.3"
        ],
        [
         "2933",
         "2021-01-12",
         "34076.1"
        ],
        [
         "2934",
         "2021-01-13",
         "37382.2"
        ],
        [
         "2935",
         "2021-01-14",
         "39175.7"
        ],
        [
         "2936",
         "2021-01-15",
         "36845.8"
        ],
        [
         "2937",
         "2021-01-16",
         "36019.5"
        ],
        [
         "2938",
         "2021-01-17",
         "35839.6"
        ],
        [
         "2939",
         "2021-01-18",
         "36613.2"
        ],
        [
         "2940",
         "2021-01-19",
         "36002.9"
        ],
        [
         "2941",
         "2021-01-20",
         "35476.3"
        ],
        [
         "2942",
         "2021-01-21",
         "30842.1"
        ],
        [
         "2943",
         "2021-01-22",
         "33000.5"
        ],
        [
         "2944",
         "2021-01-23",
         "32088.9"
        ],
        [
         "2945",
         "2021-01-24",
         "32241.3"
        ],
        [
         "2946",
         "2021-01-25",
         "32252.3"
        ],
        [
         "2947",
         "2021-01-26",
         "32502.1"
        ],
        [
         "2948",
         "2021-01-27",
         "30404.0"
        ],
        [
         "2949",
         "2021-01-28",
         "33374.8"
        ],
        [
         "2950",
         "2021-01-29",
         "34301.8"
        ],
        [
         "2951",
         "2021-01-30",
         "34283.1"
        ],
        [
         "2952",
         "2021-01-31",
         "33108.1"
        ],
        [
         "2953",
         "2021-02-01",
         "33515.7"
        ],
        [
         "2954",
         "2021-02-02",
         "35485.2"
        ],
        [
         "2955",
         "2021-02-03",
         "37646.8"
        ],
        [
         "2956",
         "2021-02-04",
         "36982.1"
        ],
        [
         "2957",
         "2021-02-05",
         "38297.6"
        ],
        [
         "2958",
         "2021-02-06",
         "39256.6"
        ],
        [
         "2959",
         "2021-02-07",
         "38852.9"
        ],
        [
         "2960",
         "2021-02-08",
         "46395.7"
        ],
        [
         "2961",
         "2021-02-09",
         "46508.6"
        ],
        [
         "2962",
         "2021-02-10",
         "44836.0"
        ],
        [
         "2963",
         "2021-02-11",
         "47990.7"
        ],
        [
         "2964",
         "2021-02-12",
         "47371.7"
        ],
        [
         "2965",
         "2021-02-13",
         "47168.7"
        ],
        [
         "2966",
         "2021-02-14",
         "48643.4"
        ],
        [
         "2967",
         "2021-02-15",
         "47936.3"
        ],
        [
         "2968",
         "2021-02-16",
         "49169.7"
        ],
        [
         "2969",
         "2021-02-17",
         "52079.2"
        ],
        [
         "2970",
         "2021-02-18",
         "51582.2"
        ],
        [
         "2971",
         "2021-02-19",
         "55906.6"
        ]
       ],
       "shape": {
        "columns": 2,
        "rows": 871
       }
      },
      "text/html": [
       "<div>\n",
       "<style scoped>\n",
       "    .dataframe tbody tr th:only-of-type {\n",
       "        vertical-align: middle;\n",
       "    }\n",
       "\n",
       "    .dataframe tbody tr th {\n",
       "        vertical-align: top;\n",
       "    }\n",
       "\n",
       "    .dataframe thead th {\n",
       "        text-align: right;\n",
       "    }\n",
       "</style>\n",
       "<table border=\"1\" class=\"dataframe\">\n",
       "  <thead>\n",
       "    <tr style=\"text-align: right;\">\n",
       "      <th></th>\n",
       "      <th>Date</th>\n",
       "      <th>Close</th>\n",
       "    </tr>\n",
       "  </thead>\n",
       "  <tbody>\n",
       "    <tr>\n",
       "      <th>2922</th>\n",
       "      <td>2021-01-01</td>\n",
       "      <td>29359.9</td>\n",
       "    </tr>\n",
       "    <tr>\n",
       "      <th>2923</th>\n",
       "      <td>2021-01-02</td>\n",
       "      <td>32193.3</td>\n",
       "    </tr>\n",
       "    <tr>\n",
       "      <th>2924</th>\n",
       "      <td>2021-01-03</td>\n",
       "      <td>32958.9</td>\n",
       "    </tr>\n",
       "    <tr>\n",
       "      <th>2925</th>\n",
       "      <td>2021-01-04</td>\n",
       "      <td>32022.6</td>\n",
       "    </tr>\n",
       "    <tr>\n",
       "      <th>2926</th>\n",
       "      <td>2021-01-05</td>\n",
       "      <td>33991.5</td>\n",
       "    </tr>\n",
       "    <tr>\n",
       "      <th>...</th>\n",
       "      <td>...</td>\n",
       "      <td>...</td>\n",
       "    </tr>\n",
       "    <tr>\n",
       "      <th>3788</th>\n",
       "      <td>2023-05-17</td>\n",
       "      <td>27403.1</td>\n",
       "    </tr>\n",
       "    <tr>\n",
       "      <th>3789</th>\n",
       "      <td>2023-05-18</td>\n",
       "      <td>26828.0</td>\n",
       "    </tr>\n",
       "    <tr>\n",
       "      <th>3790</th>\n",
       "      <td>2023-05-19</td>\n",
       "      <td>26882.9</td>\n",
       "    </tr>\n",
       "    <tr>\n",
       "      <th>3791</th>\n",
       "      <td>2023-05-20</td>\n",
       "      <td>27116.2</td>\n",
       "    </tr>\n",
       "    <tr>\n",
       "      <th>3792</th>\n",
       "      <td>2023-05-21</td>\n",
       "      <td>27181.2</td>\n",
       "    </tr>\n",
       "  </tbody>\n",
       "</table>\n",
       "<p>871 rows × 2 columns</p>\n",
       "</div>"
      ],
      "text/plain": [
       "            Date    Close\n",
       "2922  2021-01-01  29359.9\n",
       "2923  2021-01-02  32193.3\n",
       "2924  2021-01-03  32958.9\n",
       "2925  2021-01-04  32022.6\n",
       "2926  2021-01-05  33991.5\n",
       "...          ...      ...\n",
       "3788  2023-05-17  27403.1\n",
       "3789  2023-05-18  26828.0\n",
       "3790  2023-05-19  26882.9\n",
       "3791  2023-05-20  27116.2\n",
       "3792  2023-05-21  27181.2\n",
       "\n",
       "[871 rows x 2 columns]"
      ]
     },
     "execution_count": 10,
     "metadata": {},
     "output_type": "execute_result"
    }
   ],
   "source": [
    "price = closed[closed['Date'] >= '2021-01-01'] #in bracket there is a condition \n",
    "#that says just put the data from 2021-01-01 to the end of the data set\n",
    "price"
   ]
  },
  {
   "cell_type": "code",
   "execution_count": 12,
   "id": "b953d3e9",
   "metadata": {},
   "outputs": [
    {
     "data": {
      "image/png": "[encoded data removed]",
      "text/plain": [
       "<Figure size 864x432 with 1 Axes>"
      ]
     },
     "metadata": {
      "needs_background": "light"
     },
     "output_type": "display_data"
    }
   ],
   "source": [
    "plt.figure(1,figsize=(12,6))\n",
    "plt.plot(price['Date'], price['Close'], color='blue', label='Close Price')\n",
    "plt.show()"
   ]
  },
  {
   "cell_type": "code",
   "execution_count": null,
   "id": "eb5bfce4",
   "metadata": {},
   "outputs": [
    {
     "name": "stdout",
     "output_type": "stream",
     "text": [
      "2922    29359.9\n",
      "2923    32193.3\n",
      "2924    32958.9\n",
      "Name: Close, dtype: float64\n"
     ]
    }
   ],
   "source": [
    "x =price['Close'][0:3]\n",
    "print(x)"
   ]
  },
  {
   "cell_type": "code",
   "execution_count": 19,
   "id": "1e584662",
   "metadata": {},
   "outputs": [
    {
     "data": {
      "text/plain": [
       "(871,)"
      ]
     },
     "execution_count": 19,
     "metadata": {},
     "output_type": "execute_result"
    }
   ],
   "source": [
    "x = price['Close']\n",
    "x.shape"
   ]
  },
  {
   "cell_type": "code",
   "execution_count": 20,
   "id": "be8f7107",
   "metadata": {},
   "outputs": [],
   "source": [
    "# Normalizing the data\n",
    "scaler = MinMaxScaler(feature_range=(0,1)) #minmax scaler is used to scale the data between 0 and 1\n",
    "x  = scaler.fit_transform(np.array(x).reshape(-1,1)) #this is used to fit the data and transform it into a numpy array"
   ]
  },
  {
   "cell_type": "code",
   "execution_count": 22,
   "id": "e48e8ef0",
   "metadata": {},
   "outputs": [],
   "source": [
    "x_train = x[0:650]\n",
    "x_test = x[650:750] #this is used to split the data into training and testing data\n",
    "x_val = x[750:] "
   ]
  },
  {
   "cell_type": "code",
   "execution_count": 28,
   "id": "93eb658f",
   "metadata": {},
   "outputs": [
    {
     "name": "stdout",
     "output_type": "stream",
     "text": [
      "(644, 5)\n",
      "(94, 5)\n",
      "(115, 5)\n"
     ]
    }
   ],
   "source": [
    "#train dataset\n",
    "x1=[]\n",
    "y1=[]\n",
    "a=[]\n",
    "b=[]\n",
    "for i in range(len(x_train)-5-1):\n",
    "    a = x_train[i:i+5,0] #this is used to create a list of 5 elements from the training data\n",
    "    b = x_train[i+5] #this is used to create a list of 1 element from the training data\n",
    "    x1.append(a)\n",
    "    y1.append(b)\n",
    "\n",
    "x_train1 = np.array(x1)\n",
    "y_train1 = np.array(y1)\n",
    "    \n",
    "print(x_train1.shape)\n",
    "x_train1.shape, y_train1.shape\n",
    "\n",
    " #dataset for test\n",
    "x2=[]\n",
    "y2=[]\n",
    "c=[]\n",
    "d=[]\n",
    "for i in range(len(x_test)-5-1):\n",
    "    c = x_test[i:i+5,0] #this is used to create a list of 5 elements from the training data\n",
    "    d = x_test[i+5] #this is used to create a list of 1 element from the training data\n",
    "    x2.append(c)\n",
    "    y2.append(d)\n",
    "\n",
    "x_test1 = np.array(x2)\n",
    "y_test1 = np.array(y2)\n",
    "    \n",
    "print(x_test1.shape)\n",
    "\n",
    "#val datasset\n",
    "x3=[]\n",
    "y3=[]\n",
    "e=[]\n",
    "f=[]\n",
    "for i in range(len(x_val)-5-1):\n",
    "    e = x_val[i:i+5,0] #this is used to create a list of 5 elements from the training data\n",
    "    f = x_val[i+5] #this is used to create a list of 1 element from the training data\n",
    "    x3.append(e)\n",
    "    y3.append(f)\n",
    "\n",
    "x_val1 = np.array(x3)\n",
    "y_val1 = np.array(y3)\n",
    "\n",
    "print(x_val1.shape)\n",
    "\n"
   ]
  },
  {
   "cell_type": "code",
   "execution_count": 29,
   "id": "97c6f67b",
   "metadata": {},
   "outputs": [
    {
     "name": "stdout",
     "output_type": "stream",
     "text": [
      "(644, 5, 1)\n",
      "(94, 5, 1)\n",
      "(115, 5, 1)\n"
     ]
    }
   ],
   "source": [
    "#lstm format [tedad, length, features]\n",
    "#so we need reshaping becayse we need 3 dimension\n",
    "x_train1 = x_train1.reshape(644,5,1)\n",
    "x_test1 = x_test1.reshape(94,5,1)\n",
    "x_val1 = x_val1.reshape(115,5,1)\n",
    "\n",
    "\n",
    "print(x_train1.shape)\n",
    "print(x_test1.shape)\n",
    "print(x_val1.shape)"
   ]
  },
  {
   "cell_type": "code",
   "execution_count": null,
   "id": "bb29c00a",
   "metadata": {},
   "outputs": [
    {
     "name": "stdout",
     "output_type": "stream",
     "text": [
      "Model: \"sequential\"\n",
      "_________________________________________________________________\n",
      " Layer (type)                Output Shape              Param #   \n",
      "=================================================================\n",
      " lstm (LSTM)                 (None, 10)                480       \n",
      "                                                                 \n",
      " dense (Dense)               (None, 1)                 11        \n",
      "                                                                 \n",
      "=================================================================\n",
      "Total params: 491 (1.92 KB)\n",
      "Trainable params: 491 (1.92 KB)\n",
      "Non-trainable params: 0 (0.00 Byte)\n",
      "_________________________________________________________________\n"
     ]
    }
   ],
   "source": [
    "#making the model\n",
    "model = Sequential()\n",
    "\n",
    "model.add(LSTM(units=10, activation='relu', input_shape = (None,1)))\n",
    "model.add(Dense(1))\n",
    "\n",
    "#compiling the model\n",
    "model.compile(loss=\"mean_squared_error\", optimizer='adam')\n",
    "\n",
    "model.summary()"
   ]
  },
  {
   "cell_type": "code",
   "execution_count": 34,
   "id": "d6d211af",
   "metadata": {},
   "outputs": [
    {
     "name": "stdout",
     "output_type": "stream",
     "text": [
      "Epoch 1/50\n",
      "21/21 [==============================] - 0s 6ms/step - loss: 0.0018 - val_loss: 3.5620e-04\n",
      "Epoch 2/50\n",
      "21/21 [==============================] - 0s 4ms/step - loss: 0.0018 - val_loss: 3.5852e-04\n",
      "Epoch 3/50\n",
      "21/21 [==============================] - 0s 3ms/step - loss: 0.0018 - val_loss: 3.8469e-04\n",
      "Epoch 4/50\n",
      "21/21 [==============================] - 0s 3ms/step - loss: 0.0017 - val_loss: 3.5207e-04\n",
      "Epoch 5/50\n",
      "21/21 [==============================] - 0s 3ms/step - loss: 0.0017 - val_loss: 3.7320e-04\n",
      "Epoch 6/50\n",
      "21/21 [==============================] - 0s 4ms/step - loss: 0.0017 - val_loss: 3.8630e-04\n",
      "Epoch 7/50\n",
      "21/21 [==============================] - 0s 4ms/step - loss: 0.0018 - val_loss: 3.3194e-04\n",
      "Epoch 8/50\n",
      "21/21 [==============================] - 0s 3ms/step - loss: 0.0017 - val_loss: 3.7747e-04\n",
      "Epoch 9/50\n",
      "21/21 [==============================] - 0s 5ms/step - loss: 0.0017 - val_loss: 3.8259e-04\n",
      "Epoch 10/50\n",
      "21/21 [==============================] - 0s 3ms/step - loss: 0.0017 - val_loss: 3.3892e-04\n",
      "Epoch 11/50\n",
      "21/21 [==============================] - 0s 3ms/step - loss: 0.0017 - val_loss: 4.1697e-04\n",
      "Epoch 12/50\n",
      "21/21 [==============================] - 0s 5ms/step - loss: 0.0017 - val_loss: 3.5183e-04\n",
      "Epoch 13/50\n",
      "21/21 [==============================] - 0s 4ms/step - loss: 0.0017 - val_loss: 3.3985e-04\n",
      "Epoch 14/50\n",
      "21/21 [==============================] - 0s 4ms/step - loss: 0.0016 - val_loss: 4.1842e-04\n",
      "Epoch 15/50\n",
      "21/21 [==============================] - 0s 3ms/step - loss: 0.0016 - val_loss: 3.8134e-04\n",
      "Epoch 16/50\n",
      "21/21 [==============================] - 0s 3ms/step - loss: 0.0016 - val_loss: 4.4165e-04\n",
      "Epoch 17/50\n",
      "21/21 [==============================] - 0s 3ms/step - loss: 0.0016 - val_loss: 3.3490e-04\n",
      "Epoch 18/50\n",
      "21/21 [==============================] - 0s 3ms/step - loss: 0.0016 - val_loss: 3.5673e-04\n",
      "Epoch 19/50\n",
      "21/21 [==============================] - 0s 3ms/step - loss: 0.0016 - val_loss: 3.4687e-04\n",
      "Epoch 20/50\n",
      "21/21 [==============================] - 0s 6ms/step - loss: 0.0016 - val_loss: 3.3889e-04\n",
      "Epoch 21/50\n",
      "21/21 [==============================] - 0s 3ms/step - loss: 0.0016 - val_loss: 4.4819e-04\n",
      "Epoch 22/50\n",
      "21/21 [==============================] - 0s 4ms/step - loss: 0.0016 - val_loss: 3.5678e-04\n",
      "Epoch 23/50\n",
      "21/21 [==============================] - 0s 3ms/step - loss: 0.0016 - val_loss: 3.2255e-04\n",
      "Epoch 24/50\n",
      "21/21 [==============================] - 0s 4ms/step - loss: 0.0016 - val_loss: 4.0126e-04\n",
      "Epoch 25/50\n",
      "21/21 [==============================] - 0s 3ms/step - loss: 0.0016 - val_loss: 3.1976e-04\n",
      "Epoch 26/50\n",
      "21/21 [==============================] - 0s 3ms/step - loss: 0.0016 - val_loss: 3.2708e-04\n",
      "Epoch 27/50\n",
      "21/21 [==============================] - 0s 3ms/step - loss: 0.0016 - val_loss: 5.2500e-04\n",
      "Epoch 28/50\n",
      "21/21 [==============================] - 0s 3ms/step - loss: 0.0016 - val_loss: 3.9632e-04\n",
      "Epoch 29/50\n",
      "21/21 [==============================] - 0s 4ms/step - loss: 0.0015 - val_loss: 3.4019e-04\n",
      "Epoch 30/50\n",
      "21/21 [==============================] - 0s 5ms/step - loss: 0.0016 - val_loss: 5.1036e-04\n",
      "Epoch 31/50\n",
      "21/21 [==============================] - 0s 4ms/step - loss: 0.0016 - val_loss: 4.5663e-04\n",
      "Epoch 32/50\n",
      "21/21 [==============================] - 0s 3ms/step - loss: 0.0017 - val_loss: 3.4181e-04\n",
      "Epoch 33/50\n",
      "21/21 [==============================] - 0s 3ms/step - loss: 0.0016 - val_loss: 3.0763e-04\n",
      "Epoch 34/50\n",
      "21/21 [==============================] - 0s 3ms/step - loss: 0.0015 - val_loss: 3.1355e-04\n",
      "Epoch 35/50\n",
      "21/21 [==============================] - 0s 3ms/step - loss: 0.0015 - val_loss: 4.3081e-04\n",
      "Epoch 36/50\n",
      "21/21 [==============================] - 0s 3ms/step - loss: 0.0015 - val_loss: 3.9501e-04\n",
      "Epoch 37/50\n",
      "21/21 [==============================] - 0s 3ms/step - loss: 0.0015 - val_loss: 3.7705e-04\n",
      "Epoch 38/50\n",
      "21/21 [==============================] - 0s 3ms/step - loss: 0.0015 - val_loss: 3.3431e-04\n",
      "Epoch 39/50\n",
      "21/21 [==============================] - 0s 3ms/step - loss: 0.0015 - val_loss: 3.5511e-04\n",
      "Epoch 40/50\n",
      "21/21 [==============================] - 0s 6ms/step - loss: 0.0015 - val_loss: 3.9629e-04\n",
      "Epoch 41/50\n",
      "21/21 [==============================] - 0s 4ms/step - loss: 0.0015 - val_loss: 3.5882e-04\n",
      "Epoch 42/50\n",
      "21/21 [==============================] - 0s 3ms/step - loss: 0.0015 - val_loss: 3.4399e-04\n",
      "Epoch 43/50\n",
      "21/21 [==============================] - 0s 3ms/step - loss: 0.0015 - val_loss: 4.0267e-04\n",
      "Epoch 44/50\n",
      "21/21 [==============================] - 0s 3ms/step - loss: 0.0015 - val_loss: 3.0131e-04\n",
      "Epoch 45/50\n",
      "21/21 [==============================] - 0s 3ms/step - loss: 0.0015 - val_loss: 3.5798e-04\n",
      "Epoch 46/50\n",
      "21/21 [==============================] - 0s 3ms/step - loss: 0.0015 - val_loss: 3.1816e-04\n",
      "Epoch 47/50\n",
      "21/21 [==============================] - 0s 4ms/step - loss: 0.0014 - val_loss: 3.4818e-04\n",
      "Epoch 48/50\n",
      "21/21 [==============================] - 0s 4ms/step - loss: 0.0015 - val_loss: 4.4338e-04\n",
      "Epoch 49/50\n",
      "21/21 [==============================] - 0s 3ms/step - loss: 0.0014 - val_loss: 3.1908e-04\n",
      "Epoch 50/50\n",
      "21/21 [==============================] - 0s 3ms/step - loss: 0.0014 - val_loss: 3.5526e-04\n"
     ]
    }
   ],
   "source": [
    "#teaching model\n",
    "history = model.fit(x_train1, y_train1,\n",
    "                    validation_data=(x_val1, y_val1),\n",
    "                    epochs=50,\n",
    "                    validation_split=0.2)"
   ]
  },
  {
   "cell_type": "code",
   "execution_count": null,
   "id": "435fefb8",
   "metadata": {},
   "outputs": [],
   "source": []
  }
 ],
 "metadata": {
  "kernelspec": {
   "display_name": "base",
   "language": "python",
   "name": "python3"
  },
  "language_info": {
   "codemirror_mode": {
    "name": "ipython",
    "version": 3
   },
   "file_extension": ".py",
   "mimetype": "text/x-python",
   "name": "python",
   "nbconvert_exporter": "python",
   "pygments_lexer": "ipython3",
   "version": "3.8.8"
  }
 },
 "nbformat": 4,
 "nbformat_minor": 5
}
