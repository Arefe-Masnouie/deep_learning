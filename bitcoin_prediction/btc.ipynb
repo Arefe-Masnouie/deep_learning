{
 "cells": [
  {
   "cell_type": "code",
   "execution_count": 1,
   "id": "0144427c",
   "metadata": {},
   "outputs": [],
   "source": [
    "import numpy as np\n",
    "import seaborn as sns\n",
    "import pandas as pd\n",
    "import matplotlib.pyplot as plt\n",
    "\n",
    "from sklearn.preprocessing import MinMaxScaler\n",
    "\n",
    "from keras.models import Sequential\n",
    "from keras.layers import LSTM, Dense"
   ]
  },
  {
   "cell_type": "code",
   "execution_count": 2,
   "id": "7a5aa74d",
   "metadata": {},
   "outputs": [],
   "source": [
    "df = pd.read_csv(\"dataset/bitcoin.csv\")"
   ]
  },
  {
   "cell_type": "code",
   "execution_count": 3,
   "id": "4bd62aae",
   "metadata": {},
   "outputs": [
    {
     "data": {
      "application/vnd.microsoft.datawrangler.viewer.v0+json": {
       "columns": [
        {
         "name": "index",
         "rawType": "int64",
         "type": "integer"
        },
        {
         "name": "Date",
         "rawType": "object",
         "type": "string"
        },
        {
         "name": "Open",
         "rawType": "float64",
         "type": "float"
        },
        {
         "name": "High",
         "rawType": "float64",
         "type": "float"
        },
        {
         "name": "Low",
         "rawType": "float64",
         "type": "float"
        },
        {
         "name": "Close",
         "rawType": "float64",
         "type": "float"
        },
        {
         "name": "Vol.",
         "rawType": "object",
         "type": "string"
        }
       ],
       "conversionMethod": "pd.DataFrame",
       "ref": "d2fed331-57e7-408e-bbe2-85b093771051",
       "rows": [
        [
         "0",
         "2013-01-01",
         "13.5",
         "13.6",
         "13.2",
         "13.3",
         "28.41K"
        ],
        [
         "1",
         "2013-01-02",
         "13.3",
         "13.4",
         "13.2",
         "13.3",
         "17.97K"
        ],
        [
         "2",
         "2013-01-03",
         "13.3",
         "13.5",
         "13.3",
         "13.4",
         "18.03K"
        ],
        [
         "3",
         "2013-01-04",
         "13.4",
         "13.5",
         "13.3",
         "13.5",
         "29.64K"
        ],
        [
         "4",
         "2013-01-05",
         "13.5",
         "13.6",
         "13.3",
         "13.4",
         "21.33K"
        ]
       ],
       "shape": {
        "columns": 6,
        "rows": 5
       }
      },
      "text/html": [
       "<div>\n",
       "<style scoped>\n",
       "    .dataframe tbody tr th:only-of-type {\n",
       "        vertical-align: middle;\n",
       "    }\n",
       "\n",
       "    .dataframe tbody tr th {\n",
       "        vertical-align: top;\n",
       "    }\n",
       "\n",
       "    .dataframe thead th {\n",
       "        text-align: right;\n",
       "    }\n",
       "</style>\n",
       "<table border=\"1\" class=\"dataframe\">\n",
       "  <thead>\n",
       "    <tr style=\"text-align: right;\">\n",
       "      <th></th>\n",
       "      <th>Date</th>\n",
       "      <th>Open</th>\n",
       "      <th>High</th>\n",
       "      <th>Low</th>\n",
       "      <th>Close</th>\n",
       "      <th>Vol.</th>\n",
       "    </tr>\n",
       "  </thead>\n",
       "  <tbody>\n",
       "    <tr>\n",
       "      <th>0</th>\n",
       "      <td>2013-01-01</td>\n",
       "      <td>13.5</td>\n",
       "      <td>13.6</td>\n",
       "      <td>13.2</td>\n",
       "      <td>13.3</td>\n",
       "      <td>28.41K</td>\n",
       "    </tr>\n",
       "    <tr>\n",
       "      <th>1</th>\n",
       "      <td>2013-01-02</td>\n",
       "      <td>13.3</td>\n",
       "      <td>13.4</td>\n",
       "      <td>13.2</td>\n",
       "      <td>13.3</td>\n",
       "      <td>17.97K</td>\n",
       "    </tr>\n",
       "    <tr>\n",
       "      <th>2</th>\n",
       "      <td>2013-01-03</td>\n",
       "      <td>13.3</td>\n",
       "      <td>13.5</td>\n",
       "      <td>13.3</td>\n",
       "      <td>13.4</td>\n",
       "      <td>18.03K</td>\n",
       "    </tr>\n",
       "    <tr>\n",
       "      <th>3</th>\n",
       "      <td>2013-01-04</td>\n",
       "      <td>13.4</td>\n",
       "      <td>13.5</td>\n",
       "      <td>13.3</td>\n",
       "      <td>13.5</td>\n",
       "      <td>29.64K</td>\n",
       "    </tr>\n",
       "    <tr>\n",
       "      <th>4</th>\n",
       "      <td>2013-01-05</td>\n",
       "      <td>13.5</td>\n",
       "      <td>13.6</td>\n",
       "      <td>13.3</td>\n",
       "      <td>13.4</td>\n",
       "      <td>21.33K</td>\n",
       "    </tr>\n",
       "  </tbody>\n",
       "</table>\n",
       "</div>"
      ],
      "text/plain": [
       "         Date  Open  High   Low  Close    Vol.\n",
       "0  2013-01-01  13.5  13.6  13.2   13.3  28.41K\n",
       "1  2013-01-02  13.3  13.4  13.2   13.3  17.97K\n",
       "2  2013-01-03  13.3  13.5  13.3   13.4  18.03K\n",
       "3  2013-01-04  13.4  13.5  13.3   13.5  29.64K\n",
       "4  2013-01-05  13.5  13.6  13.3   13.4  21.33K"
      ]
     },
     "execution_count": 3,
     "metadata": {},
     "output_type": "execute_result"
    }
   ],
   "source": [
    "df.head()"
   ]
  },
  {
   "cell_type": "code",
   "execution_count": 4,
   "id": "66f20153",
   "metadata": {},
   "outputs": [
    {
     "data": {
      "application/vnd.microsoft.datawrangler.viewer.v0+json": {
       "columns": [
        {
         "name": "index",
         "rawType": "object",
         "type": "string"
        },
        {
         "name": "Open",
         "rawType": "float64",
         "type": "float"
        },
        {
         "name": "High",
         "rawType": "float64",
         "type": "float"
        },
        {
         "name": "Low",
         "rawType": "float64",
         "type": "float"
        },
        {
         "name": "Close",
         "rawType": "float64",
         "type": "float"
        }
       ],
       "conversionMethod": "pd.DataFrame",
       "ref": "ef2bad95-1635-4ea9-b971-e72fe860804d",
       "rows": [
        [
         "count",
         "3793.0",
         "3793.0",
         "3793.0",
         "3793.0"
        ],
        [
         "mean",
         "11233.252306881097",
         "11529.29799630899",
         "10904.581544951227",
         "11240.315765884523"
        ],
        [
         "std",
         "15421.5687216527",
         "15827.119004432077",
         "14960.319731634536",
         "15422.533996220505"
        ],
        [
         "min",
         "13.3",
         "13.4",
         "13.2",
         "13.3"
        ],
        [
         "25%",
         "450.3",
         "459.6",
         "441.9",
         "451.4"
        ],
        [
         "50%",
         "5208.3",
         "5322.9",
         "5033.7",
         "5209.1"
        ],
        [
         "75%",
         "14976.2",
         "15648.3",
         "13902.3",
         "15043.0"
        ],
        [
         "max",
         "67528.7",
         "68990.6",
         "66334.9",
         "67527.9"
        ]
       ],
       "shape": {
        "columns": 4,
        "rows": 8
       }
      },
      "text/html": [
       "<div>\n",
       "<style scoped>\n",
       "    .dataframe tbody tr th:only-of-type {\n",
       "        vertical-align: middle;\n",
       "    }\n",
       "\n",
       "    .dataframe tbody tr th {\n",
       "        vertical-align: top;\n",
       "    }\n",
       "\n",
       "    .dataframe thead th {\n",
       "        text-align: right;\n",
       "    }\n",
       "</style>\n",
       "<table border=\"1\" class=\"dataframe\">\n",
       "  <thead>\n",
       "    <tr style=\"text-align: right;\">\n",
       "      <th></th>\n",
       "      <th>Open</th>\n",
       "      <th>High</th>\n",
       "      <th>Low</th>\n",
       "      <th>Close</th>\n",
       "    </tr>\n",
       "  </thead>\n",
       "  <tbody>\n",
       "    <tr>\n",
       "      <th>count</th>\n",
       "      <td>3793.000000</td>\n",
       "      <td>3793.000000</td>\n",
       "      <td>3793.000000</td>\n",
       "      <td>3793.000000</td>\n",
       "    </tr>\n",
       "    <tr>\n",
       "      <th>mean</th>\n",
       "      <td>11233.252307</td>\n",
       "      <td>11529.297996</td>\n",
       "      <td>10904.581545</td>\n",
       "      <td>11240.315766</td>\n",
       "    </tr>\n",
       "    <tr>\n",
       "      <th>std</th>\n",
       "      <td>15421.568722</td>\n",
       "      <td>15827.119004</td>\n",
       "      <td>14960.319732</td>\n",
       "      <td>15422.533996</td>\n",
       "    </tr>\n",
       "    <tr>\n",
       "      <th>min</th>\n",
       "      <td>13.300000</td>\n",
       "      <td>13.400000</td>\n",
       "      <td>13.200000</td>\n",
       "      <td>13.300000</td>\n",
       "    </tr>\n",
       "    <tr>\n",
       "      <th>25%</th>\n",
       "      <td>450.300000</td>\n",
       "      <td>459.600000</td>\n",
       "      <td>441.900000</td>\n",
       "      <td>451.400000</td>\n",
       "    </tr>\n",
       "    <tr>\n",
       "      <th>50%</th>\n",
       "      <td>5208.300000</td>\n",
       "      <td>5322.900000</td>\n",
       "      <td>5033.700000</td>\n",
       "      <td>5209.100000</td>\n",
       "    </tr>\n",
       "    <tr>\n",
       "      <th>75%</th>\n",
       "      <td>14976.200000</td>\n",
       "      <td>15648.300000</td>\n",
       "      <td>13902.300000</td>\n",
       "      <td>15043.000000</td>\n",
       "    </tr>\n",
       "    <tr>\n",
       "      <th>max</th>\n",
       "      <td>67528.700000</td>\n",
       "      <td>68990.600000</td>\n",
       "      <td>66334.900000</td>\n",
       "      <td>67527.900000</td>\n",
       "    </tr>\n",
       "  </tbody>\n",
       "</table>\n",
       "</div>"
      ],
      "text/plain": [
       "               Open          High           Low         Close\n",
       "count   3793.000000   3793.000000   3793.000000   3793.000000\n",
       "mean   11233.252307  11529.297996  10904.581545  11240.315766\n",
       "std    15421.568722  15827.119004  14960.319732  15422.533996\n",
       "min       13.300000     13.400000     13.200000     13.300000\n",
       "25%      450.300000    459.600000    441.900000    451.400000\n",
       "50%     5208.300000   5322.900000   5033.700000   5209.100000\n",
       "75%    14976.200000  15648.300000  13902.300000  15043.000000\n",
       "max    67528.700000  68990.600000  66334.900000  67527.900000"
      ]
     },
     "execution_count": 4,
     "metadata": {},
     "output_type": "execute_result"
    }
   ],
   "source": [
    "df.describe()"
   ]
  },
  {
   "cell_type": "code",
   "execution_count": 5,
   "id": "1d79cca4",
   "metadata": {},
   "outputs": [
    {
     "name": "stdout",
     "output_type": "stream",
     "text": [
      "<class 'pandas.core.frame.DataFrame'>\n",
      "RangeIndex: 3793 entries, 0 to 3792\n",
      "Data columns (total 6 columns):\n",
      " #   Column  Non-Null Count  Dtype  \n",
      "---  ------  --------------  -----  \n",
      " 0   Date    3793 non-null   object \n",
      " 1   Open    3793 non-null   float64\n",
      " 2   High    3793 non-null   float64\n",
      " 3   Low     3793 non-null   float64\n",
      " 4   Close   3793 non-null   float64\n",
      " 5   Vol.    3793 non-null   object \n",
      "dtypes: float64(4), object(2)\n",
      "memory usage: 177.9+ KB\n"
     ]
    }
   ],
   "source": [
    "df.info()"
   ]
  },
  {
   "cell_type": "code",
   "execution_count": 4,
   "id": "262bbace",
   "metadata": {},
   "outputs": [
    {
     "data": {
      "text/plain": [
       "(3793, 6)"
      ]
     },
     "execution_count": 4,
     "metadata": {},
     "output_type": "execute_result"
    }
   ],
   "source": [
    "df.shape"
   ]
  },
  {
   "cell_type": "code",
   "execution_count": 5,
   "id": "436acd72",
   "metadata": {},
   "outputs": [
    {
     "data": {
      "text/plain": [
       "(3793, 2)"
      ]
     },
     "execution_count": 5,
     "metadata": {},
     "output_type": "execute_result"
    }
   ],
   "source": [
    "#creating a new feature \n",
    "closed = df[['Date','Close']]\n",
    "closed.shape"
   ]
  },
  {
   "cell_type": "code",
   "execution_count": 6,
   "id": "99d31b36",
   "metadata": {},
   "outputs": [
    {
     "data": {
      "image/png": "[encoded data removed]",
      "text/plain": [
       "<Figure size 864x432 with 1 Axes>"
      ]
     },
     "metadata": {
      "needs_background": "light"
     },
     "output_type": "display_data"
    }
   ],
   "source": [
    "plt.figure(1,figsize=(12,6))\n",
    "plt.plot(closed['Date'], closed['Close'], color='blue', label='Close Price')\n",
    "plt.show()"
   ]
  },
  {
   "cell_type": "code",
   "execution_count": 7,
   "id": "5c39087c",
   "metadata": {},
   "outputs": [
    {
     "data": {
      "application/vnd.microsoft.datawrangler.viewer.v0+json": {
       "columns": [
        {
         "name": "index",
         "rawType": "int64",
         "type": "integer"
        },
        {
         "name": "Date",
         "rawType": "object",
         "type": "string"
        },
        {
         "name": "Close",
         "rawType": "float64",
         "type": "float"
        }
       ],
       "conversionMethod": "pd.DataFrame",
       "ref": "8d64b4d6-454e-48eb-b04a-98a5eceeea15",
       "rows": [
        [
         "2922",
         "2021-01-01",
         "29359.9"
        ],
        [
         "2923",
         "2021-01-02",
         "32193.3"
        ],
        [
         "2924",
         "2021-01-03",
         "32958.9"
        ],
        [
         "2925",
         "2021-01-04",
         "32022.6"
        ],
        [
         "2926",
         "2021-01-05",
         "33991.5"
        ],
        [
         "2927",
         "2021-01-06",
         "36793.2"
        ],
        [
         "2928",
         "2021-01-07",
         "39460.2"
        ],
        [
         "2929",
         "2021-01-08",
         "40599.3"
        ],
        [
         "2930",
         "2021-01-09",
         "40151.9"
        ],
        [
         "2931",
         "2021-01-10",
         "38192.2"
        ],
        [
         "2932",
         "2021-01-11",
         "35544.3"
        ],
        [
         "2933",
         "2021-01-12",
         "34076.1"
        ],
        [
         "2934",
         "2021-01-13",
         "37382.2"
        ],
        [
         "2935",
         "2021-01-14",
         "39175.7"
        ],
        [
         "2936",
         "2021-01-15",
         "36845.8"
        ],
        [
         "2937",
         "2021-01-16",
         "36019.5"
        ],
        [
         "2938",
         "2021-01-17",
         "35839.6"
        ],
        [
         "2939",
         "2021-01-18",
         "36613.2"
        ],
        [
         "2940",
         "2021-01-19",
         "36002.9"
        ],
        [
         "2941",
         "2021-01-20",
         "35476.3"
        ],
        [
         "2942",
         "2021-01-21",
         "30842.1"
        ],
        [
         "2943",
         "2021-01-22",
         "33000.5"
        ],
        [
         "2944",
         "2021-01-23",
         "32088.9"
        ],
        [
         "2945",
         "2021-01-24",
         "32241.3"
        ],
        [
         "2946",
         "2021-01-25",
         "32252.3"
        ],
        [
         "2947",
         "2021-01-26",
         "32502.1"
        ],
        [
         "2948",
         "2021-01-27",
         "30404.0"
        ],
        [
         "2949",
         "2021-01-28",
         "33374.8"
        ],
        [
         "2950",
         "2021-01-29",
         "34301.8"
        ],
        [
         "2951",
         "2021-01-30",
         "34283.1"
        ],
        [
         "2952",
         "2021-01-31",
         "33108.1"
        ],
        [
         "2953",
         "2021-02-01",
         "33515.7"
        ],
        [
         "2954",
         "2021-02-02",
         "35485.2"
        ],
        [
         "2955",
         "2021-02-03",
         "37646.8"
        ],
        [
         "2956",
         "2021-02-04",
         "36982.1"
        ],
        [
         "2957",
         "2021-02-05",
         "38297.6"
        ],
        [
         "2958",
         "2021-02-06",
         "39256.6"
        ],
        [
         "2959",
         "2021-02-07",
         "38852.9"
        ],
        [
         "2960",
         "2021-02-08",
         "46395.7"
        ],
        [
         "2961",
         "2021-02-09",
         "46508.6"
        ],
        [
         "2962",
         "2021-02-10",
         "44836.0"
        ],
        [
         "2963",
         "2021-02-11",
         "47990.7"
        ],
        [
         "2964",
         "2021-02-12",
         "47371.7"
        ],
        [
         "2965",
         "2021-02-13",
         "47168.7"
        ],
        [
         "2966",
         "2021-02-14",
         "48643.4"
        ],
        [
         "2967",
         "2021-02-15",
         "47936.3"
        ],
        [
         "2968",
         "2021-02-16",
         "49169.7"
        ],
        [
         "2969",
         "2021-02-17",
         "52079.2"
        ],
        [
         "2970",
         "2021-02-18",
         "51582.2"
        ],
        [
         "2971",
         "2021-02-19",
         "55906.6"
        ]
       ],
       "shape": {
        "columns": 2,
        "rows": 871
       }
      },
      "text/html": [
       "<div>\n",
       "<style scoped>\n",
       "    .dataframe tbody tr th:only-of-type {\n",
       "        vertical-align: middle;\n",
       "    }\n",
       "\n",
       "    .dataframe tbody tr th {\n",
       "        vertical-align: top;\n",
       "    }\n",
       "\n",
       "    .dataframe thead th {\n",
       "        text-align: right;\n",
       "    }\n",
       "</style>\n",
       "<table border=\"1\" class=\"dataframe\">\n",
       "  <thead>\n",
       "    <tr style=\"text-align: right;\">\n",
       "      <th></th>\n",
       "      <th>Date</th>\n",
       "      <th>Close</th>\n",
       "    </tr>\n",
       "  </thead>\n",
       "  <tbody>\n",
       "    <tr>\n",
       "      <th>2922</th>\n",
       "      <td>2021-01-01</td>\n",
       "      <td>29359.9</td>\n",
       "    </tr>\n",
       "    <tr>\n",
       "      <th>2923</th>\n",
       "      <td>2021-01-02</td>\n",
       "      <td>32193.3</td>\n",
       "    </tr>\n",
       "    <tr>\n",
       "      <th>2924</th>\n",
       "      <td>2021-01-03</td>\n",
       "      <td>32958.9</td>\n",
       "    </tr>\n",
       "    <tr>\n",
       "      <th>2925</th>\n",
       "      <td>2021-01-04</td>\n",
       "      <td>32022.6</td>\n",
       "    </tr>\n",
       "    <tr>\n",
       "      <th>2926</th>\n",
       "      <td>2021-01-05</td>\n",
       "      <td>33991.5</td>\n",
       "    </tr>\n",
       "    <tr>\n",
       "      <th>...</th>\n",
       "      <td>...</td>\n",
       "      <td>...</td>\n",
       "    </tr>\n",
       "    <tr>\n",
       "      <th>3788</th>\n",
       "      <td>2023-05-17</td>\n",
       "      <td>27403.1</td>\n",
       "    </tr>\n",
       "    <tr>\n",
       "      <th>3789</th>\n",
       "      <td>2023-05-18</td>\n",
       "      <td>26828.0</td>\n",
       "    </tr>\n",
       "    <tr>\n",
       "      <th>3790</th>\n",
       "      <td>2023-05-19</td>\n",
       "      <td>26882.9</td>\n",
       "    </tr>\n",
       "    <tr>\n",
       "      <th>3791</th>\n",
       "      <td>2023-05-20</td>\n",
       "      <td>27116.2</td>\n",
       "    </tr>\n",
       "    <tr>\n",
       "      <th>3792</th>\n",
       "      <td>2023-05-21</td>\n",
       "      <td>27181.2</td>\n",
       "    </tr>\n",
       "  </tbody>\n",
       "</table>\n",
       "<p>871 rows × 2 columns</p>\n",
       "</div>"
      ],
      "text/plain": [
       "            Date    Close\n",
       "2922  2021-01-01  29359.9\n",
       "2923  2021-01-02  32193.3\n",
       "2924  2021-01-03  32958.9\n",
       "2925  2021-01-04  32022.6\n",
       "2926  2021-01-05  33991.5\n",
       "...          ...      ...\n",
       "3788  2023-05-17  27403.1\n",
       "3789  2023-05-18  26828.0\n",
       "3790  2023-05-19  26882.9\n",
       "3791  2023-05-20  27116.2\n",
       "3792  2023-05-21  27181.2\n",
       "\n",
       "[871 rows x 2 columns]"
      ]
     },
     "execution_count": 7,
     "metadata": {},
     "output_type": "execute_result"
    }
   ],
   "source": [
    "price = closed[closed['Date'] >= '2021-01-01'] #in bracket there is a condition \n",
    "#that says just put the data from 2021-01-01 to the end of the data set\n",
    "price"
   ]
  },
  {
   "cell_type": "code",
   "execution_count": 12,
   "id": "b953d3e9",
   "metadata": {},
   "outputs": [
    {
     "data": {
      "image/png": "[encoded data removed]",
      "text/plain": [
       "<Figure size 864x432 with 1 Axes>"
      ]
     },
     "metadata": {
      "needs_background": "light"
     },
     "output_type": "display_data"
    }
   ],
   "source": [
    "plt.figure(1,figsize=(12,6))\n",
    "plt.plot(price['Date'], price['Close'], color='blue', label='Close Price')\n",
    "plt.show()"
   ]
  },
  {
   "cell_type": "code",
   "execution_count": 8,
   "id": "eb5bfce4",
   "metadata": {},
   "outputs": [
    {
     "name": "stdout",
     "output_type": "stream",
     "text": [
      "2922    29359.9\n",
      "2923    32193.3\n",
      "2924    32958.9\n",
      "Name: Close, dtype: float64\n"
     ]
    }
   ],
   "source": [
    "x =price['Close'][0:3]\n",
    "print(x)"
   ]
  },
  {
   "cell_type": "code",
   "execution_count": 9,
   "id": "1e584662",
   "metadata": {},
   "outputs": [
    {
     "data": {
      "text/plain": [
       "(871,)"
      ]
     },
     "execution_count": 9,
     "metadata": {},
     "output_type": "execute_result"
    }
   ],
   "source": [
    "x = price['Close']\n",
    "x.shape"
   ]
  },
  {
   "cell_type": "code",
   "execution_count": 10,
   "id": "be8f7107",
   "metadata": {},
   "outputs": [],
   "source": [
    "# Normalizing the data\n",
    "scaler = MinMaxScaler(feature_range=(0,1)) #minmax scaler is used to scale the data between 0 and 1\n",
    "x  = scaler.fit_transform(np.array(x).reshape(-1,1)) #this is used to fit the data and transform it into a numpy array"
   ]
  },
  {
   "cell_type": "code",
   "execution_count": 11,
   "id": "e48e8ef0",
   "metadata": {},
   "outputs": [],
   "source": [
    "x_train = x[0:650]\n",
    "x_test = x[650:750] #this is used to split the data into training and testing data\n",
    "x_val = x[750:] "
   ]
  },
  {
   "cell_type": "code",
   "execution_count": 26,
   "id": "93eb658f",
   "metadata": {},
   "outputs": [
    {
     "name": "stdout",
     "output_type": "stream",
     "text": [
      "(639, 10)\n",
      "(89, 10)\n",
      "(110, 10)\n"
     ]
    }
   ],
   "source": [
    "#train dataset\n",
    "x1=[]\n",
    "y1=[]\n",
    "a=[]\n",
    "b=[]\n",
    "for i in range(len(x_train)-10-1):\n",
    "    a = x_train[i:i+10,0] #this is used to create a list of 5 elements from the training data\n",
    "    b = x_train[i+10] #this is used to create a list of 1 element from the training data\n",
    "    x1.append(a)\n",
    "    y1.append(b)\n",
    "\n",
    "x_train1 = np.array(x1)\n",
    "y_train1 = np.array(y1)\n",
    "    \n",
    "print(x_train1.shape)\n",
    "x_train1.shape, y_train1.shape\n",
    "\n",
    " #dataset for test\n",
    "x2=[]\n",
    "y2=[]\n",
    "c=[]\n",
    "d=[]\n",
    "for i in range(len(x_test)-10-1):\n",
    "    c = x_test[i:i+10,0] #this is used to create a list of 5 elements from the training data\n",
    "    d = x_test[i+10] #this is used to create a list of 1 element from the training data\n",
    "    x2.append(c)\n",
    "    y2.append(d)\n",
    "\n",
    "x_test1 = np.array(x2)\n",
    "y_test1 = np.array(y2)\n",
    "    \n",
    "print(x_test1.shape)\n",
    "\n",
    "#val datasset\n",
    "x3=[]\n",
    "y3=[]\n",
    "e=[]\n",
    "f=[]\n",
    "for i in range(len(x_val)-10-1):\n",
    "    e = x_val[i:i+10,0] #this is used to create a list of 5 elements from the training data\n",
    "    f = x_val[i+10] #this is used to create a list of 1 element from the training data\n",
    "    x3.append(e)\n",
    "    y3.append(f)\n",
    "\n",
    "x_val1 = np.array(x3)\n",
    "y_val1 = np.array(y3)\n",
    "\n",
    "print(x_val1.shape)\n",
    "\n"
   ]
  },
  {
   "cell_type": "code",
   "execution_count": 27,
   "id": "97c6f67b",
   "metadata": {},
   "outputs": [
    {
     "name": "stdout",
     "output_type": "stream",
     "text": [
      "(639, 10, 1)\n",
      "(89, 10, 1)\n",
      "(110, 10, 1)\n"
     ]
    }
   ],
   "source": [
    "#lstm format [tedad, length, features]\n",
    "#so we need reshaping becayse we need 3 dimension\n",
    "x_train1 = x_train1.reshape(639,10,1)\n",
    "x_test1 = x_test1.reshape(89,10,1)\n",
    "x_val1 = x_val1.reshape(110,10,1)\n",
    "\n",
    "\n",
    "print(x_train1.shape)\n",
    "print(x_test1.shape)\n",
    "print(x_val1.shape)"
   ]
  },
  {
   "cell_type": "code",
   "execution_count": 28,
   "id": "bb29c00a",
   "metadata": {},
   "outputs": [
    {
     "name": "stdout",
     "output_type": "stream",
     "text": [
      "Model: \"sequential_1\"\n",
      "_________________________________________________________________\n",
      " Layer (type)                Output Shape              Param #   \n",
      "=================================================================\n",
      " lstm_1 (LSTM)               (None, 10)                480       \n",
      "                                                                 \n",
      " dense_1 (Dense)             (None, 1)                 11        \n",
      "                                                                 \n",
      "=================================================================\n",
      "Total params: 491 (1.92 KB)\n",
      "Trainable params: 491 (1.92 KB)\n",
      "Non-trainable params: 0 (0.00 Byte)\n",
      "_________________________________________________________________\n"
     ]
    }
   ],
   "source": [
    "#making the model\n",
    "model = Sequential()\n",
    "\n",
    "model.add(LSTM(units=10, activation='relu', input_shape = (None,1)))\n",
    "model.add(Dense(1))\n",
    "\n",
    "#compiling the model\n",
    "model.compile(loss=\"mean_squared_error\", optimizer='adam')\n",
    "\n",
    "model.summary()"
   ]
  },
  {
   "cell_type": "code",
   "execution_count": 29,
   "id": "d6d211af",
   "metadata": {},
   "outputs": [
    {
     "name": "stdout",
     "output_type": "stream",
     "text": [
      "Epoch 1/70\n",
      "20/20 [==============================] - 1s 15ms/step - loss: 0.3299 - val_loss: 0.0365\n",
      "Epoch 2/70\n",
      "20/20 [==============================] - 0s 4ms/step - loss: 0.2775 - val_loss: 0.0288\n",
      "Epoch 3/70\n",
      "20/20 [==============================] - 0s 4ms/step - loss: 0.2495 - val_loss: 0.0231\n",
      "Epoch 4/70\n",
      "20/20 [==============================] - 0s 4ms/step - loss: 0.2286 - val_loss: 0.0180\n",
      "Epoch 5/70\n",
      "20/20 [==============================] - 0s 4ms/step - loss: 0.2096 - val_loss: 0.0134\n",
      "Epoch 6/70\n",
      "20/20 [==============================] - 0s 4ms/step - loss: 0.1902 - val_loss: 0.0091\n",
      "Epoch 7/70\n",
      "20/20 [==============================] - 0s 4ms/step - loss: 0.1660 - val_loss: 0.0049\n",
      "Epoch 8/70\n",
      "20/20 [==============================] - 0s 4ms/step - loss: 0.1289 - val_loss: 0.0024\n",
      "Epoch 9/70\n",
      "20/20 [==============================] - 0s 4ms/step - loss: 0.0720 - val_loss: 0.0083\n",
      "Epoch 10/70\n",
      "20/20 [==============================] - 0s 4ms/step - loss: 0.0186 - val_loss: 0.0275\n",
      "Epoch 11/70\n",
      "20/20 [==============================] - 0s 3ms/step - loss: 0.0138 - val_loss: 0.0177\n",
      "Epoch 12/70\n",
      "20/20 [==============================] - 0s 4ms/step - loss: 0.0122 - val_loss: 0.0185\n",
      "Epoch 13/70\n",
      "20/20 [==============================] - 0s 4ms/step - loss: 0.0115 - val_loss: 0.0160\n",
      "Epoch 14/70\n",
      "20/20 [==============================] - 0s 4ms/step - loss: 0.0109 - val_loss: 0.0144\n",
      "Epoch 15/70\n",
      "20/20 [==============================] - 0s 4ms/step - loss: 0.0105 - val_loss: 0.0133\n",
      "Epoch 16/70\n",
      "20/20 [==============================] - 0s 4ms/step - loss: 0.0102 - val_loss: 0.0123\n",
      "Epoch 17/70\n",
      "20/20 [==============================] - 0s 7ms/step - loss: 0.0099 - val_loss: 0.0113\n",
      "Epoch 18/70\n",
      "20/20 [==============================] - 0s 3ms/step - loss: 0.0097 - val_loss: 0.0104\n",
      "Epoch 19/70\n",
      "20/20 [==============================] - 0s 3ms/step - loss: 0.0095 - val_loss: 0.0097\n",
      "Epoch 20/70\n",
      "20/20 [==============================] - 0s 3ms/step - loss: 0.0094 - val_loss: 0.0090\n",
      "Epoch 21/70\n",
      "20/20 [==============================] - 0s 4ms/step - loss: 0.0092 - val_loss: 0.0089\n",
      "Epoch 22/70\n",
      "20/20 [==============================] - 0s 4ms/step - loss: 0.0092 - val_loss: 0.0082\n",
      "Epoch 23/70\n",
      "20/20 [==============================] - 0s 4ms/step - loss: 0.0090 - val_loss: 0.0081\n",
      "Epoch 24/70\n",
      "20/20 [==============================] - 0s 3ms/step - loss: 0.0089 - val_loss: 0.0076\n",
      "Epoch 25/70\n",
      "20/20 [==============================] - 0s 4ms/step - loss: 0.0088 - val_loss: 0.0074\n",
      "Epoch 26/70\n",
      "20/20 [==============================] - 0s 3ms/step - loss: 0.0087 - val_loss: 0.0075\n",
      "Epoch 27/70\n",
      "20/20 [==============================] - 0s 3ms/step - loss: 0.0086 - val_loss: 0.0069\n",
      "Epoch 28/70\n",
      "20/20 [==============================] - 0s 4ms/step - loss: 0.0085 - val_loss: 0.0066\n",
      "Epoch 29/70\n",
      "20/20 [==============================] - 0s 4ms/step - loss: 0.0084 - val_loss: 0.0065\n",
      "Epoch 30/70\n",
      "20/20 [==============================] - 0s 3ms/step - loss: 0.0083 - val_loss: 0.0065\n",
      "Epoch 31/70\n",
      "20/20 [==============================] - 0s 4ms/step - loss: 0.0082 - val_loss: 0.0066\n",
      "Epoch 32/70\n",
      "20/20 [==============================] - 0s 3ms/step - loss: 0.0081 - val_loss: 0.0061\n",
      "Epoch 33/70\n",
      "20/20 [==============================] - 0s 4ms/step - loss: 0.0079 - val_loss: 0.0059\n",
      "Epoch 34/70\n",
      "20/20 [==============================] - 0s 4ms/step - loss: 0.0078 - val_loss: 0.0058\n",
      "Epoch 35/70\n",
      "20/20 [==============================] - 0s 4ms/step - loss: 0.0076 - val_loss: 0.0058\n",
      "Epoch 36/70\n",
      "20/20 [==============================] - 0s 3ms/step - loss: 0.0074 - val_loss: 0.0056\n",
      "Epoch 37/70\n",
      "20/20 [==============================] - 0s 4ms/step - loss: 0.0072 - val_loss: 0.0053\n",
      "Epoch 38/70\n",
      "20/20 [==============================] - 0s 4ms/step - loss: 0.0070 - val_loss: 0.0056\n",
      "Epoch 39/70\n",
      "20/20 [==============================] - 0s 3ms/step - loss: 0.0069 - val_loss: 0.0052\n",
      "Epoch 40/70\n",
      "20/20 [==============================] - 0s 3ms/step - loss: 0.0067 - val_loss: 0.0047\n",
      "Epoch 41/70\n",
      "20/20 [==============================] - 0s 4ms/step - loss: 0.0065 - val_loss: 0.0045\n",
      "Epoch 42/70\n",
      "20/20 [==============================] - 0s 4ms/step - loss: 0.0062 - val_loss: 0.0044\n",
      "Epoch 43/70\n",
      "20/20 [==============================] - 0s 4ms/step - loss: 0.0059 - val_loss: 0.0043\n",
      "Epoch 44/70\n",
      "20/20 [==============================] - 0s 4ms/step - loss: 0.0057 - val_loss: 0.0038\n",
      "Epoch 45/70\n",
      "20/20 [==============================] - 0s 5ms/step - loss: 0.0054 - val_loss: 0.0036\n",
      "Epoch 46/70\n",
      "20/20 [==============================] - 0s 5ms/step - loss: 0.0052 - val_loss: 0.0032\n",
      "Epoch 47/70\n",
      "20/20 [==============================] - 0s 4ms/step - loss: 0.0049 - val_loss: 0.0030\n",
      "Epoch 48/70\n",
      "20/20 [==============================] - 0s 4ms/step - loss: 0.0047 - val_loss: 0.0026\n",
      "Epoch 49/70\n",
      "20/20 [==============================] - 0s 4ms/step - loss: 0.0047 - val_loss: 0.0024\n",
      "Epoch 50/70\n",
      "20/20 [==============================] - 0s 4ms/step - loss: 0.0044 - val_loss: 0.0021\n",
      "Epoch 51/70\n",
      "20/20 [==============================] - 0s 5ms/step - loss: 0.0041 - val_loss: 0.0020\n",
      "Epoch 52/70\n",
      "20/20 [==============================] - 0s 4ms/step - loss: 0.0040 - val_loss: 0.0016\n",
      "Epoch 53/70\n",
      "20/20 [==============================] - 0s 3ms/step - loss: 0.0039 - val_loss: 0.0014\n",
      "Epoch 54/70\n",
      "20/20 [==============================] - 0s 3ms/step - loss: 0.0037 - val_loss: 0.0014\n",
      "Epoch 55/70\n",
      "20/20 [==============================] - 0s 3ms/step - loss: 0.0037 - val_loss: 0.0012\n",
      "Epoch 56/70\n",
      "20/20 [==============================] - 0s 3ms/step - loss: 0.0036 - val_loss: 0.0011\n",
      "Epoch 57/70\n",
      "20/20 [==============================] - 0s 4ms/step - loss: 0.0035 - val_loss: 0.0011\n",
      "Epoch 58/70\n",
      "20/20 [==============================] - 0s 3ms/step - loss: 0.0034 - val_loss: 0.0010\n",
      "Epoch 59/70\n",
      "20/20 [==============================] - 0s 3ms/step - loss: 0.0034 - val_loss: 9.0241e-04\n",
      "Epoch 60/70\n",
      "20/20 [==============================] - 0s 4ms/step - loss: 0.0033 - val_loss: 9.0096e-04\n",
      "Epoch 61/70\n",
      "20/20 [==============================] - 0s 6ms/step - loss: 0.0033 - val_loss: 8.7334e-04\n",
      "Epoch 62/70\n",
      "20/20 [==============================] - 0s 5ms/step - loss: 0.0032 - val_loss: 8.4847e-04\n",
      "Epoch 63/70\n",
      "20/20 [==============================] - 0s 3ms/step - loss: 0.0032 - val_loss: 8.2919e-04\n",
      "Epoch 64/70\n",
      "20/20 [==============================] - 0s 3ms/step - loss: 0.0032 - val_loss: 8.2333e-04\n",
      "Epoch 65/70\n",
      "20/20 [==============================] - 0s 4ms/step - loss: 0.0031 - val_loss: 8.1194e-04\n",
      "Epoch 66/70\n",
      "20/20 [==============================] - 0s 4ms/step - loss: 0.0031 - val_loss: 8.0587e-04\n",
      "Epoch 67/70\n",
      "20/20 [==============================] - 0s 4ms/step - loss: 0.0031 - val_loss: 8.0375e-04\n",
      "Epoch 68/70\n",
      "20/20 [==============================] - 0s 3ms/step - loss: 0.0032 - val_loss: 7.9814e-04\n",
      "Epoch 69/70\n",
      "20/20 [==============================] - 0s 5ms/step - loss: 0.0030 - val_loss: 7.8855e-04\n",
      "Epoch 70/70\n",
      "20/20 [==============================] - 0s 3ms/step - loss: 0.0030 - val_loss: 7.9818e-04\n"
     ]
    }
   ],
   "source": [
    "#teaching model\n",
    "history = model.fit(x_train1, y_train1,\n",
    "                    validation_data=(x_val1, y_val1),\n",
    "                    epochs=70,\n",
    "                    validation_split=0.2)"
   ]
  },
  {
   "cell_type": "code",
   "execution_count": 30,
   "id": "ddfc153e",
   "metadata": {},
   "outputs": [
    {
     "name": "stdout",
     "output_type": "stream",
     "text": [
      "20/20 [==============================] - 0s 1ms/step\n",
      "3/3 [==============================] - 0s 0s/step\n",
      "4/4 [==============================] - 0s 2ms/step\n"
     ]
    }
   ],
   "source": [
    "train_predict = model.predict(x_train1)\n",
    "test_predict = model.predict(x_test1)\n",
    "val_predict = model.predict(x_val1)"
   ]
  },
  {
   "cell_type": "code",
   "execution_count": 31,
   "id": "435fefb8",
   "metadata": {},
   "outputs": [],
   "source": [
    "train_predict = scaler.inverse_transform(train_predict)\n",
    "test_predict = scaler.inverse_transform(test_predict)\n",
    "val_predict = scaler.inverse_transform(val_predict)\n",
    "\n",
    "original_ytrain = scaler.inverse_transform(y_train1.reshape(-1,1))\n",
    "original_ytest = scaler.inverse_transform(y_test1.reshape(-1,1))\n",
    "original_yval = scaler.inverse_transform(y_val1.reshape(-1,1))"
   ]
  },
  {
   "cell_type": "code",
   "execution_count": 32,
   "id": "43491973",
   "metadata": {},
   "outputs": [
    {
     "data": {
      "image/png": "[encoded data removed]",
      "text/plain": [
       "<Figure size 864x432 with 1 Axes>"
      ]
     },
     "metadata": {
      "needs_background": "light"
     },
     "output_type": "display_data"
    }
   ],
   "source": [
    "#training set evaluation\n",
    "plt.figure(1,figsize=(12,6))\n",
    "\n",
    "plt.title('Train data vs predicted train data')\n",
    "plt.plot(original_ytrain)\n",
    "plt.plot(train_predict)\n",
    "plt.show()"
   ]
  },
  {
   "cell_type": "code",
   "execution_count": 33,
   "id": "8dc3ebe3",
   "metadata": {},
   "outputs": [
    {
     "data": {
      "image/png": "[encoded data removed]",
      "text/plain": [
       "<Figure size 864x432 with 1 Axes>"
      ]
     },
     "metadata": {
      "needs_background": "light"
     },
     "output_type": "display_data"
    }
   ],
   "source": [
    "plt.figure(1,figsize=(12,6))\n",
    "\n",
    "plt.title('Test data vs predicted test data')\n",
    "plt.plot(original_ytest , 'b')\n",
    "plt.plot(test_predict, 'g')\n",
    "plt.show()"
   ]
  },
  {
   "cell_type": "code",
   "execution_count": 34,
   "id": "4c730d79",
   "metadata": {},
   "outputs": [
    {
     "data": {
      "image/png": "[encoded data removed]",
      "text/plain": [
       "<Figure size 864x432 with 1 Axes>"
      ]
     },
     "metadata": {
      "needs_background": "light"
     },
     "output_type": "display_data"
    }
   ],
   "source": [
    "plt.figure(1,figsize=(12,6))\n",
    "\n",
    "plt.title('validation data vs predicted validation data')\n",
    "plt.plot(original_yval, 'g')\n",
    "plt.plot(val_predict , 'b')\n",
    "plt.show()"
   ]
  },
  {
   "cell_type": "code",
   "execution_count": null,
   "id": "a3e56d3b",
   "metadata": {},
   "outputs": [],
   "source": []
  }
 ],
 "metadata": {
  "kernelspec": {
   "display_name": "base",
   "language": "python",
   "name": "python3"
  },
  "language_info": {
   "codemirror_mode": {
    "name": "ipython",
    "version": 3
   },
   "file_extension": ".py",
   "mimetype": "text/x-python",
   "name": "python",
   "nbconvert_exporter": "python",
   "pygments_lexer": "ipython3",
   "version": "3.8.8"
  }
 },
 "nbformat": 4,
 "nbformat_minor": 5
}
